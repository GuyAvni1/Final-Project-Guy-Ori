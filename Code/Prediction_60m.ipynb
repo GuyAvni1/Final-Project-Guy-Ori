{
  "nbformat": 4,
  "nbformat_minor": 0,
  "metadata": {
    "colab": {
      "provenance": [],
      "authorship_tag": "ABX9TyOSmIAziRLoP98gNKO9jLNe",
      "include_colab_link": true
    },
    "kernelspec": {
      "name": "python3",
      "display_name": "Python 3"
    },
    "language_info": {
      "name": "python"
    }
  },
  "cells": [
    {
      "cell_type": "markdown",
      "metadata": {
        "id": "view-in-github",
        "colab_type": "text"
      },
      "source": [
        "<a href=\"https://colab.research.google.com/github/GuyAvni1/Final-Project-Guy-Ori/blob/main/Code/Prediction_60m.ipynb\" target=\"_parent\"><img src=\"https://colab.research.google.com/assets/colab-badge.svg\" alt=\"Open In Colab\"/></a>"
      ]
    },
    {
      "cell_type": "code",
      "execution_count": 1,
      "metadata": {
        "id": "QhcOqxvVzEcE"
      },
      "outputs": [],
      "source": [
        "import pandas as pd\n",
        "import numpy as np\n",
        "import sklearn\n",
        "import seaborn as sns\n",
        "import matplotlib.pyplot as plt\n",
        "from sklearn.svm import SVC, LinearSVC\n",
        "from sklearn.metrics import classification_report\n",
        "from sklearn.model_selection import train_test_split\n",
        "from sklearn.preprocessing import StandardScaler\n",
        "from sklearn.metrics import confusion_matrix, ConfusionMatrixDisplay"
      ]
    },
    {
      "cell_type": "code",
      "source": [
        "pd.set_option('display.max_rows', 999)\n",
        "pd.set_option('display.max_columns', 999)"
      ],
      "metadata": {
        "id": "VgxrZyQDh6Ak"
      },
      "execution_count": 2,
      "outputs": []
    },
    {
      "cell_type": "code",
      "source": [
        "from google.colab import drive\n",
        "drive.mount('/content/drive')"
      ],
      "metadata": {
        "colab": {
          "base_uri": "https://localhost:8080/"
        },
        "id": "VPzLH75xzF6p",
        "outputId": "5e0e7c58-f3e8-4898-8bc2-c5a6337537b2"
      },
      "execution_count": 3,
      "outputs": [
        {
          "output_type": "stream",
          "name": "stdout",
          "text": [
            "Mounted at /content/drive\n"
          ]
        }
      ]
    },
    {
      "cell_type": "code",
      "source": [
        "#Reading the data set from the drive\n",
        "raw = pd.read_csv(\"/content/drive/MyDrive/Final_Project_Data/future_of_48m.csv\")\n",
        "# print(raw)\n",
        "data = raw\n",
        "# Define a mapping of labels to numerical values to creater baseline lable feature for training\n",
        "label_mapping = {'CN': 0,'MCI': 1,  'Dementia': 2}\n",
        "\n",
        "# Apply label encoding to the 'DX' column\n",
        "data['DX'] = data['DX'].map(label_mapping)\n",
        "data #Showing an example of the first 5 rows.\n"
      ],
      "metadata": {
        "colab": {
          "base_uri": "https://localhost:8080/",
          "height": 443
        },
        "id": "Gieoh2oV7827",
        "outputId": "7a4c485a-1a70-49ee-bb17-a158e067b875"
      },
      "execution_count": 4,
      "outputs": [
        {
          "output_type": "execute_result",
          "data": {
            "text/plain": [
              "       RID  VISCODE  DX       FDG      AV45        ABETA         TAU  \\\n",
              "0        8        0   0  1.209650  1.021804  1700.000000  440.200000   \n",
              "1        8       12   0  1.175050  1.049014  1700.000000  397.700000   \n",
              "2        8       36   0  1.253530  1.092582  1233.218897  428.612179   \n",
              "3        8       48   0  1.179365  1.093910  1181.735760  426.865393   \n",
              "4        8       72   0  1.230678  1.033934  1644.518866  426.957080   \n",
              "...    ...      ...  ..       ...       ...          ...         ...   \n",
              "1939  6580        0   0  1.192599  1.136356  1055.163181  418.132500   \n",
              "1940  6581        0   0  1.292795  1.107553  1312.965484  424.073483   \n",
              "1941  6586        0   1  1.116790  1.240984   748.690264  412.114058   \n",
              "1942  6635        0   1  1.300330  1.156160  1140.371540  428.120509   \n",
              "1943  6668        0   1  1.139220  1.231450   786.887546  411.687295   \n",
              "\n",
              "           PTAU  CDRSB  ADAS11  ADAS13  MMSE  RAVLT_immediate  \\\n",
              "0     37.510000    0.0    5.00    7.00  28.0             51.0   \n",
              "1     34.280000    0.0    3.00    5.00  28.0             42.0   \n",
              "2     41.181601    0.0    6.33    9.33  29.0             44.0   \n",
              "3     40.759150    0.0   13.00   17.00  30.0             49.0   \n",
              "4     39.822884    0.0    9.00   13.00  29.0             47.0   \n",
              "...         ...    ...     ...     ...   ...              ...   \n",
              "1939  39.595107    0.0   10.33   16.33  27.0             30.0   \n",
              "1940  40.778235    0.0    3.33    6.33  30.0             60.0   \n",
              "1941  39.138017    1.0   10.67   14.67  27.0             27.0   \n",
              "1942  42.835446    1.0    8.67   12.67  28.0             51.0   \n",
              "1943  40.019297    3.0   12.00   22.00  26.0             24.0   \n",
              "\n",
              "      RAVLT_forgetting  RAVLT_perc_forgetting   FAQ       MOCA  \\\n",
              "0                  3.0               25.00000   0.0  25.037229   \n",
              "1                  5.0               50.00000   0.0  24.596106   \n",
              "2                  6.0               50.00000   0.0  25.125017   \n",
              "3                  4.0               26.66670   0.0  25.330426   \n",
              "4                  5.0               45.45450   0.0  24.000000   \n",
              "...                ...                    ...   ...        ...   \n",
              "1939               5.0               62.50000   0.0  24.000000   \n",
              "1940               1.0                7.14286   0.0  28.000000   \n",
              "1941               3.0               50.00000   0.0  21.000000   \n",
              "1942               0.0                0.00000   0.0  23.000000   \n",
              "1943               6.0              100.00000  12.0  22.000000   \n",
              "\n",
              "      RAVLT_learning    Ventricles  Hippocampus    WholeBrain   Entorhinal  \\\n",
              "0                7.0  18757.000000  6080.000000  9.486840e+05  4190.000000   \n",
              "1                5.0  37297.615921  6777.052702  9.866253e+05  3603.074759   \n",
              "2                7.0  24710.063054  7999.672176  1.079309e+06  4045.676692   \n",
              "3                9.0  39572.453761  7809.100937  1.073322e+06  4157.843398   \n",
              "4                6.0  24318.815507  7434.220253  1.055726e+06  4238.133154   \n",
              "...              ...           ...          ...           ...          ...   \n",
              "1939             3.0  63055.700000  6824.300000  9.162650e+05  3604.000000   \n",
              "1940             8.0  61263.200000  8346.200000  1.203690e+06  3457.000000   \n",
              "1941             2.0  49620.300000  7323.400000  1.109000e+06  4474.000000   \n",
              "1942             4.0  21121.284551  8230.122079  1.103257e+06  4078.818244   \n",
              "1943             2.0  39422.991986  5472.486883  9.691213e+05  2916.285939   \n",
              "\n",
              "          Fusiform       MidTemp           ICV Transition  \n",
              "0     14043.000000  20076.000000  1.396070e+06     CNtoCN  \n",
              "1     17443.920391  19002.838608  1.526902e+06     CNtoCN  \n",
              "2     19288.594171  22081.719685  1.584148e+06     CNtoCN  \n",
              "3     18518.618597  21665.897115  1.649316e+06     CNtoCN  \n",
              "4     19176.452663  20840.038994  1.537239e+06    CNtoMCI  \n",
              "...            ...           ...           ...        ...  \n",
              "1939  18194.000000  19633.000000  1.326620e+06     CNtoCN  \n",
              "1940  20879.000000  23223.000000  1.708600e+06     CNtoCN  \n",
              "1941  18957.000000  22376.000000  1.553610e+06   MCItoMCI  \n",
              "1942  19307.735806  22885.823078  1.544989e+06   MCItoMCI  \n",
              "1943  16640.200543  18431.342770  1.473842e+06    MCItoAD  \n",
              "\n",
              "[1944 rows x 26 columns]"
            ],
            "text/html": [
              "\n",
              "  <div id=\"df-db45c7ab-9a65-43f9-8a06-27952b51ac6b\" class=\"colab-df-container\">\n",
              "    <div>\n",
              "<style scoped>\n",
              "    .dataframe tbody tr th:only-of-type {\n",
              "        vertical-align: middle;\n",
              "    }\n",
              "\n",
              "    .dataframe tbody tr th {\n",
              "        vertical-align: top;\n",
              "    }\n",
              "\n",
              "    .dataframe thead th {\n",
              "        text-align: right;\n",
              "    }\n",
              "</style>\n",
              "<table border=\"1\" class=\"dataframe\">\n",
              "  <thead>\n",
              "    <tr style=\"text-align: right;\">\n",
              "      <th></th>\n",
              "      <th>RID</th>\n",
              "      <th>VISCODE</th>\n",
              "      <th>DX</th>\n",
              "      <th>FDG</th>\n",
              "      <th>AV45</th>\n",
              "      <th>ABETA</th>\n",
              "      <th>TAU</th>\n",
              "      <th>PTAU</th>\n",
              "      <th>CDRSB</th>\n",
              "      <th>ADAS11</th>\n",
              "      <th>ADAS13</th>\n",
              "      <th>MMSE</th>\n",
              "      <th>RAVLT_immediate</th>\n",
              "      <th>RAVLT_forgetting</th>\n",
              "      <th>RAVLT_perc_forgetting</th>\n",
              "      <th>FAQ</th>\n",
              "      <th>MOCA</th>\n",
              "      <th>RAVLT_learning</th>\n",
              "      <th>Ventricles</th>\n",
              "      <th>Hippocampus</th>\n",
              "      <th>WholeBrain</th>\n",
              "      <th>Entorhinal</th>\n",
              "      <th>Fusiform</th>\n",
              "      <th>MidTemp</th>\n",
              "      <th>ICV</th>\n",
              "      <th>Transition</th>\n",
              "    </tr>\n",
              "  </thead>\n",
              "  <tbody>\n",
              "    <tr>\n",
              "      <th>0</th>\n",
              "      <td>8</td>\n",
              "      <td>0</td>\n",
              "      <td>0</td>\n",
              "      <td>1.209650</td>\n",
              "      <td>1.021804</td>\n",
              "      <td>1700.000000</td>\n",
              "      <td>440.200000</td>\n",
              "      <td>37.510000</td>\n",
              "      <td>0.0</td>\n",
              "      <td>5.00</td>\n",
              "      <td>7.00</td>\n",
              "      <td>28.0</td>\n",
              "      <td>51.0</td>\n",
              "      <td>3.0</td>\n",
              "      <td>25.00000</td>\n",
              "      <td>0.0</td>\n",
              "      <td>25.037229</td>\n",
              "      <td>7.0</td>\n",
              "      <td>18757.000000</td>\n",
              "      <td>6080.000000</td>\n",
              "      <td>9.486840e+05</td>\n",
              "      <td>4190.000000</td>\n",
              "      <td>14043.000000</td>\n",
              "      <td>20076.000000</td>\n",
              "      <td>1.396070e+06</td>\n",
              "      <td>CNtoCN</td>\n",
              "    </tr>\n",
              "    <tr>\n",
              "      <th>1</th>\n",
              "      <td>8</td>\n",
              "      <td>12</td>\n",
              "      <td>0</td>\n",
              "      <td>1.175050</td>\n",
              "      <td>1.049014</td>\n",
              "      <td>1700.000000</td>\n",
              "      <td>397.700000</td>\n",
              "      <td>34.280000</td>\n",
              "      <td>0.0</td>\n",
              "      <td>3.00</td>\n",
              "      <td>5.00</td>\n",
              "      <td>28.0</td>\n",
              "      <td>42.0</td>\n",
              "      <td>5.0</td>\n",
              "      <td>50.00000</td>\n",
              "      <td>0.0</td>\n",
              "      <td>24.596106</td>\n",
              "      <td>5.0</td>\n",
              "      <td>37297.615921</td>\n",
              "      <td>6777.052702</td>\n",
              "      <td>9.866253e+05</td>\n",
              "      <td>3603.074759</td>\n",
              "      <td>17443.920391</td>\n",
              "      <td>19002.838608</td>\n",
              "      <td>1.526902e+06</td>\n",
              "      <td>CNtoCN</td>\n",
              "    </tr>\n",
              "    <tr>\n",
              "      <th>2</th>\n",
              "      <td>8</td>\n",
              "      <td>36</td>\n",
              "      <td>0</td>\n",
              "      <td>1.253530</td>\n",
              "      <td>1.092582</td>\n",
              "      <td>1233.218897</td>\n",
              "      <td>428.612179</td>\n",
              "      <td>41.181601</td>\n",
              "      <td>0.0</td>\n",
              "      <td>6.33</td>\n",
              "      <td>9.33</td>\n",
              "      <td>29.0</td>\n",
              "      <td>44.0</td>\n",
              "      <td>6.0</td>\n",
              "      <td>50.00000</td>\n",
              "      <td>0.0</td>\n",
              "      <td>25.125017</td>\n",
              "      <td>7.0</td>\n",
              "      <td>24710.063054</td>\n",
              "      <td>7999.672176</td>\n",
              "      <td>1.079309e+06</td>\n",
              "      <td>4045.676692</td>\n",
              "      <td>19288.594171</td>\n",
              "      <td>22081.719685</td>\n",
              "      <td>1.584148e+06</td>\n",
              "      <td>CNtoCN</td>\n",
              "    </tr>\n",
              "    <tr>\n",
              "      <th>3</th>\n",
              "      <td>8</td>\n",
              "      <td>48</td>\n",
              "      <td>0</td>\n",
              "      <td>1.179365</td>\n",
              "      <td>1.093910</td>\n",
              "      <td>1181.735760</td>\n",
              "      <td>426.865393</td>\n",
              "      <td>40.759150</td>\n",
              "      <td>0.0</td>\n",
              "      <td>13.00</td>\n",
              "      <td>17.00</td>\n",
              "      <td>30.0</td>\n",
              "      <td>49.0</td>\n",
              "      <td>4.0</td>\n",
              "      <td>26.66670</td>\n",
              "      <td>0.0</td>\n",
              "      <td>25.330426</td>\n",
              "      <td>9.0</td>\n",
              "      <td>39572.453761</td>\n",
              "      <td>7809.100937</td>\n",
              "      <td>1.073322e+06</td>\n",
              "      <td>4157.843398</td>\n",
              "      <td>18518.618597</td>\n",
              "      <td>21665.897115</td>\n",
              "      <td>1.649316e+06</td>\n",
              "      <td>CNtoCN</td>\n",
              "    </tr>\n",
              "    <tr>\n",
              "      <th>4</th>\n",
              "      <td>8</td>\n",
              "      <td>72</td>\n",
              "      <td>0</td>\n",
              "      <td>1.230678</td>\n",
              "      <td>1.033934</td>\n",
              "      <td>1644.518866</td>\n",
              "      <td>426.957080</td>\n",
              "      <td>39.822884</td>\n",
              "      <td>0.0</td>\n",
              "      <td>9.00</td>\n",
              "      <td>13.00</td>\n",
              "      <td>29.0</td>\n",
              "      <td>47.0</td>\n",
              "      <td>5.0</td>\n",
              "      <td>45.45450</td>\n",
              "      <td>0.0</td>\n",
              "      <td>24.000000</td>\n",
              "      <td>6.0</td>\n",
              "      <td>24318.815507</td>\n",
              "      <td>7434.220253</td>\n",
              "      <td>1.055726e+06</td>\n",
              "      <td>4238.133154</td>\n",
              "      <td>19176.452663</td>\n",
              "      <td>20840.038994</td>\n",
              "      <td>1.537239e+06</td>\n",
              "      <td>CNtoMCI</td>\n",
              "    </tr>\n",
              "    <tr>\n",
              "      <th>...</th>\n",
              "      <td>...</td>\n",
              "      <td>...</td>\n",
              "      <td>...</td>\n",
              "      <td>...</td>\n",
              "      <td>...</td>\n",
              "      <td>...</td>\n",
              "      <td>...</td>\n",
              "      <td>...</td>\n",
              "      <td>...</td>\n",
              "      <td>...</td>\n",
              "      <td>...</td>\n",
              "      <td>...</td>\n",
              "      <td>...</td>\n",
              "      <td>...</td>\n",
              "      <td>...</td>\n",
              "      <td>...</td>\n",
              "      <td>...</td>\n",
              "      <td>...</td>\n",
              "      <td>...</td>\n",
              "      <td>...</td>\n",
              "      <td>...</td>\n",
              "      <td>...</td>\n",
              "      <td>...</td>\n",
              "      <td>...</td>\n",
              "      <td>...</td>\n",
              "      <td>...</td>\n",
              "    </tr>\n",
              "    <tr>\n",
              "      <th>1939</th>\n",
              "      <td>6580</td>\n",
              "      <td>0</td>\n",
              "      <td>0</td>\n",
              "      <td>1.192599</td>\n",
              "      <td>1.136356</td>\n",
              "      <td>1055.163181</td>\n",
              "      <td>418.132500</td>\n",
              "      <td>39.595107</td>\n",
              "      <td>0.0</td>\n",
              "      <td>10.33</td>\n",
              "      <td>16.33</td>\n",
              "      <td>27.0</td>\n",
              "      <td>30.0</td>\n",
              "      <td>5.0</td>\n",
              "      <td>62.50000</td>\n",
              "      <td>0.0</td>\n",
              "      <td>24.000000</td>\n",
              "      <td>3.0</td>\n",
              "      <td>63055.700000</td>\n",
              "      <td>6824.300000</td>\n",
              "      <td>9.162650e+05</td>\n",
              "      <td>3604.000000</td>\n",
              "      <td>18194.000000</td>\n",
              "      <td>19633.000000</td>\n",
              "      <td>1.326620e+06</td>\n",
              "      <td>CNtoCN</td>\n",
              "    </tr>\n",
              "    <tr>\n",
              "      <th>1940</th>\n",
              "      <td>6581</td>\n",
              "      <td>0</td>\n",
              "      <td>0</td>\n",
              "      <td>1.292795</td>\n",
              "      <td>1.107553</td>\n",
              "      <td>1312.965484</td>\n",
              "      <td>424.073483</td>\n",
              "      <td>40.778235</td>\n",
              "      <td>0.0</td>\n",
              "      <td>3.33</td>\n",
              "      <td>6.33</td>\n",
              "      <td>30.0</td>\n",
              "      <td>60.0</td>\n",
              "      <td>1.0</td>\n",
              "      <td>7.14286</td>\n",
              "      <td>0.0</td>\n",
              "      <td>28.000000</td>\n",
              "      <td>8.0</td>\n",
              "      <td>61263.200000</td>\n",
              "      <td>8346.200000</td>\n",
              "      <td>1.203690e+06</td>\n",
              "      <td>3457.000000</td>\n",
              "      <td>20879.000000</td>\n",
              "      <td>23223.000000</td>\n",
              "      <td>1.708600e+06</td>\n",
              "      <td>CNtoCN</td>\n",
              "    </tr>\n",
              "    <tr>\n",
              "      <th>1941</th>\n",
              "      <td>6586</td>\n",
              "      <td>0</td>\n",
              "      <td>1</td>\n",
              "      <td>1.116790</td>\n",
              "      <td>1.240984</td>\n",
              "      <td>748.690264</td>\n",
              "      <td>412.114058</td>\n",
              "      <td>39.138017</td>\n",
              "      <td>1.0</td>\n",
              "      <td>10.67</td>\n",
              "      <td>14.67</td>\n",
              "      <td>27.0</td>\n",
              "      <td>27.0</td>\n",
              "      <td>3.0</td>\n",
              "      <td>50.00000</td>\n",
              "      <td>0.0</td>\n",
              "      <td>21.000000</td>\n",
              "      <td>2.0</td>\n",
              "      <td>49620.300000</td>\n",
              "      <td>7323.400000</td>\n",
              "      <td>1.109000e+06</td>\n",
              "      <td>4474.000000</td>\n",
              "      <td>18957.000000</td>\n",
              "      <td>22376.000000</td>\n",
              "      <td>1.553610e+06</td>\n",
              "      <td>MCItoMCI</td>\n",
              "    </tr>\n",
              "    <tr>\n",
              "      <th>1942</th>\n",
              "      <td>6635</td>\n",
              "      <td>0</td>\n",
              "      <td>1</td>\n",
              "      <td>1.300330</td>\n",
              "      <td>1.156160</td>\n",
              "      <td>1140.371540</td>\n",
              "      <td>428.120509</td>\n",
              "      <td>42.835446</td>\n",
              "      <td>1.0</td>\n",
              "      <td>8.67</td>\n",
              "      <td>12.67</td>\n",
              "      <td>28.0</td>\n",
              "      <td>51.0</td>\n",
              "      <td>0.0</td>\n",
              "      <td>0.00000</td>\n",
              "      <td>0.0</td>\n",
              "      <td>23.000000</td>\n",
              "      <td>4.0</td>\n",
              "      <td>21121.284551</td>\n",
              "      <td>8230.122079</td>\n",
              "      <td>1.103257e+06</td>\n",
              "      <td>4078.818244</td>\n",
              "      <td>19307.735806</td>\n",
              "      <td>22885.823078</td>\n",
              "      <td>1.544989e+06</td>\n",
              "      <td>MCItoMCI</td>\n",
              "    </tr>\n",
              "    <tr>\n",
              "      <th>1943</th>\n",
              "      <td>6668</td>\n",
              "      <td>0</td>\n",
              "      <td>1</td>\n",
              "      <td>1.139220</td>\n",
              "      <td>1.231450</td>\n",
              "      <td>786.887546</td>\n",
              "      <td>411.687295</td>\n",
              "      <td>40.019297</td>\n",
              "      <td>3.0</td>\n",
              "      <td>12.00</td>\n",
              "      <td>22.00</td>\n",
              "      <td>26.0</td>\n",
              "      <td>24.0</td>\n",
              "      <td>6.0</td>\n",
              "      <td>100.00000</td>\n",
              "      <td>12.0</td>\n",
              "      <td>22.000000</td>\n",
              "      <td>2.0</td>\n",
              "      <td>39422.991986</td>\n",
              "      <td>5472.486883</td>\n",
              "      <td>9.691213e+05</td>\n",
              "      <td>2916.285939</td>\n",
              "      <td>16640.200543</td>\n",
              "      <td>18431.342770</td>\n",
              "      <td>1.473842e+06</td>\n",
              "      <td>MCItoAD</td>\n",
              "    </tr>\n",
              "  </tbody>\n",
              "</table>\n",
              "<p>1944 rows × 26 columns</p>\n",
              "</div>\n",
              "    <div class=\"colab-df-buttons\">\n",
              "\n",
              "  <div class=\"colab-df-container\">\n",
              "    <button class=\"colab-df-convert\" onclick=\"convertToInteractive('df-db45c7ab-9a65-43f9-8a06-27952b51ac6b')\"\n",
              "            title=\"Convert this dataframe to an interactive table.\"\n",
              "            style=\"display:none;\">\n",
              "\n",
              "  <svg xmlns=\"http://www.w3.org/2000/svg\" height=\"24px\" viewBox=\"0 -960 960 960\">\n",
              "    <path d=\"M120-120v-720h720v720H120Zm60-500h600v-160H180v160Zm220 220h160v-160H400v160Zm0 220h160v-160H400v160ZM180-400h160v-160H180v160Zm440 0h160v-160H620v160ZM180-180h160v-160H180v160Zm440 0h160v-160H620v160Z\"/>\n",
              "  </svg>\n",
              "    </button>\n",
              "\n",
              "  <style>\n",
              "    .colab-df-container {\n",
              "      display:flex;\n",
              "      gap: 12px;\n",
              "    }\n",
              "\n",
              "    .colab-df-convert {\n",
              "      background-color: #E8F0FE;\n",
              "      border: none;\n",
              "      border-radius: 50%;\n",
              "      cursor: pointer;\n",
              "      display: none;\n",
              "      fill: #1967D2;\n",
              "      height: 32px;\n",
              "      padding: 0 0 0 0;\n",
              "      width: 32px;\n",
              "    }\n",
              "\n",
              "    .colab-df-convert:hover {\n",
              "      background-color: #E2EBFA;\n",
              "      box-shadow: 0px 1px 2px rgba(60, 64, 67, 0.3), 0px 1px 3px 1px rgba(60, 64, 67, 0.15);\n",
              "      fill: #174EA6;\n",
              "    }\n",
              "\n",
              "    .colab-df-buttons div {\n",
              "      margin-bottom: 4px;\n",
              "    }\n",
              "\n",
              "    [theme=dark] .colab-df-convert {\n",
              "      background-color: #3B4455;\n",
              "      fill: #D2E3FC;\n",
              "    }\n",
              "\n",
              "    [theme=dark] .colab-df-convert:hover {\n",
              "      background-color: #434B5C;\n",
              "      box-shadow: 0px 1px 3px 1px rgba(0, 0, 0, 0.15);\n",
              "      filter: drop-shadow(0px 1px 2px rgba(0, 0, 0, 0.3));\n",
              "      fill: #FFFFFF;\n",
              "    }\n",
              "  </style>\n",
              "\n",
              "    <script>\n",
              "      const buttonEl =\n",
              "        document.querySelector('#df-db45c7ab-9a65-43f9-8a06-27952b51ac6b button.colab-df-convert');\n",
              "      buttonEl.style.display =\n",
              "        google.colab.kernel.accessAllowed ? 'block' : 'none';\n",
              "\n",
              "      async function convertToInteractive(key) {\n",
              "        const element = document.querySelector('#df-db45c7ab-9a65-43f9-8a06-27952b51ac6b');\n",
              "        const dataTable =\n",
              "          await google.colab.kernel.invokeFunction('convertToInteractive',\n",
              "                                                    [key], {});\n",
              "        if (!dataTable) return;\n",
              "\n",
              "        const docLinkHtml = 'Like what you see? Visit the ' +\n",
              "          '<a target=\"_blank\" href=https://colab.research.google.com/notebooks/data_table.ipynb>data table notebook</a>'\n",
              "          + ' to learn more about interactive tables.';\n",
              "        element.innerHTML = '';\n",
              "        dataTable['output_type'] = 'display_data';\n",
              "        await google.colab.output.renderOutput(dataTable, element);\n",
              "        const docLink = document.createElement('div');\n",
              "        docLink.innerHTML = docLinkHtml;\n",
              "        element.appendChild(docLink);\n",
              "      }\n",
              "    </script>\n",
              "  </div>\n",
              "\n",
              "\n",
              "<div id=\"df-76b494de-1996-480e-aa9c-f40f028e1154\">\n",
              "  <button class=\"colab-df-quickchart\" onclick=\"quickchart('df-76b494de-1996-480e-aa9c-f40f028e1154')\"\n",
              "            title=\"Suggest charts.\"\n",
              "            style=\"display:none;\">\n",
              "\n",
              "<svg xmlns=\"http://www.w3.org/2000/svg\" height=\"24px\"viewBox=\"0 0 24 24\"\n",
              "     width=\"24px\">\n",
              "    <g>\n",
              "        <path d=\"M19 3H5c-1.1 0-2 .9-2 2v14c0 1.1.9 2 2 2h14c1.1 0 2-.9 2-2V5c0-1.1-.9-2-2-2zM9 17H7v-7h2v7zm4 0h-2V7h2v10zm4 0h-2v-4h2v4z\"/>\n",
              "    </g>\n",
              "</svg>\n",
              "  </button>\n",
              "\n",
              "<style>\n",
              "  .colab-df-quickchart {\n",
              "      --bg-color: #E8F0FE;\n",
              "      --fill-color: #1967D2;\n",
              "      --hover-bg-color: #E2EBFA;\n",
              "      --hover-fill-color: #174EA6;\n",
              "      --disabled-fill-color: #AAA;\n",
              "      --disabled-bg-color: #DDD;\n",
              "  }\n",
              "\n",
              "  [theme=dark] .colab-df-quickchart {\n",
              "      --bg-color: #3B4455;\n",
              "      --fill-color: #D2E3FC;\n",
              "      --hover-bg-color: #434B5C;\n",
              "      --hover-fill-color: #FFFFFF;\n",
              "      --disabled-bg-color: #3B4455;\n",
              "      --disabled-fill-color: #666;\n",
              "  }\n",
              "\n",
              "  .colab-df-quickchart {\n",
              "    background-color: var(--bg-color);\n",
              "    border: none;\n",
              "    border-radius: 50%;\n",
              "    cursor: pointer;\n",
              "    display: none;\n",
              "    fill: var(--fill-color);\n",
              "    height: 32px;\n",
              "    padding: 0;\n",
              "    width: 32px;\n",
              "  }\n",
              "\n",
              "  .colab-df-quickchart:hover {\n",
              "    background-color: var(--hover-bg-color);\n",
              "    box-shadow: 0 1px 2px rgba(60, 64, 67, 0.3), 0 1px 3px 1px rgba(60, 64, 67, 0.15);\n",
              "    fill: var(--button-hover-fill-color);\n",
              "  }\n",
              "\n",
              "  .colab-df-quickchart-complete:disabled,\n",
              "  .colab-df-quickchart-complete:disabled:hover {\n",
              "    background-color: var(--disabled-bg-color);\n",
              "    fill: var(--disabled-fill-color);\n",
              "    box-shadow: none;\n",
              "  }\n",
              "\n",
              "  .colab-df-spinner {\n",
              "    border: 2px solid var(--fill-color);\n",
              "    border-color: transparent;\n",
              "    border-bottom-color: var(--fill-color);\n",
              "    animation:\n",
              "      spin 1s steps(1) infinite;\n",
              "  }\n",
              "\n",
              "  @keyframes spin {\n",
              "    0% {\n",
              "      border-color: transparent;\n",
              "      border-bottom-color: var(--fill-color);\n",
              "      border-left-color: var(--fill-color);\n",
              "    }\n",
              "    20% {\n",
              "      border-color: transparent;\n",
              "      border-left-color: var(--fill-color);\n",
              "      border-top-color: var(--fill-color);\n",
              "    }\n",
              "    30% {\n",
              "      border-color: transparent;\n",
              "      border-left-color: var(--fill-color);\n",
              "      border-top-color: var(--fill-color);\n",
              "      border-right-color: var(--fill-color);\n",
              "    }\n",
              "    40% {\n",
              "      border-color: transparent;\n",
              "      border-right-color: var(--fill-color);\n",
              "      border-top-color: var(--fill-color);\n",
              "    }\n",
              "    60% {\n",
              "      border-color: transparent;\n",
              "      border-right-color: var(--fill-color);\n",
              "    }\n",
              "    80% {\n",
              "      border-color: transparent;\n",
              "      border-right-color: var(--fill-color);\n",
              "      border-bottom-color: var(--fill-color);\n",
              "    }\n",
              "    90% {\n",
              "      border-color: transparent;\n",
              "      border-bottom-color: var(--fill-color);\n",
              "    }\n",
              "  }\n",
              "</style>\n",
              "\n",
              "  <script>\n",
              "    async function quickchart(key) {\n",
              "      const quickchartButtonEl =\n",
              "        document.querySelector('#' + key + ' button');\n",
              "      quickchartButtonEl.disabled = true;  // To prevent multiple clicks.\n",
              "      quickchartButtonEl.classList.add('colab-df-spinner');\n",
              "      try {\n",
              "        const charts = await google.colab.kernel.invokeFunction(\n",
              "            'suggestCharts', [key], {});\n",
              "      } catch (error) {\n",
              "        console.error('Error during call to suggestCharts:', error);\n",
              "      }\n",
              "      quickchartButtonEl.classList.remove('colab-df-spinner');\n",
              "      quickchartButtonEl.classList.add('colab-df-quickchart-complete');\n",
              "    }\n",
              "    (() => {\n",
              "      let quickchartButtonEl =\n",
              "        document.querySelector('#df-76b494de-1996-480e-aa9c-f40f028e1154 button');\n",
              "      quickchartButtonEl.style.display =\n",
              "        google.colab.kernel.accessAllowed ? 'block' : 'none';\n",
              "    })();\n",
              "  </script>\n",
              "</div>\n",
              "    </div>\n",
              "  </div>\n"
            ]
          },
          "metadata": {},
          "execution_count": 4
        }
      ]
    },
    {
      "cell_type": "code",
      "source": [
        "labels = data[['Transition']]\n",
        "train_data = data.drop(['Transition','RID','VISCODE'], axis = 1)\n",
        "print(\"Shape of the training set: {}\".format(train_data.shape))"
      ],
      "metadata": {
        "colab": {
          "base_uri": "https://localhost:8080/"
        },
        "id": "k1njZ0Dr_AGi",
        "outputId": "b8e4ee6d-3b10-4f1c-f75c-f9192d980577"
      },
      "execution_count": 5,
      "outputs": [
        {
          "output_type": "stream",
          "name": "stdout",
          "text": [
            "Shape of the training set: (1944, 23)\n"
          ]
        }
      ]
    },
    {
      "cell_type": "code",
      "source": [
        "labels.value_counts()"
      ],
      "metadata": {
        "colab": {
          "base_uri": "https://localhost:8080/"
        },
        "id": "MFqxOaaLo0Qj",
        "outputId": "50c1eb81-c543-4ce5-e009-827e5aa8ed7f"
      },
      "execution_count": 6,
      "outputs": [
        {
          "output_type": "execute_result",
          "data": {
            "text/plain": [
              "Transition\n",
              "CNtoCN        794\n",
              "MCItoMCI      613\n",
              "MCItoAD       291\n",
              "CNtoMCI       121\n",
              "ADtoAD         99\n",
              "CNtoAD         26\n",
              "dtype: int64"
            ]
          },
          "metadata": {},
          "execution_count": 6
        }
      ]
    },
    {
      "cell_type": "code",
      "source": [
        "# Splitting the data into train (70%) and test (30%) sets\n",
        "X_train, X_test, y_train, y_test = train_test_split(train_data, labels, test_size=0.3, stratify=labels)\n",
        "print(\"Number of train samples:\" + str(len(X_train)))\n",
        "print(\"Number of test samples:\" + str(len(X_test)))"
      ],
      "metadata": {
        "id": "xCMBPTfWqV9l",
        "colab": {
          "base_uri": "https://localhost:8080/"
        },
        "outputId": "dab64e8f-abb9-4cd6-a260-6ac33e4c5155"
      },
      "execution_count": 7,
      "outputs": [
        {
          "output_type": "stream",
          "name": "stdout",
          "text": [
            "Number of train samples:1360\n",
            "Number of test samples:584\n"
          ]
        }
      ]
    },
    {
      "cell_type": "code",
      "source": [
        "print(\"Training set distribution:\\n{}\\n\\n\".format(y_train['Transition'].value_counts()))\n",
        "print(\"Test set distribution:\\n{}\".format(y_test['Transition'].value_counts()))"
      ],
      "metadata": {
        "colab": {
          "base_uri": "https://localhost:8080/"
        },
        "id": "AKh4_ttmCjM8",
        "outputId": "4457dea4-0464-4d28-9382-133d870f8cbb"
      },
      "execution_count": 8,
      "outputs": [
        {
          "output_type": "stream",
          "name": "stdout",
          "text": [
            "Training set distribution:\n",
            "CNtoCN      555\n",
            "MCItoMCI    429\n",
            "MCItoAD     204\n",
            "CNtoMCI      85\n",
            "ADtoAD       69\n",
            "CNtoAD       18\n",
            "Name: Transition, dtype: int64\n",
            "\n",
            "\n",
            "Test set distribution:\n",
            "CNtoCN      239\n",
            "MCItoMCI    184\n",
            "MCItoAD      87\n",
            "CNtoMCI      36\n",
            "ADtoAD       30\n",
            "CNtoAD        8\n",
            "Name: Transition, dtype: int64\n"
          ]
        }
      ]
    },
    {
      "cell_type": "code",
      "source": [
        "scaler = StandardScaler()\n",
        "X_train = pd.DataFrame(scaler.fit_transform(X_train))\n",
        "X_test = pd.DataFrame(scaler.fit_transform(X_test))"
      ],
      "metadata": {
        "id": "kHY4WkMjqaNT"
      },
      "execution_count": 9,
      "outputs": []
    },
    {
      "cell_type": "markdown",
      "source": [
        "# **%%%%%%%%%%%%%%%RANDOM FOREST MODEL%%%%%%%%%%%%%%%%%**"
      ],
      "metadata": {
        "id": "cEhtahiZK07Z"
      }
    },
    {
      "cell_type": "code",
      "source": [
        "from sklearn.ensemble import RandomForestClassifier\n",
        "from sklearn.metrics import accuracy_score\n",
        "\n",
        "accuracies = []\n",
        "models = []\n",
        "model_RFC = RandomForestClassifier(random_state=42) #Using Random Forest Classifier model\n",
        "model_RFC.fit(X_train,y_train) #Training\n",
        "y_pred_rfc = model_RFC.predict(X_test) #Predictions\n",
        "print(\"Model accuracy: \" + str(accuracy_score(y_test,y_pred_rfc)))\n",
        "print(classification_report(y_test,y_pred_rfc))\n",
        "print(model_RFC.classes_)\n",
        "accuracies.append(round(100*accuracy_score(y_test,y_pred_rfc),3))\n",
        "models.append('RFC')"
      ],
      "metadata": {
        "colab": {
          "base_uri": "https://localhost:8080/"
        },
        "id": "W-sQW4RWFDYx",
        "outputId": "5981e57e-d9d8-4f18-b349-e5adbf4d20b1"
      },
      "execution_count": 10,
      "outputs": [
        {
          "output_type": "stream",
          "name": "stderr",
          "text": [
            "<ipython-input-10-fdad10553bd2>:7: DataConversionWarning: A column-vector y was passed when a 1d array was expected. Please change the shape of y to (n_samples,), for example using ravel().\n",
            "  model_RFC.fit(X_train,y_train) #Training\n"
          ]
        },
        {
          "output_type": "stream",
          "name": "stdout",
          "text": [
            "Model accuracy: 0.8458904109589042\n",
            "              precision    recall  f1-score   support\n",
            "\n",
            "      ADtoAD       1.00      1.00      1.00        30\n",
            "      CNtoAD       0.00      0.00      0.00         8\n",
            "      CNtoCN       0.85      0.99      0.91       239\n",
            "     CNtoMCI       0.40      0.06      0.10        36\n",
            "     MCItoAD       0.77      0.68      0.72        87\n",
            "    MCItoMCI       0.86      0.91      0.88       184\n",
            "\n",
            "    accuracy                           0.85       584\n",
            "   macro avg       0.65      0.60      0.60       584\n",
            "weighted avg       0.81      0.85      0.82       584\n",
            "\n",
            "['ADtoAD' 'CNtoAD' 'CNtoCN' 'CNtoMCI' 'MCItoAD' 'MCItoMCI']\n"
          ]
        },
        {
          "output_type": "stream",
          "name": "stderr",
          "text": [
            "/usr/local/lib/python3.10/dist-packages/sklearn/metrics/_classification.py:1344: UndefinedMetricWarning: Precision and F-score are ill-defined and being set to 0.0 in labels with no predicted samples. Use `zero_division` parameter to control this behavior.\n",
            "  _warn_prf(average, modifier, msg_start, len(result))\n",
            "/usr/local/lib/python3.10/dist-packages/sklearn/metrics/_classification.py:1344: UndefinedMetricWarning: Precision and F-score are ill-defined and being set to 0.0 in labels with no predicted samples. Use `zero_division` parameter to control this behavior.\n",
            "  _warn_prf(average, modifier, msg_start, len(result))\n",
            "/usr/local/lib/python3.10/dist-packages/sklearn/metrics/_classification.py:1344: UndefinedMetricWarning: Precision and F-score are ill-defined and being set to 0.0 in labels with no predicted samples. Use `zero_division` parameter to control this behavior.\n",
            "  _warn_prf(average, modifier, msg_start, len(result))\n"
          ]
        }
      ]
    },
    {
      "cell_type": "code",
      "source": [
        "cm = confusion_matrix(y_test, y_pred_rfc, labels = model_RFC.classes_)\n",
        "disp = ConfusionMatrixDisplay(confusion_matrix = cm , display_labels = model_RFC.classes_)\n",
        "disp.plot()"
      ],
      "metadata": {
        "colab": {
          "base_uri": "https://localhost:8080/",
          "height": 467
        },
        "id": "G8XPdbKRFJbG",
        "outputId": "238f882a-8d0c-4394-983e-b134c8f1337d"
      },
      "execution_count": 11,
      "outputs": [
        {
          "output_type": "execute_result",
          "data": {
            "text/plain": [
              "<sklearn.metrics._plot.confusion_matrix.ConfusionMatrixDisplay at 0x7cb4afb6ba00>"
            ]
          },
          "metadata": {},
          "execution_count": 11
        },
        {
          "output_type": "display_data",
          "data": {
            "text/plain": [
              "<Figure size 640x480 with 2 Axes>"
            ],
            "image/png": "[encoded data removed]"
          },
          "metadata": {}
        }
      ]
    },
    {
      "cell_type": "markdown",
      "source": [
        "# **%%%%%%%%%%%%%%%XGBOOST MODEL%%%%%%%%%%%%%%%%%**"
      ],
      "metadata": {
        "id": "KLovZqMOKgsF"
      }
    },
    {
      "cell_type": "code",
      "source": [
        "list_labels = list(labels.Transition)\n",
        "label_converter = {\n",
        "    \"ADtoAD\": 0,\n",
        "    \"CNtoCN\": 1,\n",
        "    \"CNtoMCI\": 2,\n",
        "    \"MCItoAD\": 3,\n",
        "    \"MCItoMCI\": 4,\n",
        "    \"CNtoAD\": 5\n",
        "\n",
        "}\n",
        "\n",
        "\n",
        "def convert_labels(labels):\n",
        "    converted_labels = [label_converter[label] for label in labels]\n",
        "    return converted_labels\n"
      ],
      "metadata": {
        "id": "Wz2CMKmvGymL"
      },
      "execution_count": 12,
      "outputs": []
    },
    {
      "cell_type": "code",
      "source": [
        "import pandas as pd\n",
        "import xgboost as xgb\n",
        "from sklearn.model_selection import train_test_split\n",
        "from sklearn.metrics import accuracy_score\n",
        "\n",
        "np.random.seed(42)\n",
        "y_train_list = list(y_train.Transition)\n",
        "y_test_list = list(y_test.Transition)\n",
        "\n",
        "# Convert the training and testing sets into DMatrix format (specific to XGBoost)\n",
        "y_train1 = convert_labels(y_train_list)\n",
        "y_test1 = convert_labels(y_test_list)\n",
        "train_dmatrix = xgb.DMatrix(data=X_train, label=y_train1)\n",
        "test_dmatrix = xgb.DMatrix(data=X_test, label=y_test1)\n",
        "\n",
        "# Define the parameters for XGBoost\n",
        "params = {\n",
        "    'objective': 'multi:softmax',  # for multi-class classification\n",
        "    'num_class': len(label_converter),  # number of classes\n",
        "    'eval_metric': 'merror',  # evaluation metric\n",
        "    'eta': 0.1,  # learning rate\n",
        "    'max_depth': 3  # maximum depth of each tree\n",
        "}\n",
        "\n",
        "# Train the XGBoost model\n",
        "num_rounds = 100  # number of boosting rounds\n",
        "model_XGB = xgb.train(params, train_dmatrix, num_rounds)\n",
        "\n",
        "# Make predictions on the testing set\n",
        "y_pred_xgb = model_XGB.predict(test_dmatrix)\n",
        "\n",
        "# Evaluate the model\n",
        "print(\"Model accuracy: \" + str(accuracy_score(y_test1,y_pred_xgb)))\n",
        "print(classification_report(y_test1,y_pred_xgb))\n",
        "print(label_converter)\n",
        "accuracies.append(round(100*accuracy_score(y_test1,y_pred_xgb),3))\n",
        "models.append('XGB')"
      ],
      "metadata": {
        "id": "P6RcYL_4Ffnv",
        "colab": {
          "base_uri": "https://localhost:8080/"
        },
        "outputId": "01960ebe-493f-4324-af9e-91b37cd1a0cc"
      },
      "execution_count": 13,
      "outputs": [
        {
          "output_type": "stream",
          "name": "stdout",
          "text": [
            "Model accuracy: 0.8304794520547946\n",
            "              precision    recall  f1-score   support\n",
            "\n",
            "           0       1.00      1.00      1.00        30\n",
            "           1       0.86      0.97      0.91       239\n",
            "           2       0.25      0.08      0.12        36\n",
            "           3       0.72      0.68      0.70        87\n",
            "           4       0.85      0.88      0.86       184\n",
            "           5       0.33      0.12      0.18         8\n",
            "\n",
            "    accuracy                           0.83       584\n",
            "   macro avg       0.67      0.62      0.63       584\n",
            "weighted avg       0.80      0.83      0.81       584\n",
            "\n",
            "{'ADtoAD': 0, 'CNtoCN': 1, 'CNtoMCI': 2, 'MCItoAD': 3, 'MCItoMCI': 4, 'CNtoAD': 5}\n"
          ]
        }
      ]
    },
    {
      "cell_type": "code",
      "source": [
        "print(label_converter)\n",
        "cm = confusion_matrix(y_test1, y_pred_xgb, labels = list(label_converter.values()))\n",
        "disp = ConfusionMatrixDisplay(confusion_matrix = cm , display_labels = list(label_converter.values()))\n",
        "disp.plot()"
      ],
      "metadata": {
        "id": "d6HxyEzgJaXW",
        "colab": {
          "base_uri": "https://localhost:8080/",
          "height": 486
        },
        "outputId": "09d8a9c4-1a29-467f-b4b5-92271b03b67c"
      },
      "execution_count": 14,
      "outputs": [
        {
          "output_type": "stream",
          "name": "stdout",
          "text": [
            "{'ADtoAD': 0, 'CNtoCN': 1, 'CNtoMCI': 2, 'MCItoAD': 3, 'MCItoMCI': 4, 'CNtoAD': 5}\n"
          ]
        },
        {
          "output_type": "execute_result",
          "data": {
            "text/plain": [
              "<sklearn.metrics._plot.confusion_matrix.ConfusionMatrixDisplay at 0x7cb4ae89b8e0>"
            ]
          },
          "metadata": {},
          "execution_count": 14
        },
        {
          "output_type": "display_data",
          "data": {
            "text/plain": [
              "<Figure size 640x480 with 2 Axes>"
            ],
            "image/png": "[encoded data removed]"
          },
          "metadata": {}
        }
      ]
    },
    {
      "cell_type": "markdown",
      "source": [
        "# **%%%%%%%%%%%%%SUMMERIZE%%%%%%%%%%%%%%%**"
      ],
      "metadata": {
        "id": "LB4ZFkSAZfwI"
      }
    },
    {
      "cell_type": "code",
      "source": [
        "# Create a bar plot\n",
        "plt.figure(figsize = (12,6))\n",
        "sns.set(style=\"whitegrid\")  # Optional: Set a seaborn style\n",
        "ax = sns.barplot(x=models, y=accuracies, palette = \"Set3\")\n",
        "\n",
        "\n",
        "# Add labels and a title\n",
        "plt.xlabel(\"Model\")\n",
        "plt.ylabel(\"Accuracy [%]\")\n",
        "plt.title(\"Accuracies of Each Model\")\n",
        "\n",
        "# Display the values in the center of each bar\n",
        "for i, v in enumerate(accuracies):\n",
        "    ax.text(i, v + 1, str(v), ha='center', va='bottom', fontsize=10, color='black')\n",
        "\n",
        "# Show the plot\n",
        "plt.show()"
      ],
      "metadata": {
        "colab": {
          "base_uri": "https://localhost:8080/",
          "height": 573
        },
        "id": "_FH8urr_QZuD",
        "outputId": "866c6367-c9fc-4974-c2d1-901a78bda2b3"
      },
      "execution_count": 15,
      "outputs": [
        {
          "output_type": "display_data",
          "data": {
            "text/plain": [
              "<Figure size 1200x600 with 1 Axes>"
            ],
            "image/png": "[encoded data removed]"
          },
          "metadata": {}
        }
      ]
    }
  ]
}
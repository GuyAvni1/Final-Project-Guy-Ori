{
  "nbformat": 4,
  "nbformat_minor": 0,
  "metadata": {
    "colab": {
      "provenance": [],
      "authorship_tag": "ABX9TyM0K8e8mCYqyxd6vbuUACr5",
      "include_colab_link": true
    },
    "kernelspec": {
      "name": "python3",
      "display_name": "Python 3"
    },
    "language_info": {
      "name": "python"
    }
  },
  "cells": [
    {
      "cell_type": "markdown",
      "metadata": {
        "id": "view-in-github",
        "colab_type": "text"
      },
      "source": [
        "<a href=\"https://colab.research.google.com/github/GuyAvni1/Final-Project-Guy-Ori/blob/main/Code/Model_Selection.ipynb\" target=\"_parent\"><img src=\"https://colab.research.google.com/assets/colab-badge.svg\" alt=\"Open In Colab\"/></a>"
      ]
    },
    {
      "cell_type": "code",
      "execution_count": 1,
      "metadata": {
        "id": "QhcOqxvVzEcE"
      },
      "outputs": [],
      "source": [
        "import pandas as pd\n",
        "import numpy as np\n",
        "import sklearn\n",
        "import seaborn as sns\n",
        "import matplotlib.pyplot as plt\n",
        "from sklearn.svm import SVC, LinearSVC\n",
        "from sklearn.metrics import classification_report\n",
        "from sklearn.model_selection import train_test_split\n",
        "from sklearn.preprocessing import StandardScaler\n",
        "from sklearn.metrics import confusion_matrix, ConfusionMatrixDisplay"
      ]
    },
    {
      "cell_type": "code",
      "source": [
        "pd.set_option('display.max_rows', 999)\n",
        "pd.set_option('display.max_columns', 999)"
      ],
      "metadata": {
        "id": "VgxrZyQDh6Ak"
      },
      "execution_count": 2,
      "outputs": []
    },
    {
      "cell_type": "code",
      "source": [
        "from google.colab import drive\n",
        "drive.mount('/content/drive')"
      ],
      "metadata": {
        "colab": {
          "base_uri": "https://localhost:8080/"
        },
        "id": "VPzLH75xzF6p",
        "outputId": "747a4f3b-3514-44a3-dc6e-f1b9f15b8653"
      },
      "execution_count": 3,
      "outputs": [
        {
          "output_type": "stream",
          "name": "stdout",
          "text": [
            "Drive already mounted at /content/drive; to attempt to forcibly remount, call drive.mount(\"/content/drive\", force_remount=True).\n"
          ]
        }
      ]
    },
    {
      "cell_type": "code",
      "source": [
        "#Reading the data set from the drive\n",
        "raw = pd.read_csv(\"/content/drive/MyDrive/Final_Project_Data/df_imputed.csv\")\n",
        "data = raw\n",
        "data #Showing an example of the first 5 rows."
      ],
      "metadata": {
        "colab": {
          "base_uri": "https://localhost:8080/",
          "height": 443
        },
        "id": "Gieoh2oV7827",
        "outputId": "a919258e-c3f9-42d6-d3c6-fc19f0e04516"
      },
      "execution_count": 4,
      "outputs": [
        {
          "output_type": "execute_result",
          "data": {
            "text/plain": [
              "       RID VISCODE   DX       FDG      AV45        ABETA         TAU  \\\n",
              "0        4      bl  MCI  1.241955  0.961954  1501.000000  153.100000   \n",
              "1        4     m06  MCI  1.204971  1.118809  1156.613341  420.524969   \n",
              "2        4     m12  MCI  1.249843  0.988851  1176.000000  159.700000   \n",
              "3        4     m18  MCI  1.134295  1.222560   858.155971  412.113475   \n",
              "4        4     m36  MCI  1.185936  1.176758   862.781086  412.766140   \n",
              "...    ...     ...  ...       ...       ...          ...         ...   \n",
              "8561  7015     m12  MCI  1.175170  1.064523  1518.659819  425.087903   \n",
              "8562  7016      bl  MCI  1.202203  1.137317  1145.453046  433.016300   \n",
              "8563  7016     m12  MCI  1.242180  1.108338  1106.161594  432.572145   \n",
              "8564  7021      bl  MCI  1.201818  1.102691   950.518596  428.353876   \n",
              "8565  7021     m12  MCI  1.205298  1.212816   844.450310  438.450977   \n",
              "\n",
              "           PTAU  CDRSB  ADAS11  ADAS13  MMSE  RAVLT_immediate  \\\n",
              "0     13.290000    1.0   14.33   21.33  27.0             37.0   \n",
              "1     38.788820    0.5   17.33   25.33  28.0             33.0   \n",
              "2     13.300000    1.0   15.00   22.00  26.0             37.0   \n",
              "3     38.690558    1.0   20.33   28.33  27.0             44.0   \n",
              "4     38.639677    1.0   18.00   25.00  25.0             44.0   \n",
              "...         ...    ...     ...     ...   ...              ...   \n",
              "8561  40.383320    1.5   13.67   19.67  28.0             37.0   \n",
              "8562  40.171164    0.0    6.33   12.33  28.0             27.0   \n",
              "8563  40.771014    0.0    8.67   12.67  28.0             25.0   \n",
              "8564  40.459036    0.5   13.00   23.00  26.0             34.0   \n",
              "8565  41.551290    0.0   17.33   28.33  25.0             34.0   \n",
              "\n",
              "      RAVLT_forgetting  RAVLT_perc_forgetting  FAQ       MOCA  RAVLT_learning  \\\n",
              "0                  4.0                36.3636  0.0  23.921439             7.0   \n",
              "1                  1.0                11.1111  0.0  22.925493             7.0   \n",
              "2                  1.0                12.5000  0.0  22.047959             4.0   \n",
              "3                  2.0                16.6667  1.0  22.043764             8.0   \n",
              "4                  2.0                18.1818  0.0  19.780831             7.0   \n",
              "...                ...                    ...  ...        ...             ...   \n",
              "8561               5.0                55.5556  1.0  24.000000             5.0   \n",
              "8562               7.0                87.5000  0.0  21.000000             7.0   \n",
              "8563               7.0                87.5000  0.0  22.000000             3.0   \n",
              "8564               8.0               100.0000  0.0  21.000000             4.0   \n",
              "8565               7.0               100.0000  0.0  21.000000             2.0   \n",
              "\n",
              "        Ventricles  Hippocampus    WholeBrain   Entorhinal      Fusiform  \\\n",
              "0     39605.000000  6869.000000  1.154980e+06  3983.000000  19036.000000   \n",
              "1     39726.000000  6439.000000  1.116280e+06  3711.000000  17899.000000   \n",
              "2     38527.000000  6451.000000  1.117390e+06  3519.000000  18691.000000   \n",
              "3     40768.000000  6373.000000  1.095210e+06  3764.000000  17862.000000   \n",
              "4     45254.000000  6213.000000  1.085350e+06  3052.000000  18571.000000   \n",
              "...            ...          ...           ...          ...           ...   \n",
              "8561  36795.897373  6894.301811  1.032997e+06  3703.344815  18215.508025   \n",
              "8562  44915.225535  7041.613762  1.048767e+06  4184.069035  18341.590499   \n",
              "8563  32771.766057  7534.268616  1.059896e+06  4067.608843  19308.239285   \n",
              "8564  34734.137452  6777.148893  1.035756e+06  3792.542714  17971.011608   \n",
              "8565  36576.740942  6804.862881  1.041244e+06  3780.029765  18220.565841   \n",
              "\n",
              "           MidTemp           ICV  \n",
              "0     19615.000000  1.679440e+06  \n",
              "1     20139.000000  1.661130e+06  \n",
              "2     19758.000000  1.656740e+06  \n",
              "3     18754.000000  1.648510e+06  \n",
              "4     18934.000000  1.654340e+06  \n",
              "...            ...           ...  \n",
              "8561  20199.146614  1.565282e+06  \n",
              "8562  21225.605574  1.565263e+06  \n",
              "8563  20926.214181  1.547428e+06  \n",
              "8564  19806.098218  1.532682e+06  \n",
              "8565  19980.275611  1.504902e+06  \n",
              "\n",
              "[8566 rows x 25 columns]"
            ],
            "text/html": [
              "\n",
              "  <div id=\"df-8b23ef6c-a87b-40cc-a3b0-31e17cb801c4\" class=\"colab-df-container\">\n",
              "    <div>\n",
              "<style scoped>\n",
              "    .dataframe tbody tr th:only-of-type {\n",
              "        vertical-align: middle;\n",
              "    }\n",
              "\n",
              "    .dataframe tbody tr th {\n",
              "        vertical-align: top;\n",
              "    }\n",
              "\n",
              "    .dataframe thead th {\n",
              "        text-align: right;\n",
              "    }\n",
              "</style>\n",
              "<table border=\"1\" class=\"dataframe\">\n",
              "  <thead>\n",
              "    <tr style=\"text-align: right;\">\n",
              "      <th></th>\n",
              "      <th>RID</th>\n",
              "      <th>VISCODE</th>\n",
              "      <th>DX</th>\n",
              "      <th>FDG</th>\n",
              "      <th>AV45</th>\n",
              "      <th>ABETA</th>\n",
              "      <th>TAU</th>\n",
              "      <th>PTAU</th>\n",
              "      <th>CDRSB</th>\n",
              "      <th>ADAS11</th>\n",
              "      <th>ADAS13</th>\n",
              "      <th>MMSE</th>\n",
              "      <th>RAVLT_immediate</th>\n",
              "      <th>RAVLT_forgetting</th>\n",
              "      <th>RAVLT_perc_forgetting</th>\n",
              "      <th>FAQ</th>\n",
              "      <th>MOCA</th>\n",
              "      <th>RAVLT_learning</th>\n",
              "      <th>Ventricles</th>\n",
              "      <th>Hippocampus</th>\n",
              "      <th>WholeBrain</th>\n",
              "      <th>Entorhinal</th>\n",
              "      <th>Fusiform</th>\n",
              "      <th>MidTemp</th>\n",
              "      <th>ICV</th>\n",
              "    </tr>\n",
              "  </thead>\n",
              "  <tbody>\n",
              "    <tr>\n",
              "      <th>0</th>\n",
              "      <td>4</td>\n",
              "      <td>bl</td>\n",
              "      <td>MCI</td>\n",
              "      <td>1.241955</td>\n",
              "      <td>0.961954</td>\n",
              "      <td>1501.000000</td>\n",
              "      <td>153.100000</td>\n",
              "      <td>13.290000</td>\n",
              "      <td>1.0</td>\n",
              "      <td>14.33</td>\n",
              "      <td>21.33</td>\n",
              "      <td>27.0</td>\n",
              "      <td>37.0</td>\n",
              "      <td>4.0</td>\n",
              "      <td>36.3636</td>\n",
              "      <td>0.0</td>\n",
              "      <td>23.921439</td>\n",
              "      <td>7.0</td>\n",
              "      <td>39605.000000</td>\n",
              "      <td>6869.000000</td>\n",
              "      <td>1.154980e+06</td>\n",
              "      <td>3983.000000</td>\n",
              "      <td>19036.000000</td>\n",
              "      <td>19615.000000</td>\n",
              "      <td>1.679440e+06</td>\n",
              "    </tr>\n",
              "    <tr>\n",
              "      <th>1</th>\n",
              "      <td>4</td>\n",
              "      <td>m06</td>\n",
              "      <td>MCI</td>\n",
              "      <td>1.204971</td>\n",
              "      <td>1.118809</td>\n",
              "      <td>1156.613341</td>\n",
              "      <td>420.524969</td>\n",
              "      <td>38.788820</td>\n",
              "      <td>0.5</td>\n",
              "      <td>17.33</td>\n",
              "      <td>25.33</td>\n",
              "      <td>28.0</td>\n",
              "      <td>33.0</td>\n",
              "      <td>1.0</td>\n",
              "      <td>11.1111</td>\n",
              "      <td>0.0</td>\n",
              "      <td>22.925493</td>\n",
              "      <td>7.0</td>\n",
              "      <td>39726.000000</td>\n",
              "      <td>6439.000000</td>\n",
              "      <td>1.116280e+06</td>\n",
              "      <td>3711.000000</td>\n",
              "      <td>17899.000000</td>\n",
              "      <td>20139.000000</td>\n",
              "      <td>1.661130e+06</td>\n",
              "    </tr>\n",
              "    <tr>\n",
              "      <th>2</th>\n",
              "      <td>4</td>\n",
              "      <td>m12</td>\n",
              "      <td>MCI</td>\n",
              "      <td>1.249843</td>\n",
              "      <td>0.988851</td>\n",
              "      <td>1176.000000</td>\n",
              "      <td>159.700000</td>\n",
              "      <td>13.300000</td>\n",
              "      <td>1.0</td>\n",
              "      <td>15.00</td>\n",
              "      <td>22.00</td>\n",
              "      <td>26.0</td>\n",
              "      <td>37.0</td>\n",
              "      <td>1.0</td>\n",
              "      <td>12.5000</td>\n",
              "      <td>0.0</td>\n",
              "      <td>22.047959</td>\n",
              "      <td>4.0</td>\n",
              "      <td>38527.000000</td>\n",
              "      <td>6451.000000</td>\n",
              "      <td>1.117390e+06</td>\n",
              "      <td>3519.000000</td>\n",
              "      <td>18691.000000</td>\n",
              "      <td>19758.000000</td>\n",
              "      <td>1.656740e+06</td>\n",
              "    </tr>\n",
              "    <tr>\n",
              "      <th>3</th>\n",
              "      <td>4</td>\n",
              "      <td>m18</td>\n",
              "      <td>MCI</td>\n",
              "      <td>1.134295</td>\n",
              "      <td>1.222560</td>\n",
              "      <td>858.155971</td>\n",
              "      <td>412.113475</td>\n",
              "      <td>38.690558</td>\n",
              "      <td>1.0</td>\n",
              "      <td>20.33</td>\n",
              "      <td>28.33</td>\n",
              "      <td>27.0</td>\n",
              "      <td>44.0</td>\n",
              "      <td>2.0</td>\n",
              "      <td>16.6667</td>\n",
              "      <td>1.0</td>\n",
              "      <td>22.043764</td>\n",
              "      <td>8.0</td>\n",
              "      <td>40768.000000</td>\n",
              "      <td>6373.000000</td>\n",
              "      <td>1.095210e+06</td>\n",
              "      <td>3764.000000</td>\n",
              "      <td>17862.000000</td>\n",
              "      <td>18754.000000</td>\n",
              "      <td>1.648510e+06</td>\n",
              "    </tr>\n",
              "    <tr>\n",
              "      <th>4</th>\n",
              "      <td>4</td>\n",
              "      <td>m36</td>\n",
              "      <td>MCI</td>\n",
              "      <td>1.185936</td>\n",
              "      <td>1.176758</td>\n",
              "      <td>862.781086</td>\n",
              "      <td>412.766140</td>\n",
              "      <td>38.639677</td>\n",
              "      <td>1.0</td>\n",
              "      <td>18.00</td>\n",
              "      <td>25.00</td>\n",
              "      <td>25.0</td>\n",
              "      <td>44.0</td>\n",
              "      <td>2.0</td>\n",
              "      <td>18.1818</td>\n",
              "      <td>0.0</td>\n",
              "      <td>19.780831</td>\n",
              "      <td>7.0</td>\n",
              "      <td>45254.000000</td>\n",
              "      <td>6213.000000</td>\n",
              "      <td>1.085350e+06</td>\n",
              "      <td>3052.000000</td>\n",
              "      <td>18571.000000</td>\n",
              "      <td>18934.000000</td>\n",
              "      <td>1.654340e+06</td>\n",
              "    </tr>\n",
              "    <tr>\n",
              "      <th>...</th>\n",
              "      <td>...</td>\n",
              "      <td>...</td>\n",
              "      <td>...</td>\n",
              "      <td>...</td>\n",
              "      <td>...</td>\n",
              "      <td>...</td>\n",
              "      <td>...</td>\n",
              "      <td>...</td>\n",
              "      <td>...</td>\n",
              "      <td>...</td>\n",
              "      <td>...</td>\n",
              "      <td>...</td>\n",
              "      <td>...</td>\n",
              "      <td>...</td>\n",
              "      <td>...</td>\n",
              "      <td>...</td>\n",
              "      <td>...</td>\n",
              "      <td>...</td>\n",
              "      <td>...</td>\n",
              "      <td>...</td>\n",
              "      <td>...</td>\n",
              "      <td>...</td>\n",
              "      <td>...</td>\n",
              "      <td>...</td>\n",
              "      <td>...</td>\n",
              "    </tr>\n",
              "    <tr>\n",
              "      <th>8561</th>\n",
              "      <td>7015</td>\n",
              "      <td>m12</td>\n",
              "      <td>MCI</td>\n",
              "      <td>1.175170</td>\n",
              "      <td>1.064523</td>\n",
              "      <td>1518.659819</td>\n",
              "      <td>425.087903</td>\n",
              "      <td>40.383320</td>\n",
              "      <td>1.5</td>\n",
              "      <td>13.67</td>\n",
              "      <td>19.67</td>\n",
              "      <td>28.0</td>\n",
              "      <td>37.0</td>\n",
              "      <td>5.0</td>\n",
              "      <td>55.5556</td>\n",
              "      <td>1.0</td>\n",
              "      <td>24.000000</td>\n",
              "      <td>5.0</td>\n",
              "      <td>36795.897373</td>\n",
              "      <td>6894.301811</td>\n",
              "      <td>1.032997e+06</td>\n",
              "      <td>3703.344815</td>\n",
              "      <td>18215.508025</td>\n",
              "      <td>20199.146614</td>\n",
              "      <td>1.565282e+06</td>\n",
              "    </tr>\n",
              "    <tr>\n",
              "      <th>8562</th>\n",
              "      <td>7016</td>\n",
              "      <td>bl</td>\n",
              "      <td>MCI</td>\n",
              "      <td>1.202203</td>\n",
              "      <td>1.137317</td>\n",
              "      <td>1145.453046</td>\n",
              "      <td>433.016300</td>\n",
              "      <td>40.171164</td>\n",
              "      <td>0.0</td>\n",
              "      <td>6.33</td>\n",
              "      <td>12.33</td>\n",
              "      <td>28.0</td>\n",
              "      <td>27.0</td>\n",
              "      <td>7.0</td>\n",
              "      <td>87.5000</td>\n",
              "      <td>0.0</td>\n",
              "      <td>21.000000</td>\n",
              "      <td>7.0</td>\n",
              "      <td>44915.225535</td>\n",
              "      <td>7041.613762</td>\n",
              "      <td>1.048767e+06</td>\n",
              "      <td>4184.069035</td>\n",
              "      <td>18341.590499</td>\n",
              "      <td>21225.605574</td>\n",
              "      <td>1.565263e+06</td>\n",
              "    </tr>\n",
              "    <tr>\n",
              "      <th>8563</th>\n",
              "      <td>7016</td>\n",
              "      <td>m12</td>\n",
              "      <td>MCI</td>\n",
              "      <td>1.242180</td>\n",
              "      <td>1.108338</td>\n",
              "      <td>1106.161594</td>\n",
              "      <td>432.572145</td>\n",
              "      <td>40.771014</td>\n",
              "      <td>0.0</td>\n",
              "      <td>8.67</td>\n",
              "      <td>12.67</td>\n",
              "      <td>28.0</td>\n",
              "      <td>25.0</td>\n",
              "      <td>7.0</td>\n",
              "      <td>87.5000</td>\n",
              "      <td>0.0</td>\n",
              "      <td>22.000000</td>\n",
              "      <td>3.0</td>\n",
              "      <td>32771.766057</td>\n",
              "      <td>7534.268616</td>\n",
              "      <td>1.059896e+06</td>\n",
              "      <td>4067.608843</td>\n",
              "      <td>19308.239285</td>\n",
              "      <td>20926.214181</td>\n",
              "      <td>1.547428e+06</td>\n",
              "    </tr>\n",
              "    <tr>\n",
              "      <th>8564</th>\n",
              "      <td>7021</td>\n",
              "      <td>bl</td>\n",
              "      <td>MCI</td>\n",
              "      <td>1.201818</td>\n",
              "      <td>1.102691</td>\n",
              "      <td>950.518596</td>\n",
              "      <td>428.353876</td>\n",
              "      <td>40.459036</td>\n",
              "      <td>0.5</td>\n",
              "      <td>13.00</td>\n",
              "      <td>23.00</td>\n",
              "      <td>26.0</td>\n",
              "      <td>34.0</td>\n",
              "      <td>8.0</td>\n",
              "      <td>100.0000</td>\n",
              "      <td>0.0</td>\n",
              "      <td>21.000000</td>\n",
              "      <td>4.0</td>\n",
              "      <td>34734.137452</td>\n",
              "      <td>6777.148893</td>\n",
              "      <td>1.035756e+06</td>\n",
              "      <td>3792.542714</td>\n",
              "      <td>17971.011608</td>\n",
              "      <td>19806.098218</td>\n",
              "      <td>1.532682e+06</td>\n",
              "    </tr>\n",
              "    <tr>\n",
              "      <th>8565</th>\n",
              "      <td>7021</td>\n",
              "      <td>m12</td>\n",
              "      <td>MCI</td>\n",
              "      <td>1.205298</td>\n",
              "      <td>1.212816</td>\n",
              "      <td>844.450310</td>\n",
              "      <td>438.450977</td>\n",
              "      <td>41.551290</td>\n",
              "      <td>0.0</td>\n",
              "      <td>17.33</td>\n",
              "      <td>28.33</td>\n",
              "      <td>25.0</td>\n",
              "      <td>34.0</td>\n",
              "      <td>7.0</td>\n",
              "      <td>100.0000</td>\n",
              "      <td>0.0</td>\n",
              "      <td>21.000000</td>\n",
              "      <td>2.0</td>\n",
              "      <td>36576.740942</td>\n",
              "      <td>6804.862881</td>\n",
              "      <td>1.041244e+06</td>\n",
              "      <td>3780.029765</td>\n",
              "      <td>18220.565841</td>\n",
              "      <td>19980.275611</td>\n",
              "      <td>1.504902e+06</td>\n",
              "    </tr>\n",
              "  </tbody>\n",
              "</table>\n",
              "<p>8566 rows × 25 columns</p>\n",
              "</div>\n",
              "    <div class=\"colab-df-buttons\">\n",
              "\n",
              "  <div class=\"colab-df-container\">\n",
              "    <button class=\"colab-df-convert\" onclick=\"convertToInteractive('df-8b23ef6c-a87b-40cc-a3b0-31e17cb801c4')\"\n",
              "            title=\"Convert this dataframe to an interactive table.\"\n",
              "            style=\"display:none;\">\n",
              "\n",
              "  <svg xmlns=\"http://www.w3.org/2000/svg\" height=\"24px\" viewBox=\"0 -960 960 960\">\n",
              "    <path d=\"M120-120v-720h720v720H120Zm60-500h600v-160H180v160Zm220 220h160v-160H400v160Zm0 220h160v-160H400v160ZM180-400h160v-160H180v160Zm440 0h160v-160H620v160ZM180-180h160v-160H180v160Zm440 0h160v-160H620v160Z\"/>\n",
              "  </svg>\n",
              "    </button>\n",
              "\n",
              "  <style>\n",
              "    .colab-df-container {\n",
              "      display:flex;\n",
              "      gap: 12px;\n",
              "    }\n",
              "\n",
              "    .colab-df-convert {\n",
              "      background-color: #E8F0FE;\n",
              "      border: none;\n",
              "      border-radius: 50%;\n",
              "      cursor: pointer;\n",
              "      display: none;\n",
              "      fill: #1967D2;\n",
              "      height: 32px;\n",
              "      padding: 0 0 0 0;\n",
              "      width: 32px;\n",
              "    }\n",
              "\n",
              "    .colab-df-convert:hover {\n",
              "      background-color: #E2EBFA;\n",
              "      box-shadow: 0px 1px 2px rgba(60, 64, 67, 0.3), 0px 1px 3px 1px rgba(60, 64, 67, 0.15);\n",
              "      fill: #174EA6;\n",
              "    }\n",
              "\n",
              "    .colab-df-buttons div {\n",
              "      margin-bottom: 4px;\n",
              "    }\n",
              "\n",
              "    [theme=dark] .colab-df-convert {\n",
              "      background-color: #3B4455;\n",
              "      fill: #D2E3FC;\n",
              "    }\n",
              "\n",
              "    [theme=dark] .colab-df-convert:hover {\n",
              "      background-color: #434B5C;\n",
              "      box-shadow: 0px 1px 3px 1px rgba(0, 0, 0, 0.15);\n",
              "      filter: drop-shadow(0px 1px 2px rgba(0, 0, 0, 0.3));\n",
              "      fill: #FFFFFF;\n",
              "    }\n",
              "  </style>\n",
              "\n",
              "    <script>\n",
              "      const buttonEl =\n",
              "        document.querySelector('#df-8b23ef6c-a87b-40cc-a3b0-31e17cb801c4 button.colab-df-convert');\n",
              "      buttonEl.style.display =\n",
              "        google.colab.kernel.accessAllowed ? 'block' : 'none';\n",
              "\n",
              "      async function convertToInteractive(key) {\n",
              "        const element = document.querySelector('#df-8b23ef6c-a87b-40cc-a3b0-31e17cb801c4');\n",
              "        const dataTable =\n",
              "          await google.colab.kernel.invokeFunction('convertToInteractive',\n",
              "                                                    [key], {});\n",
              "        if (!dataTable) return;\n",
              "\n",
              "        const docLinkHtml = 'Like what you see? Visit the ' +\n",
              "          '<a target=\"_blank\" href=https://colab.research.google.com/notebooks/data_table.ipynb>data table notebook</a>'\n",
              "          + ' to learn more about interactive tables.';\n",
              "        element.innerHTML = '';\n",
              "        dataTable['output_type'] = 'display_data';\n",
              "        await google.colab.output.renderOutput(dataTable, element);\n",
              "        const docLink = document.createElement('div');\n",
              "        docLink.innerHTML = docLinkHtml;\n",
              "        element.appendChild(docLink);\n",
              "      }\n",
              "    </script>\n",
              "  </div>\n",
              "\n",
              "\n",
              "<div id=\"df-701af520-cc14-43b7-b1a2-6d4fb8703036\">\n",
              "  <button class=\"colab-df-quickchart\" onclick=\"quickchart('df-701af520-cc14-43b7-b1a2-6d4fb8703036')\"\n",
              "            title=\"Suggest charts.\"\n",
              "            style=\"display:none;\">\n",
              "\n",
              "<svg xmlns=\"http://www.w3.org/2000/svg\" height=\"24px\"viewBox=\"0 0 24 24\"\n",
              "     width=\"24px\">\n",
              "    <g>\n",
              "        <path d=\"M19 3H5c-1.1 0-2 .9-2 2v14c0 1.1.9 2 2 2h14c1.1 0 2-.9 2-2V5c0-1.1-.9-2-2-2zM9 17H7v-7h2v7zm4 0h-2V7h2v10zm4 0h-2v-4h2v4z\"/>\n",
              "    </g>\n",
              "</svg>\n",
              "  </button>\n",
              "\n",
              "<style>\n",
              "  .colab-df-quickchart {\n",
              "      --bg-color: #E8F0FE;\n",
              "      --fill-color: #1967D2;\n",
              "      --hover-bg-color: #E2EBFA;\n",
              "      --hover-fill-color: #174EA6;\n",
              "      --disabled-fill-color: #AAA;\n",
              "      --disabled-bg-color: #DDD;\n",
              "  }\n",
              "\n",
              "  [theme=dark] .colab-df-quickchart {\n",
              "      --bg-color: #3B4455;\n",
              "      --fill-color: #D2E3FC;\n",
              "      --hover-bg-color: #434B5C;\n",
              "      --hover-fill-color: #FFFFFF;\n",
              "      --disabled-bg-color: #3B4455;\n",
              "      --disabled-fill-color: #666;\n",
              "  }\n",
              "\n",
              "  .colab-df-quickchart {\n",
              "    background-color: var(--bg-color);\n",
              "    border: none;\n",
              "    border-radius: 50%;\n",
              "    cursor: pointer;\n",
              "    display: none;\n",
              "    fill: var(--fill-color);\n",
              "    height: 32px;\n",
              "    padding: 0;\n",
              "    width: 32px;\n",
              "  }\n",
              "\n",
              "  .colab-df-quickchart:hover {\n",
              "    background-color: var(--hover-bg-color);\n",
              "    box-shadow: 0 1px 2px rgba(60, 64, 67, 0.3), 0 1px 3px 1px rgba(60, 64, 67, 0.15);\n",
              "    fill: var(--button-hover-fill-color);\n",
              "  }\n",
              "\n",
              "  .colab-df-quickchart-complete:disabled,\n",
              "  .colab-df-quickchart-complete:disabled:hover {\n",
              "    background-color: var(--disabled-bg-color);\n",
              "    fill: var(--disabled-fill-color);\n",
              "    box-shadow: none;\n",
              "  }\n",
              "\n",
              "  .colab-df-spinner {\n",
              "    border: 2px solid var(--fill-color);\n",
              "    border-color: transparent;\n",
              "    border-bottom-color: var(--fill-color);\n",
              "    animation:\n",
              "      spin 1s steps(1) infinite;\n",
              "  }\n",
              "\n",
              "  @keyframes spin {\n",
              "    0% {\n",
              "      border-color: transparent;\n",
              "      border-bottom-color: var(--fill-color);\n",
              "      border-left-color: var(--fill-color);\n",
              "    }\n",
              "    20% {\n",
              "      border-color: transparent;\n",
              "      border-left-color: var(--fill-color);\n",
              "      border-top-color: var(--fill-color);\n",
              "    }\n",
              "    30% {\n",
              "      border-color: transparent;\n",
              "      border-left-color: var(--fill-color);\n",
              "      border-top-color: var(--fill-color);\n",
              "      border-right-color: var(--fill-color);\n",
              "    }\n",
              "    40% {\n",
              "      border-color: transparent;\n",
              "      border-right-color: var(--fill-color);\n",
              "      border-top-color: var(--fill-color);\n",
              "    }\n",
              "    60% {\n",
              "      border-color: transparent;\n",
              "      border-right-color: var(--fill-color);\n",
              "    }\n",
              "    80% {\n",
              "      border-color: transparent;\n",
              "      border-right-color: var(--fill-color);\n",
              "      border-bottom-color: var(--fill-color);\n",
              "    }\n",
              "    90% {\n",
              "      border-color: transparent;\n",
              "      border-bottom-color: var(--fill-color);\n",
              "    }\n",
              "  }\n",
              "</style>\n",
              "\n",
              "  <script>\n",
              "    async function quickchart(key) {\n",
              "      const quickchartButtonEl =\n",
              "        document.querySelector('#' + key + ' button');\n",
              "      quickchartButtonEl.disabled = true;  // To prevent multiple clicks.\n",
              "      quickchartButtonEl.classList.add('colab-df-spinner');\n",
              "      try {\n",
              "        const charts = await google.colab.kernel.invokeFunction(\n",
              "            'suggestCharts', [key], {});\n",
              "      } catch (error) {\n",
              "        console.error('Error during call to suggestCharts:', error);\n",
              "      }\n",
              "      quickchartButtonEl.classList.remove('colab-df-spinner');\n",
              "      quickchartButtonEl.classList.add('colab-df-quickchart-complete');\n",
              "    }\n",
              "    (() => {\n",
              "      let quickchartButtonEl =\n",
              "        document.querySelector('#df-701af520-cc14-43b7-b1a2-6d4fb8703036 button');\n",
              "      quickchartButtonEl.style.display =\n",
              "        google.colab.kernel.accessAllowed ? 'block' : 'none';\n",
              "    })();\n",
              "  </script>\n",
              "</div>\n",
              "    </div>\n",
              "  </div>\n"
            ]
          },
          "metadata": {},
          "execution_count": 4
        }
      ]
    },
    {
      "cell_type": "code",
      "source": [
        "labels = data[['DX']]\n",
        "train_data = data.drop(['DX','RID','VISCODE'], axis = 1)\n",
        "print(\"Shape of the training set: {}\".format(train_data.shape))"
      ],
      "metadata": {
        "colab": {
          "base_uri": "https://localhost:8080/"
        },
        "id": "k1njZ0Dr_AGi",
        "outputId": "7c2c1ba3-9b51-4bb1-965b-c928c70061ad"
      },
      "execution_count": 5,
      "outputs": [
        {
          "output_type": "stream",
          "name": "stdout",
          "text": [
            "Shape of the training set: (8566, 22)\n"
          ]
        }
      ]
    },
    {
      "cell_type": "code",
      "source": [
        "labels.value_counts()"
      ],
      "metadata": {
        "colab": {
          "base_uri": "https://localhost:8080/"
        },
        "id": "MFqxOaaLo0Qj",
        "outputId": "5dfbc427-dbe5-492b-f081-b8b7eb7d6f51"
      },
      "execution_count": 6,
      "outputs": [
        {
          "output_type": "execute_result",
          "data": {
            "text/plain": [
              "DX      \n",
              "MCI         4190\n",
              "CN          3290\n",
              "Dementia    1086\n",
              "dtype: int64"
            ]
          },
          "metadata": {},
          "execution_count": 6
        }
      ]
    },
    {
      "cell_type": "code",
      "source": [
        "# Splitting the data into train (70%) and test (30%) sets\n",
        "X_train, X_test, y_train, y_test = train_test_split(train_data, labels, test_size=0.3, stratify=labels)\n",
        "print(\"Number of train samples:\" + str(len(X_train)))\n",
        "print(\"Number of test samples:\" + str(len(X_test)))"
      ],
      "metadata": {
        "id": "xCMBPTfWqV9l",
        "colab": {
          "base_uri": "https://localhost:8080/"
        },
        "outputId": "1db8f1f9-5a09-4a32-e0c9-7b8164334e6b"
      },
      "execution_count": 7,
      "outputs": [
        {
          "output_type": "stream",
          "name": "stdout",
          "text": [
            "Number of train samples:5996\n",
            "Number of test samples:2570\n"
          ]
        }
      ]
    },
    {
      "cell_type": "code",
      "source": [
        "print(\"Training set distribution:\\n{}\\n\\n\".format(y_train['DX'].value_counts()))\n",
        "print(\"Test set distribution:\\n{}\".format(y_test['DX'].value_counts()))"
      ],
      "metadata": {
        "colab": {
          "base_uri": "https://localhost:8080/"
        },
        "id": "AKh4_ttmCjM8",
        "outputId": "355d96f2-f4e4-4ae6-af35-87a510884331"
      },
      "execution_count": 8,
      "outputs": [
        {
          "output_type": "stream",
          "name": "stdout",
          "text": [
            "Training set distribution:\n",
            "MCI         2933\n",
            "CN          2303\n",
            "Dementia     760\n",
            "Name: DX, dtype: int64\n",
            "\n",
            "\n",
            "Test set distribution:\n",
            "MCI         1257\n",
            "CN           987\n",
            "Dementia     326\n",
            "Name: DX, dtype: int64\n"
          ]
        }
      ]
    },
    {
      "cell_type": "code",
      "source": [
        "scaler = StandardScaler()\n",
        "X_train = pd.DataFrame(scaler.fit_transform(X_train))\n",
        "X_test = pd.DataFrame(scaler.fit_transform(X_test))"
      ],
      "metadata": {
        "id": "kHY4WkMjqaNT"
      },
      "execution_count": 9,
      "outputs": []
    },
    {
      "cell_type": "markdown",
      "source": [
        "\n",
        "# **%%%%%%%%%%%%%%%SVC MODEL%%%%%%%%%%%%%%%%%**"
      ],
      "metadata": {
        "id": "Gb0C6KD6B543"
      }
    },
    {
      "cell_type": "code",
      "source": [
        "from sklearn.metrics import accuracy_score\n",
        "\n",
        "accuracies = []\n",
        "models = []\n",
        "model_svc = SVC(random_state=42) #Using SVC model\n",
        "model_svc.fit(X_train,y_train) #Training\n",
        "y_pred_svc = model_svc.predict(X_test) #Predictions\n",
        "print(\"Model accuracy: \" + str(accuracy_score(y_test,y_pred_svc)))\n",
        "print(classification_report(y_test,y_pred_svc))\n",
        "accuracies.append(round(100*accuracy_score(y_test,y_pred_svc),3))\n",
        "models.append('SVC')"
      ],
      "metadata": {
        "colab": {
          "base_uri": "https://localhost:8080/"
        },
        "id": "Knhpn-yejjcp",
        "outputId": "e48a3d39-ee39-4ab0-df46-999e75e8091b"
      },
      "execution_count": 10,
      "outputs": [
        {
          "output_type": "stream",
          "name": "stderr",
          "text": [
            "/usr/local/lib/python3.10/dist-packages/sklearn/utils/validation.py:1143: DataConversionWarning: A column-vector y was passed when a 1d array was expected. Please change the shape of y to (n_samples, ), for example using ravel().\n",
            "  y = column_or_1d(y, warn=True)\n"
          ]
        },
        {
          "output_type": "stream",
          "name": "stdout",
          "text": [
            "Model accuracy: 0.8665369649805448\n",
            "              precision    recall  f1-score   support\n",
            "\n",
            "          CN       0.86      0.92      0.89       987\n",
            "    Dementia       0.89      0.73      0.80       326\n",
            "         MCI       0.87      0.86      0.86      1257\n",
            "\n",
            "    accuracy                           0.87      2570\n",
            "   macro avg       0.87      0.84      0.85      2570\n",
            "weighted avg       0.87      0.87      0.87      2570\n",
            "\n"
          ]
        }
      ]
    },
    {
      "cell_type": "code",
      "source": [
        "cm = confusion_matrix(y_test, y_pred_svc, labels = model_svc.classes_)\n",
        "disp = ConfusionMatrixDisplay(confusion_matrix = cm , display_labels = model_svc.classes_)\n",
        "disp.plot()"
      ],
      "metadata": {
        "colab": {
          "base_uri": "https://localhost:8080/",
          "height": 467
        },
        "id": "6OcsjsCTjy__",
        "outputId": "01c5d228-bb40-4994-80df-f80e4028b6bb"
      },
      "execution_count": 11,
      "outputs": [
        {
          "output_type": "execute_result",
          "data": {
            "text/plain": [
              "<sklearn.metrics._plot.confusion_matrix.ConfusionMatrixDisplay at 0x7953cc8ce860>"
            ]
          },
          "metadata": {},
          "execution_count": 11
        },
        {
          "output_type": "display_data",
          "data": {
            "text/plain": [
              "<Figure size 640x480 with 2 Axes>"
            ],
            "image/png": "[encoded data removed]"
          },
          "metadata": {}
        }
      ]
    },
    {
      "cell_type": "markdown",
      "source": [
        "# **%%%%%%%%%%%%%%%LDA MODEL%%%%%%%%%%%%%%%%%**"
      ],
      "metadata": {
        "id": "YOR1pHIiCqph"
      }
    },
    {
      "cell_type": "code",
      "source": [
        "from sklearn.metrics import accuracy_score\n",
        "from sklearn.discriminant_analysis import LinearDiscriminantAnalysis\n",
        "\n",
        "np.random.seed(42)\n",
        "model_LDA = LinearDiscriminantAnalysis() #Using LDA model\n",
        "model_LDA.fit(X_train,y_train) #Training\n",
        "y_pred_lda = model_LDA.predict(X_test) #Predictions\n",
        "print(\"Model accuracy: \" + str(accuracy_score(y_test,y_pred_lda)))\n",
        "print(classification_report(y_test,y_pred_lda))\n",
        "print(model_LDA.classes_)\n",
        "accuracies.append(round(100*accuracy_score(y_test,y_pred_lda),3))\n",
        "models.append('LDA')"
      ],
      "metadata": {
        "colab": {
          "base_uri": "https://localhost:8080/"
        },
        "id": "xlhng8WuBxld",
        "outputId": "06ccc0f1-a09d-4326-eff0-684531a8a6f0"
      },
      "execution_count": 12,
      "outputs": [
        {
          "output_type": "stream",
          "name": "stderr",
          "text": [
            "/usr/local/lib/python3.10/dist-packages/sklearn/utils/validation.py:1143: DataConversionWarning: A column-vector y was passed when a 1d array was expected. Please change the shape of y to (n_samples, ), for example using ravel().\n",
            "  y = column_or_1d(y, warn=True)\n"
          ]
        },
        {
          "output_type": "stream",
          "name": "stdout",
          "text": [
            "Model accuracy: 0.7852140077821012\n",
            "              precision    recall  f1-score   support\n",
            "\n",
            "          CN       0.76      0.82      0.79       987\n",
            "    Dementia       0.85      0.74      0.79       326\n",
            "         MCI       0.79      0.77      0.78      1257\n",
            "\n",
            "    accuracy                           0.79      2570\n",
            "   macro avg       0.80      0.78      0.79      2570\n",
            "weighted avg       0.79      0.79      0.79      2570\n",
            "\n",
            "['CN' 'Dementia' 'MCI']\n"
          ]
        }
      ]
    },
    {
      "cell_type": "code",
      "source": [
        "cm = confusion_matrix(y_test, y_pred_lda, labels = model_LDA.classes_)\n",
        "disp = ConfusionMatrixDisplay(confusion_matrix = cm , display_labels = model_LDA.classes_)\n",
        "disp.plot()"
      ],
      "metadata": {
        "colab": {
          "base_uri": "https://localhost:8080/",
          "height": 467
        },
        "id": "NU-NdKlDBzjB",
        "outputId": "148c5476-a8f6-4dc8-8cb0-7ea2936cdbc9"
      },
      "execution_count": 13,
      "outputs": [
        {
          "output_type": "execute_result",
          "data": {
            "text/plain": [
              "<sklearn.metrics._plot.confusion_matrix.ConfusionMatrixDisplay at 0x7953cc58b040>"
            ]
          },
          "metadata": {},
          "execution_count": 13
        },
        {
          "output_type": "display_data",
          "data": {
            "text/plain": [
              "<Figure size 640x480 with 2 Axes>"
            ],
            "image/png": "[encoded data removed]"
          },
          "metadata": {}
        }
      ]
    },
    {
      "cell_type": "markdown",
      "source": [
        "# **%%%%%%%%%%%%%%%NAIVE BAYES MODEL%%%%%%%%%%%%%%%%%**\n",
        "\n",
        "\n",
        "\n"
      ],
      "metadata": {
        "id": "ICLNyI8cCt7a"
      }
    },
    {
      "cell_type": "code",
      "source": [
        "from sklearn.naive_bayes import GaussianNB\n",
        "\n",
        "np.random.seed(42)\n",
        "model_NBC = GaussianNB() #Using Naive Bayes Classifier model\n",
        "model_NBC.fit(X_train,y_train) #Training\n",
        "y_pred_nbc = model_NBC.predict(X_test) #Predictions\n",
        "print(\"Model accuracy: \" + str(accuracy_score(y_test,y_pred_nbc)))\n",
        "print(classification_report(y_test,y_pred_nbc))\n",
        "print(model_NBC.classes_)\n",
        "accuracies.append(round(100*accuracy_score(y_test,y_pred_nbc),3))\n",
        "models.append('NBC')"
      ],
      "metadata": {
        "colab": {
          "base_uri": "https://localhost:8080/"
        },
        "id": "miguLsHyC7gE",
        "outputId": "befb30f9-4f45-4b27-9fa8-669f5b2d3d23"
      },
      "execution_count": 14,
      "outputs": [
        {
          "output_type": "stream",
          "name": "stdout",
          "text": [
            "Model accuracy: 0.7828793774319066\n",
            "              precision    recall  f1-score   support\n",
            "\n",
            "          CN       0.76      0.90      0.82       987\n",
            "    Dementia       0.68      0.85      0.76       326\n",
            "         MCI       0.85      0.67      0.75      1257\n",
            "\n",
            "    accuracy                           0.78      2570\n",
            "   macro avg       0.76      0.81      0.78      2570\n",
            "weighted avg       0.80      0.78      0.78      2570\n",
            "\n",
            "['CN' 'Dementia' 'MCI']\n"
          ]
        },
        {
          "output_type": "stream",
          "name": "stderr",
          "text": [
            "/usr/local/lib/python3.10/dist-packages/sklearn/utils/validation.py:1143: DataConversionWarning: A column-vector y was passed when a 1d array was expected. Please change the shape of y to (n_samples, ), for example using ravel().\n",
            "  y = column_or_1d(y, warn=True)\n"
          ]
        }
      ]
    },
    {
      "cell_type": "code",
      "source": [
        "cm = confusion_matrix(y_test, y_pred_nbc, labels = model_NBC.classes_)\n",
        "disp = ConfusionMatrixDisplay(confusion_matrix = cm , display_labels = model_NBC.classes_)\n",
        "disp.plot()"
      ],
      "metadata": {
        "colab": {
          "base_uri": "https://localhost:8080/",
          "height": 467
        },
        "id": "s40eU758DJiq",
        "outputId": "2a82ba22-84b3-4de6-987a-11855cdf395b"
      },
      "execution_count": 15,
      "outputs": [
        {
          "output_type": "execute_result",
          "data": {
            "text/plain": [
              "<sklearn.metrics._plot.confusion_matrix.ConfusionMatrixDisplay at 0x795410756a70>"
            ]
          },
          "metadata": {},
          "execution_count": 15
        },
        {
          "output_type": "display_data",
          "data": {
            "text/plain": [
              "<Figure size 640x480 with 2 Axes>"
            ],
            "image/png": "[encoded data removed]"
          },
          "metadata": {}
        }
      ]
    },
    {
      "cell_type": "markdown",
      "source": [
        "# **%%%%%%%%%%%%%%%RANDOM FOREST MODEL%%%%%%%%%%%%%%%%%**"
      ],
      "metadata": {
        "id": "cEhtahiZK07Z"
      }
    },
    {
      "cell_type": "code",
      "source": [
        "from sklearn.ensemble import RandomForestClassifier\n",
        "from sklearn.metrics import accuracy_score\n",
        "\n",
        "model_RFC = RandomForestClassifier(random_state=42) #Using Random Forest Classifier model\n",
        "model_RFC.fit(X_train,y_train) #Training\n",
        "y_pred_rfc = model_RFC.predict(X_test) #Predictions\n",
        "print(\"Model accuracy: \" + str(accuracy_score(y_test,y_pred_rfc)))\n",
        "print(classification_report(y_test,y_pred_rfc))\n",
        "print(model_RFC.classes_)\n",
        "accuracies.append(round(100*accuracy_score(y_test,y_pred_rfc),3))\n",
        "models.append('RFC')"
      ],
      "metadata": {
        "colab": {
          "base_uri": "https://localhost:8080/"
        },
        "id": "W-sQW4RWFDYx",
        "outputId": "d09bbf29-6ee6-4a46-e8c4-358e118e3513"
      },
      "execution_count": 16,
      "outputs": [
        {
          "output_type": "stream",
          "name": "stderr",
          "text": [
            "<ipython-input-16-66c150ec7b13>:5: DataConversionWarning: A column-vector y was passed when a 1d array was expected. Please change the shape of y to (n_samples,), for example using ravel().\n",
            "  model_RFC.fit(X_train,y_train) #Training\n"
          ]
        },
        {
          "output_type": "stream",
          "name": "stdout",
          "text": [
            "Model accuracy: 0.8832684824902723\n",
            "              precision    recall  f1-score   support\n",
            "\n",
            "          CN       0.93      0.87      0.90       987\n",
            "    Dementia       0.88      0.76      0.82       326\n",
            "         MCI       0.85      0.93      0.89      1257\n",
            "\n",
            "    accuracy                           0.88      2570\n",
            "   macro avg       0.89      0.85      0.87      2570\n",
            "weighted avg       0.89      0.88      0.88      2570\n",
            "\n",
            "['CN' 'Dementia' 'MCI']\n"
          ]
        }
      ]
    },
    {
      "cell_type": "code",
      "source": [
        "cm = confusion_matrix(y_test, y_pred_rfc, labels = model_RFC.classes_)\n",
        "disp = ConfusionMatrixDisplay(confusion_matrix = cm , display_labels = model_RFC.classes_)\n",
        "disp.plot()"
      ],
      "metadata": {
        "colab": {
          "base_uri": "https://localhost:8080/",
          "height": 467
        },
        "id": "G8XPdbKRFJbG",
        "outputId": "69d699fc-205c-4562-b00a-e8681a05ea73"
      },
      "execution_count": 17,
      "outputs": [
        {
          "output_type": "execute_result",
          "data": {
            "text/plain": [
              "<sklearn.metrics._plot.confusion_matrix.ConfusionMatrixDisplay at 0x795410662590>"
            ]
          },
          "metadata": {},
          "execution_count": 17
        },
        {
          "output_type": "display_data",
          "data": {
            "text/plain": [
              "<Figure size 640x480 with 2 Axes>"
            ],
            "image/png": "[encoded data removed]"
          },
          "metadata": {}
        }
      ]
    },
    {
      "cell_type": "markdown",
      "source": [
        "# **%%%%%%%%%%%%%%%XGBOOST MODEL%%%%%%%%%%%%%%%%%**"
      ],
      "metadata": {
        "id": "KLovZqMOKgsF"
      }
    },
    {
      "cell_type": "code",
      "source": [
        "list_labels = list(labels.DX)\n",
        "label_converter = {\n",
        "    \"CN\": 0,\n",
        "    \"Dementia\": 1,\n",
        "    \"MCI\": 2\n",
        "\n",
        "}\n",
        "\n",
        "def convert_labels(labels):\n",
        "    converted_labels = [label_converter[label] for label in labels]\n",
        "    return converted_labels\n"
      ],
      "metadata": {
        "id": "Wz2CMKmvGymL"
      },
      "execution_count": 18,
      "outputs": []
    },
    {
      "cell_type": "code",
      "source": [
        "import pandas as pd\n",
        "import xgboost as xgb\n",
        "from sklearn.model_selection import train_test_split\n",
        "from sklearn.metrics import accuracy_score\n",
        "\n",
        "np.random.seed(42)\n",
        "y_train_list = list(y_train.DX)\n",
        "y_test_list = list(y_test.DX)\n",
        "\n",
        "# Convert the training and testing sets into DMatrix format (specific to XGBoost)\n",
        "y_train1 = convert_labels(y_train_list)\n",
        "y_test1 = convert_labels(y_test_list)\n",
        "train_dmatrix = xgb.DMatrix(data=X_train, label=y_train1)\n",
        "test_dmatrix = xgb.DMatrix(data=X_test, label=y_test1)\n",
        "\n",
        "# Define the parameters for XGBoost\n",
        "params = {\n",
        "    'objective': 'multi:softmax',  # for multi-class classification\n",
        "    'num_class': 3,  # number of classes\n",
        "    'eval_metric': 'merror',  # evaluation metric\n",
        "    'eta': 0.1,  # learning rate\n",
        "    'max_depth': 3  # maximum depth of each tree\n",
        "}\n",
        "\n",
        "# Train the XGBoost model\n",
        "num_rounds = 100  # number of boosting rounds\n",
        "model_XGB = xgb.train(params, train_dmatrix, num_rounds)\n",
        "\n",
        "# Make predictions on the testing set\n",
        "y_pred_xgb = model_XGB.predict(test_dmatrix)\n",
        "\n",
        "# Evaluate the model\n",
        "print(\"Model accuracy: \" + str(accuracy_score(y_test1,y_pred_xgb)))\n",
        "print(classification_report(y_test1,y_pred_xgb))\n",
        "print(label_converter)\n",
        "accuracies.append(round(100*accuracy_score(y_test1,y_pred_xgb),3))\n",
        "models.append('XGB')"
      ],
      "metadata": {
        "id": "P6RcYL_4Ffnv",
        "colab": {
          "base_uri": "https://localhost:8080/"
        },
        "outputId": "31c11b2f-f65d-42ca-b49a-bf24dad683fa"
      },
      "execution_count": 19,
      "outputs": [
        {
          "output_type": "stream",
          "name": "stdout",
          "text": [
            "Model accuracy: 0.8797665369649805\n",
            "              precision    recall  f1-score   support\n",
            "\n",
            "           0       0.92      0.87      0.90       987\n",
            "           1       0.88      0.76      0.81       326\n",
            "           2       0.85      0.92      0.88      1257\n",
            "\n",
            "    accuracy                           0.88      2570\n",
            "   macro avg       0.88      0.85      0.86      2570\n",
            "weighted avg       0.88      0.88      0.88      2570\n",
            "\n",
            "{'CN': 0, 'Dementia': 1, 'MCI': 2}\n"
          ]
        }
      ]
    },
    {
      "cell_type": "code",
      "source": [
        "print(label_converter)\n",
        "cm = confusion_matrix(y_test1, y_pred_xgb, labels = list(label_converter.values()))\n",
        "disp = ConfusionMatrixDisplay(confusion_matrix = cm , display_labels = list(label_converter.values()))\n",
        "disp.plot()"
      ],
      "metadata": {
        "id": "d6HxyEzgJaXW",
        "colab": {
          "base_uri": "https://localhost:8080/",
          "height": 486
        },
        "outputId": "277d78e1-c71e-4332-d273-32185b3d3895"
      },
      "execution_count": 20,
      "outputs": [
        {
          "output_type": "stream",
          "name": "stdout",
          "text": [
            "{'CN': 0, 'Dementia': 1, 'MCI': 2}\n"
          ]
        },
        {
          "output_type": "execute_result",
          "data": {
            "text/plain": [
              "<sklearn.metrics._plot.confusion_matrix.ConfusionMatrixDisplay at 0x7953c7afff10>"
            ]
          },
          "metadata": {},
          "execution_count": 20
        },
        {
          "output_type": "display_data",
          "data": {
            "text/plain": [
              "<Figure size 640x480 with 2 Axes>"
            ],
            "image/png": "[encoded data removed]"
          },
          "metadata": {}
        }
      ]
    },
    {
      "cell_type": "markdown",
      "source": [
        "# **%%%%%%%%%%%%%%%OVER SAMPLING PERFORMANCE%%%%%%%%%%%%%%%%%**"
      ],
      "metadata": {
        "id": "V2ZRANErN-vY"
      }
    },
    {
      "cell_type": "code",
      "source": [
        "#Reading the data set from the drive\n",
        "raw = pd.read_csv(\"/content/drive/MyDrive/Final_Project_Data/df_imputed.csv\")\n",
        "# print(raw)\n",
        "data = raw\n",
        " #Showing an example of the first 5 rows.\n",
        "#*Note*: There are 65 columns in each row."
      ],
      "metadata": {
        "id": "a6b-OeujKyyQ"
      },
      "execution_count": 21,
      "outputs": []
    },
    {
      "cell_type": "code",
      "source": [
        "labels = data[['DX']]\n",
        "train_data = data.drop(['DX','RID','VISCODE'], axis = 1)\n",
        "print(\"Shape of the training set: {}\".format(train_data.shape))"
      ],
      "metadata": {
        "colab": {
          "base_uri": "https://localhost:8080/"
        },
        "outputId": "5b7b86d3-02ce-46e0-e430-8d8cf8b31e17",
        "id": "0EHQVLtQKyyQ"
      },
      "execution_count": 22,
      "outputs": [
        {
          "output_type": "stream",
          "name": "stdout",
          "text": [
            "Shape of the training set: (8566, 22)\n"
          ]
        }
      ]
    },
    {
      "cell_type": "code",
      "source": [
        "# Splitting the data into train (70%) and test (30%) sets\n",
        "X_train, X_test, y_train, y_test = train_test_split(train_data, labels, test_size=0.3, stratify=labels)\n",
        "print(\"Number of train samples:\" + str(len(X_train)))\n",
        "print(\"Number of test samples:\" + str(len(X_test)))"
      ],
      "metadata": {
        "colab": {
          "base_uri": "https://localhost:8080/"
        },
        "outputId": "b6c183cc-7787-4b00-83b5-368cc453bb61",
        "id": "t27-msqPKZ6o"
      },
      "execution_count": 23,
      "outputs": [
        {
          "output_type": "stream",
          "name": "stdout",
          "text": [
            "Number of train samples:5996\n",
            "Number of test samples:2570\n"
          ]
        }
      ]
    },
    {
      "cell_type": "code",
      "source": [
        "scaler = StandardScaler()\n",
        "X_train = pd.DataFrame(scaler.fit_transform(X_train))\n",
        "X_test = pd.DataFrame(scaler.fit_transform(X_test))"
      ],
      "metadata": {
        "id": "z60KpkMrKZ6p"
      },
      "execution_count": 24,
      "outputs": []
    },
    {
      "cell_type": "code",
      "source": [
        "import pandas as pd\n",
        "from sklearn.model_selection import train_test_split\n",
        "from imblearn.over_sampling import RandomOverSampler\n",
        "from collections import Counter\n",
        "\n",
        "\n",
        "# Display class distribution before resampling\n",
        "print(\"Class distribution before resampling:\", Counter(y_train.DX))\n",
        "print(\"Samples before resampling:\", len(y_train.DX))\n",
        "# Apply RandomOverSampler to balance the classes\n",
        "\n",
        "\n",
        "ros = RandomOverSampler(random_state = 42)\n",
        "X_train_resampled, y_train_resampled = ros.fit_resample(X_train, y_train)\n",
        "\n",
        "# Display class distribution after resampling\n",
        "print(\"Class distribution after resampling:\", Counter(y_train_resampled.DX))\n",
        "print(\"Samples after resampling:\", len(y_train_resampled.DX))\n"
      ],
      "metadata": {
        "colab": {
          "base_uri": "https://localhost:8080/"
        },
        "id": "xR7bsC9KLKiD",
        "outputId": "5c919a0b-d92c-454e-c250-b3a635d22cb5"
      },
      "execution_count": 25,
      "outputs": [
        {
          "output_type": "stream",
          "name": "stdout",
          "text": [
            "Class distribution before resampling: Counter({'MCI': 2933, 'CN': 2303, 'Dementia': 760})\n",
            "Samples before resampling: 5996\n",
            "Class distribution after resampling: Counter({'MCI': 2933, 'CN': 2933, 'Dementia': 2933})\n",
            "Samples after resampling: 8799\n"
          ]
        }
      ]
    },
    {
      "cell_type": "markdown",
      "source": [
        "# **%%%%%%%%%%%%%RFC - OVER SAMPLED PERFORMANCE%%%%%%%%%%%%%%%**"
      ],
      "metadata": {
        "id": "aKvUvrAkBM62"
      }
    },
    {
      "cell_type": "code",
      "source": [
        "model_RFC_balanced = RandomForestClassifier(random_state=42) #Using Random Forest Classifier model\n",
        "model_RFC_balanced.fit(X_train_resampled,y_train_resampled) #Training\n",
        "y_pred_rfc_balenced = model_RFC_balanced.predict(X_test) #Predictions\n",
        "print(\"Model accuracy: \" + str(accuracy_score(y_test,y_pred_rfc_balenced)))\n",
        "print(classification_report(y_test,y_pred_rfc_balenced))\n",
        "print(model_RFC_balanced.classes_)\n",
        "accuracies.append(round(100*accuracy_score(y_test,y_pred_rfc_balenced),3))\n",
        "models.append('RFC_OS')"
      ],
      "metadata": {
        "colab": {
          "base_uri": "https://localhost:8080/"
        },
        "id": "HYE4B590Nj9V",
        "outputId": "5129091b-9fbb-4e20-e683-babf6373d970"
      },
      "execution_count": 26,
      "outputs": [
        {
          "output_type": "stream",
          "name": "stderr",
          "text": [
            "<ipython-input-26-896989e31cd8>:2: DataConversionWarning: A column-vector y was passed when a 1d array was expected. Please change the shape of y to (n_samples,), for example using ravel().\n",
            "  model_RFC_balanced.fit(X_train_resampled,y_train_resampled) #Training\n"
          ]
        },
        {
          "output_type": "stream",
          "name": "stdout",
          "text": [
            "Model accuracy: 0.8898832684824902\n",
            "              precision    recall  f1-score   support\n",
            "\n",
            "          CN       0.92      0.91      0.92       987\n",
            "    Dementia       0.84      0.79      0.81       326\n",
            "         MCI       0.88      0.90      0.89      1257\n",
            "\n",
            "    accuracy                           0.89      2570\n",
            "   macro avg       0.88      0.87      0.87      2570\n",
            "weighted avg       0.89      0.89      0.89      2570\n",
            "\n",
            "['CN' 'Dementia' 'MCI']\n"
          ]
        }
      ]
    },
    {
      "cell_type": "code",
      "source": [
        "cm = confusion_matrix(y_test, y_pred_rfc_balenced, labels = model_RFC_balanced.classes_)\n",
        "disp = ConfusionMatrixDisplay(confusion_matrix = cm , display_labels = model_RFC_balanced.classes_)\n",
        "disp.plot()"
      ],
      "metadata": {
        "colab": {
          "base_uri": "https://localhost:8080/",
          "height": 467
        },
        "id": "4TGtkGoCOP9_",
        "outputId": "8051f1d7-f7a0-44b6-8e6f-558b1fbca9cd"
      },
      "execution_count": 27,
      "outputs": [
        {
          "output_type": "execute_result",
          "data": {
            "text/plain": [
              "<sklearn.metrics._plot.confusion_matrix.ConfusionMatrixDisplay at 0x7953b62fbe20>"
            ]
          },
          "metadata": {},
          "execution_count": 27
        },
        {
          "output_type": "display_data",
          "data": {
            "text/plain": [
              "<Figure size 640x480 with 2 Axes>"
            ],
            "image/png": "[encoded data removed]"
          },
          "metadata": {}
        }
      ]
    },
    {
      "cell_type": "markdown",
      "source": [
        "# **%%%%%%%%%%%%%XGB - OVER SAMPLED PERFORMANCE%%%%%%%%%%%%%%%**"
      ],
      "metadata": {
        "id": "gHL0-e3NiQ1J"
      }
    },
    {
      "cell_type": "code",
      "source": [
        "import pandas as pd\n",
        "import xgboost as xgb\n",
        "from sklearn.model_selection import train_test_split\n",
        "from sklearn.metrics import accuracy_score\n",
        "\n",
        "np.random.seed(42)\n",
        "y_train_list_resampled = list(y_train_resampled.DX)\n",
        "y_test_list_resampled = list(y_test.DX)\n",
        "\n",
        "# Convert the training and testing sets into DMatrix format (specific to XGBoost)\n",
        "y_train_resampled1 = convert_labels(y_train_list_resampled)\n",
        "y_test1 = convert_labels(y_test_list_resampled)\n",
        "train_dmatrix_resampled = xgb.DMatrix(data=X_train_resampled, label=y_train_resampled1)\n",
        "test_dmatrix = xgb.DMatrix(data=X_test, label=y_test1)\n",
        "\n",
        "# Define the parameters for XGBoost\n",
        "params = {\n",
        "    'objective': 'multi:softmax',  # for multi-class classification\n",
        "    'num_class': 3,  # number of classes\n",
        "    'eval_metric': 'merror',  # evaluation metric\n",
        "    'eta': 0.1,  # learning rate\n",
        "    'max_depth': 3  # maximum depth of each tree\n",
        "}\n",
        "\n",
        "# Train the XGBoost model\n",
        "num_rounds = 100  # number of boosting rounds\n",
        "model_XGB_balanced = xgb.train(params, train_dmatrix_resampled, num_rounds)\n",
        "\n",
        "# Make predictions on the testing set\n",
        "y_pred_xgb_balanced = model_XGB_balanced.predict(test_dmatrix)\n",
        "\n",
        "# Evaluate the model\n",
        "print(\"Model accuracy: \" + str(accuracy_score(y_test1,y_pred_xgb_balanced)))\n",
        "print(classification_report(y_test1,y_pred_xgb_balanced))\n",
        "print(label_converter)\n",
        "accuracies.append(round(100*accuracy_score(y_test1,y_pred_xgb_balanced),3))\n",
        "models.append('XGB_OS')"
      ],
      "metadata": {
        "colab": {
          "base_uri": "https://localhost:8080/"
        },
        "outputId": "2cb954be-ebb6-4b87-b42b-bb6e3704102e",
        "id": "9H-96VYViNHy"
      },
      "execution_count": 28,
      "outputs": [
        {
          "output_type": "stream",
          "name": "stdout",
          "text": [
            "Model accuracy: 0.8840466926070039\n",
            "              precision    recall  f1-score   support\n",
            "\n",
            "           0       0.91      0.92      0.91       987\n",
            "           1       0.77      0.86      0.81       326\n",
            "           2       0.90      0.86      0.88      1257\n",
            "\n",
            "    accuracy                           0.88      2570\n",
            "   macro avg       0.86      0.88      0.87      2570\n",
            "weighted avg       0.89      0.88      0.88      2570\n",
            "\n",
            "{'CN': 0, 'Dementia': 1, 'MCI': 2}\n"
          ]
        }
      ]
    },
    {
      "cell_type": "code",
      "source": [
        "cm = confusion_matrix(y_test1, y_pred_xgb_balanced, labels = list(label_converter.values()))\n",
        "disp = ConfusionMatrixDisplay(confusion_matrix = cm , display_labels = list(label_converter.values()))\n",
        "disp.plot()"
      ],
      "metadata": {
        "colab": {
          "base_uri": "https://localhost:8080/",
          "height": 467
        },
        "id": "q_xOd1dgVDee",
        "outputId": "5c86fb52-ad7e-404f-ae7e-419020d9fd1b"
      },
      "execution_count": 29,
      "outputs": [
        {
          "output_type": "execute_result",
          "data": {
            "text/plain": [
              "<sklearn.metrics._plot.confusion_matrix.ConfusionMatrixDisplay at 0x7953b6147fd0>"
            ]
          },
          "metadata": {},
          "execution_count": 29
        },
        {
          "output_type": "display_data",
          "data": {
            "text/plain": [
              "<Figure size 640x480 with 2 Axes>"
            ],
            "image/png": "[encoded data removed]"
          },
          "metadata": {}
        }
      ]
    },
    {
      "cell_type": "markdown",
      "source": [
        "# **%%%%%%%%%%%%%SUMMERIZE%%%%%%%%%%%%%%%**"
      ],
      "metadata": {
        "id": "LB4ZFkSAZfwI"
      }
    },
    {
      "cell_type": "code",
      "source": [
        "# Create a bar plot\n",
        "sns.set(style=\"whitegrid\")  # Optional: Set a seaborn style\n",
        "ax = sns.barplot(x=models, y=accuracies, palette = \"Set3\")\n",
        "\n",
        "\n",
        "# Add labels and a title\n",
        "plt.xlabel(\"Model\")\n",
        "plt.ylabel(\"Accuracy [%]\")\n",
        "plt.title(\"Accuracies of Each Model\")\n",
        "\n",
        "# Display the values in the center of each bar\n",
        "for i, v in enumerate(accuracies):\n",
        "    ax.text(i, v + 1, str(v), ha='center', va='bottom', fontsize=10, color='black')\n",
        "\n",
        "# Show the plot\n",
        "plt.show()"
      ],
      "metadata": {
        "colab": {
          "base_uri": "https://localhost:8080/",
          "height": 481
        },
        "id": "_FH8urr_QZuD",
        "outputId": "06349a3b-d316-499d-e70e-5e34f93460e3"
      },
      "execution_count": 30,
      "outputs": [
        {
          "output_type": "display_data",
          "data": {
            "text/plain": [
              "<Figure size 640x480 with 1 Axes>"
            ],
            "image/png": "[encoded data removed]"
          },
          "metadata": {}
        }
      ]
    }
  ]
}
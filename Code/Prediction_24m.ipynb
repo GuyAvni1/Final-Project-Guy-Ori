{
  "nbformat": 4,
  "nbformat_minor": 0,
  "metadata": {
    "colab": {
      "provenance": [],
      "authorship_tag": "ABX9TyNfg+IqXHFSnPSmIQcikAWo",
      "include_colab_link": true
    },
    "kernelspec": {
      "name": "python3",
      "display_name": "Python 3"
    },
    "language_info": {
      "name": "python"
    }
  },
  "cells": [
    {
      "cell_type": "markdown",
      "metadata": {
        "id": "view-in-github",
        "colab_type": "text"
      },
      "source": [
        "<a href=\"https://colab.research.google.com/github/GuyAvni1/Final-Project-Guy-Ori/blob/main/Code/Prediction_24m.ipynb\" target=\"_parent\"><img src=\"https://colab.research.google.com/assets/colab-badge.svg\" alt=\"Open In Colab\"/></a>"
      ]
    },
    {
      "cell_type": "code",
      "execution_count": 1,
      "metadata": {
        "id": "QhcOqxvVzEcE"
      },
      "outputs": [],
      "source": [
        "import pandas as pd\n",
        "import numpy as np\n",
        "import sklearn\n",
        "import seaborn as sns\n",
        "import matplotlib.pyplot as plt\n",
        "from sklearn.svm import SVC, LinearSVC\n",
        "from sklearn.metrics import classification_report\n",
        "from sklearn.model_selection import train_test_split\n",
        "from sklearn.preprocessing import StandardScaler\n",
        "from sklearn.metrics import confusion_matrix, ConfusionMatrixDisplay"
      ]
    },
    {
      "cell_type": "code",
      "source": [
        "pd.set_option('display.max_rows', 999)\n",
        "pd.set_option('display.max_columns', 999)"
      ],
      "metadata": {
        "id": "VgxrZyQDh6Ak"
      },
      "execution_count": 2,
      "outputs": []
    },
    {
      "cell_type": "code",
      "source": [
        "from google.colab import drive\n",
        "drive.mount('/content/drive')"
      ],
      "metadata": {
        "colab": {
          "base_uri": "https://localhost:8080/"
        },
        "id": "VPzLH75xzF6p",
        "outputId": "59324d2f-0ce1-4222-abbe-b2154a74b817"
      },
      "execution_count": 3,
      "outputs": [
        {
          "output_type": "stream",
          "name": "stdout",
          "text": [
            "Mounted at /content/drive\n"
          ]
        }
      ]
    },
    {
      "cell_type": "code",
      "source": [
        "#Reading the data set from the drive\n",
        "raw = pd.read_csv(\"/content/drive/MyDrive/Final_Project_Data/future_of_24m.csv\")\n",
        "# print(raw)\n",
        "data = raw\n",
        "# Define a mapping of labels to numerical values to creater baseline lable feature for training\n",
        "label_mapping = {'CN': 0,'MCI': 1,  'Dementia': 2}\n",
        "\n",
        "# Apply label encoding to the 'DX' column\n",
        "data['DX'] = data['DX'].map(label_mapping)\n",
        "data #Showing an example of the first 5 rows.\n"
      ],
      "metadata": {
        "colab": {
          "base_uri": "https://localhost:8080/",
          "height": 443
        },
        "id": "Gieoh2oV7827",
        "outputId": "12addf0e-e247-4468-8a54-fecb8cba2be1"
      },
      "execution_count": 5,
      "outputs": [
        {
          "output_type": "execute_result",
          "data": {
            "text/plain": [
              "       RID  VISCODE  DX       FDG      AV45        ABETA         TAU  \\\n",
              "0        4       12   1  1.249843  0.988851  1176.000000  159.700000   \n",
              "1        5        0   0  1.259560  1.350386   547.300000  337.000000   \n",
              "2        5       12   0  1.280900  1.354343   472.800000  334.100000   \n",
              "3        6        0   1  1.123786  1.270353   728.137328  418.505157   \n",
              "4        6       12   1  1.097936  1.286307   734.075949  404.077598   \n",
              "...    ...      ...  ..       ...       ...          ...         ...   \n",
              "3772  6830        0   1  1.096750  0.928400  1540.277557  427.283953   \n",
              "3773  6842        0   1  1.342880  1.061799  1523.943643  433.570166   \n",
              "3774  6852        0   1  1.177840  1.555300   688.549776  409.324116   \n",
              "3775  6857        0   1  1.227901  1.024300  1517.429526  435.307839   \n",
              "3776  6889        0   1  1.165580  1.184792  1000.090396  424.937334   \n",
              "\n",
              "           PTAU  CDRSB  ADAS11     ADAS13  MMSE  RAVLT_immediate  \\\n",
              "0     13.300000    1.0   15.00  22.000000  26.0             37.0   \n",
              "1     33.430000    0.0    8.67  14.670000  29.0             37.0   \n",
              "2     34.040000    1.5    5.67   9.393589  30.0             40.0   \n",
              "3     39.071683    0.5   18.67  25.670000  25.0             30.0   \n",
              "4     35.226350    1.5   18.67  25.670000  26.0             31.0   \n",
              "...         ...    ...     ...        ...   ...              ...   \n",
              "3772  39.244616    1.0    7.33  12.330000  29.0             34.0   \n",
              "3773  39.218813    0.5    4.67   6.670000  29.0             42.0   \n",
              "3774  43.126292    0.5    9.00  21.000000  27.0             24.0   \n",
              "3775  40.484740    2.5   10.67  18.670000  29.0             33.0   \n",
              "3776  41.218755    1.0   18.00  25.000000  28.0             21.0   \n",
              "\n",
              "      RAVLT_forgetting  RAVLT_perc_forgetting  FAQ       MOCA  RAVLT_learning  \\\n",
              "0                  1.0                12.5000  0.0  22.047959             4.0   \n",
              "1                  4.0                44.4444  0.0  22.879384             4.0   \n",
              "2                  6.0                50.0000  0.0  25.098837             6.0   \n",
              "3                  5.0                83.3333  0.0  20.237177             1.0   \n",
              "4                  8.0               100.0000  0.0  20.282133             4.0   \n",
              "...                ...                    ...  ...        ...             ...   \n",
              "3772               4.0                40.0000  1.0  20.000000             6.0   \n",
              "3773               2.0                18.1818  2.0  27.000000             7.0   \n",
              "3774               6.0               100.0000  0.0  24.000000             1.0   \n",
              "3775               5.0                71.4286  9.0  22.000000             0.0   \n",
              "3776               5.0                83.3333  1.0  20.000000             4.0   \n",
              "\n",
              "        Ventricles  Hippocampus    WholeBrain   Entorhinal      Fusiform  \\\n",
              "0     38527.000000  6451.000000  1.117390e+06  3519.000000  18691.000000   \n",
              "1     34062.000000  7075.000000  1.116630e+06  4433.000000  24788.000000   \n",
              "2     35333.000000  6832.000000  1.102410e+06  3609.000000  24193.000000   \n",
              "3     39826.000000  5348.000000  9.275100e+05  2277.000000  17963.000000   \n",
              "4     40676.000000  5534.000000  9.545680e+05  2420.000000  17848.000000   \n",
              "...            ...          ...           ...          ...           ...   \n",
              "3772  64659.600000  6741.000000  1.019500e+06  3745.000000  17088.000000   \n",
              "3773  34217.100000  7748.400000  1.068140e+06  4921.000000  18842.000000   \n",
              "3774  39776.300000  7095.400000  1.026360e+06  3796.000000  18810.000000   \n",
              "3775  29954.100000  8503.900000  1.103170e+06  5527.000000  20781.000000   \n",
              "3776  41269.034792  6798.511694  1.025557e+06  3711.740783  17974.744805   \n",
              "\n",
              "           MidTemp           ICV Transition  \n",
              "0     19758.000000  1.656740e+06   MCItoMCI  \n",
              "1     21614.000000  1.640770e+06     CNtoCN  \n",
              "2     20474.000000  1.631430e+06     CNtoCN  \n",
              "3     17802.000000  1.485830e+06   MCItoMCI  \n",
              "4     18289.000000  1.512740e+06   MCItoMCI  \n",
              "...            ...           ...        ...  \n",
              "3772  21518.000000  1.420800e+06   MCItoMCI  \n",
              "3773  20386.000000  1.427030e+06   MCItoMCI  \n",
              "3774  21041.000000  1.338580e+06    MCItoAD  \n",
              "3775  22019.000000  1.541780e+06   MCItoMCI  \n",
              "3776  19929.271095  1.586629e+06   MCItoMCI  \n",
              "\n",
              "[3777 rows x 26 columns]"
            ],
            "text/html": [
              "\n",
              "  <div id=\"df-186b75e4-a810-4ef0-963b-8b140fa1b361\" class=\"colab-df-container\">\n",
              "    <div>\n",
              "<style scoped>\n",
              "    .dataframe tbody tr th:only-of-type {\n",
              "        vertical-align: middle;\n",
              "    }\n",
              "\n",
              "    .dataframe tbody tr th {\n",
              "        vertical-align: top;\n",
              "    }\n",
              "\n",
              "    .dataframe thead th {\n",
              "        text-align: right;\n",
              "    }\n",
              "</style>\n",
              "<table border=\"1\" class=\"dataframe\">\n",
              "  <thead>\n",
              "    <tr style=\"text-align: right;\">\n",
              "      <th></th>\n",
              "      <th>RID</th>\n",
              "      <th>VISCODE</th>\n",
              "      <th>DX</th>\n",
              "      <th>FDG</th>\n",
              "      <th>AV45</th>\n",
              "      <th>ABETA</th>\n",
              "      <th>TAU</th>\n",
              "      <th>PTAU</th>\n",
              "      <th>CDRSB</th>\n",
              "      <th>ADAS11</th>\n",
              "      <th>ADAS13</th>\n",
              "      <th>MMSE</th>\n",
              "      <th>RAVLT_immediate</th>\n",
              "      <th>RAVLT_forgetting</th>\n",
              "      <th>RAVLT_perc_forgetting</th>\n",
              "      <th>FAQ</th>\n",
              "      <th>MOCA</th>\n",
              "      <th>RAVLT_learning</th>\n",
              "      <th>Ventricles</th>\n",
              "      <th>Hippocampus</th>\n",
              "      <th>WholeBrain</th>\n",
              "      <th>Entorhinal</th>\n",
              "      <th>Fusiform</th>\n",
              "      <th>MidTemp</th>\n",
              "      <th>ICV</th>\n",
              "      <th>Transition</th>\n",
              "    </tr>\n",
              "  </thead>\n",
              "  <tbody>\n",
              "    <tr>\n",
              "      <th>0</th>\n",
              "      <td>4</td>\n",
              "      <td>12</td>\n",
              "      <td>1</td>\n",
              "      <td>1.249843</td>\n",
              "      <td>0.988851</td>\n",
              "      <td>1176.000000</td>\n",
              "      <td>159.700000</td>\n",
              "      <td>13.300000</td>\n",
              "      <td>1.0</td>\n",
              "      <td>15.00</td>\n",
              "      <td>22.000000</td>\n",
              "      <td>26.0</td>\n",
              "      <td>37.0</td>\n",
              "      <td>1.0</td>\n",
              "      <td>12.5000</td>\n",
              "      <td>0.0</td>\n",
              "      <td>22.047959</td>\n",
              "      <td>4.0</td>\n",
              "      <td>38527.000000</td>\n",
              "      <td>6451.000000</td>\n",
              "      <td>1.117390e+06</td>\n",
              "      <td>3519.000000</td>\n",
              "      <td>18691.000000</td>\n",
              "      <td>19758.000000</td>\n",
              "      <td>1.656740e+06</td>\n",
              "      <td>MCItoMCI</td>\n",
              "    </tr>\n",
              "    <tr>\n",
              "      <th>1</th>\n",
              "      <td>5</td>\n",
              "      <td>0</td>\n",
              "      <td>0</td>\n",
              "      <td>1.259560</td>\n",
              "      <td>1.350386</td>\n",
              "      <td>547.300000</td>\n",
              "      <td>337.000000</td>\n",
              "      <td>33.430000</td>\n",
              "      <td>0.0</td>\n",
              "      <td>8.67</td>\n",
              "      <td>14.670000</td>\n",
              "      <td>29.0</td>\n",
              "      <td>37.0</td>\n",
              "      <td>4.0</td>\n",
              "      <td>44.4444</td>\n",
              "      <td>0.0</td>\n",
              "      <td>22.879384</td>\n",
              "      <td>4.0</td>\n",
              "      <td>34062.000000</td>\n",
              "      <td>7075.000000</td>\n",
              "      <td>1.116630e+06</td>\n",
              "      <td>4433.000000</td>\n",
              "      <td>24788.000000</td>\n",
              "      <td>21614.000000</td>\n",
              "      <td>1.640770e+06</td>\n",
              "      <td>CNtoCN</td>\n",
              "    </tr>\n",
              "    <tr>\n",
              "      <th>2</th>\n",
              "      <td>5</td>\n",
              "      <td>12</td>\n",
              "      <td>0</td>\n",
              "      <td>1.280900</td>\n",
              "      <td>1.354343</td>\n",
              "      <td>472.800000</td>\n",
              "      <td>334.100000</td>\n",
              "      <td>34.040000</td>\n",
              "      <td>1.5</td>\n",
              "      <td>5.67</td>\n",
              "      <td>9.393589</td>\n",
              "      <td>30.0</td>\n",
              "      <td>40.0</td>\n",
              "      <td>6.0</td>\n",
              "      <td>50.0000</td>\n",
              "      <td>0.0</td>\n",
              "      <td>25.098837</td>\n",
              "      <td>6.0</td>\n",
              "      <td>35333.000000</td>\n",
              "      <td>6832.000000</td>\n",
              "      <td>1.102410e+06</td>\n",
              "      <td>3609.000000</td>\n",
              "      <td>24193.000000</td>\n",
              "      <td>20474.000000</td>\n",
              "      <td>1.631430e+06</td>\n",
              "      <td>CNtoCN</td>\n",
              "    </tr>\n",
              "    <tr>\n",
              "      <th>3</th>\n",
              "      <td>6</td>\n",
              "      <td>0</td>\n",
              "      <td>1</td>\n",
              "      <td>1.123786</td>\n",
              "      <td>1.270353</td>\n",
              "      <td>728.137328</td>\n",
              "      <td>418.505157</td>\n",
              "      <td>39.071683</td>\n",
              "      <td>0.5</td>\n",
              "      <td>18.67</td>\n",
              "      <td>25.670000</td>\n",
              "      <td>25.0</td>\n",
              "      <td>30.0</td>\n",
              "      <td>5.0</td>\n",
              "      <td>83.3333</td>\n",
              "      <td>0.0</td>\n",
              "      <td>20.237177</td>\n",
              "      <td>1.0</td>\n",
              "      <td>39826.000000</td>\n",
              "      <td>5348.000000</td>\n",
              "      <td>9.275100e+05</td>\n",
              "      <td>2277.000000</td>\n",
              "      <td>17963.000000</td>\n",
              "      <td>17802.000000</td>\n",
              "      <td>1.485830e+06</td>\n",
              "      <td>MCItoMCI</td>\n",
              "    </tr>\n",
              "    <tr>\n",
              "      <th>4</th>\n",
              "      <td>6</td>\n",
              "      <td>12</td>\n",
              "      <td>1</td>\n",
              "      <td>1.097936</td>\n",
              "      <td>1.286307</td>\n",
              "      <td>734.075949</td>\n",
              "      <td>404.077598</td>\n",
              "      <td>35.226350</td>\n",
              "      <td>1.5</td>\n",
              "      <td>18.67</td>\n",
              "      <td>25.670000</td>\n",
              "      <td>26.0</td>\n",
              "      <td>31.0</td>\n",
              "      <td>8.0</td>\n",
              "      <td>100.0000</td>\n",
              "      <td>0.0</td>\n",
              "      <td>20.282133</td>\n",
              "      <td>4.0</td>\n",
              "      <td>40676.000000</td>\n",
              "      <td>5534.000000</td>\n",
              "      <td>9.545680e+05</td>\n",
              "      <td>2420.000000</td>\n",
              "      <td>17848.000000</td>\n",
              "      <td>18289.000000</td>\n",
              "      <td>1.512740e+06</td>\n",
              "      <td>MCItoMCI</td>\n",
              "    </tr>\n",
              "    <tr>\n",
              "      <th>...</th>\n",
              "      <td>...</td>\n",
              "      <td>...</td>\n",
              "      <td>...</td>\n",
              "      <td>...</td>\n",
              "      <td>...</td>\n",
              "      <td>...</td>\n",
              "      <td>...</td>\n",
              "      <td>...</td>\n",
              "      <td>...</td>\n",
              "      <td>...</td>\n",
              "      <td>...</td>\n",
              "      <td>...</td>\n",
              "      <td>...</td>\n",
              "      <td>...</td>\n",
              "      <td>...</td>\n",
              "      <td>...</td>\n",
              "      <td>...</td>\n",
              "      <td>...</td>\n",
              "      <td>...</td>\n",
              "      <td>...</td>\n",
              "      <td>...</td>\n",
              "      <td>...</td>\n",
              "      <td>...</td>\n",
              "      <td>...</td>\n",
              "      <td>...</td>\n",
              "      <td>...</td>\n",
              "    </tr>\n",
              "    <tr>\n",
              "      <th>3772</th>\n",
              "      <td>6830</td>\n",
              "      <td>0</td>\n",
              "      <td>1</td>\n",
              "      <td>1.096750</td>\n",
              "      <td>0.928400</td>\n",
              "      <td>1540.277557</td>\n",
              "      <td>427.283953</td>\n",
              "      <td>39.244616</td>\n",
              "      <td>1.0</td>\n",
              "      <td>7.33</td>\n",
              "      <td>12.330000</td>\n",
              "      <td>29.0</td>\n",
              "      <td>34.0</td>\n",
              "      <td>4.0</td>\n",
              "      <td>40.0000</td>\n",
              "      <td>1.0</td>\n",
              "      <td>20.000000</td>\n",
              "      <td>6.0</td>\n",
              "      <td>64659.600000</td>\n",
              "      <td>6741.000000</td>\n",
              "      <td>1.019500e+06</td>\n",
              "      <td>3745.000000</td>\n",
              "      <td>17088.000000</td>\n",
              "      <td>21518.000000</td>\n",
              "      <td>1.420800e+06</td>\n",
              "      <td>MCItoMCI</td>\n",
              "    </tr>\n",
              "    <tr>\n",
              "      <th>3773</th>\n",
              "      <td>6842</td>\n",
              "      <td>0</td>\n",
              "      <td>1</td>\n",
              "      <td>1.342880</td>\n",
              "      <td>1.061799</td>\n",
              "      <td>1523.943643</td>\n",
              "      <td>433.570166</td>\n",
              "      <td>39.218813</td>\n",
              "      <td>0.5</td>\n",
              "      <td>4.67</td>\n",
              "      <td>6.670000</td>\n",
              "      <td>29.0</td>\n",
              "      <td>42.0</td>\n",
              "      <td>2.0</td>\n",
              "      <td>18.1818</td>\n",
              "      <td>2.0</td>\n",
              "      <td>27.000000</td>\n",
              "      <td>7.0</td>\n",
              "      <td>34217.100000</td>\n",
              "      <td>7748.400000</td>\n",
              "      <td>1.068140e+06</td>\n",
              "      <td>4921.000000</td>\n",
              "      <td>18842.000000</td>\n",
              "      <td>20386.000000</td>\n",
              "      <td>1.427030e+06</td>\n",
              "      <td>MCItoMCI</td>\n",
              "    </tr>\n",
              "    <tr>\n",
              "      <th>3774</th>\n",
              "      <td>6852</td>\n",
              "      <td>0</td>\n",
              "      <td>1</td>\n",
              "      <td>1.177840</td>\n",
              "      <td>1.555300</td>\n",
              "      <td>688.549776</td>\n",
              "      <td>409.324116</td>\n",
              "      <td>43.126292</td>\n",
              "      <td>0.5</td>\n",
              "      <td>9.00</td>\n",
              "      <td>21.000000</td>\n",
              "      <td>27.0</td>\n",
              "      <td>24.0</td>\n",
              "      <td>6.0</td>\n",
              "      <td>100.0000</td>\n",
              "      <td>0.0</td>\n",
              "      <td>24.000000</td>\n",
              "      <td>1.0</td>\n",
              "      <td>39776.300000</td>\n",
              "      <td>7095.400000</td>\n",
              "      <td>1.026360e+06</td>\n",
              "      <td>3796.000000</td>\n",
              "      <td>18810.000000</td>\n",
              "      <td>21041.000000</td>\n",
              "      <td>1.338580e+06</td>\n",
              "      <td>MCItoAD</td>\n",
              "    </tr>\n",
              "    <tr>\n",
              "      <th>3775</th>\n",
              "      <td>6857</td>\n",
              "      <td>0</td>\n",
              "      <td>1</td>\n",
              "      <td>1.227901</td>\n",
              "      <td>1.024300</td>\n",
              "      <td>1517.429526</td>\n",
              "      <td>435.307839</td>\n",
              "      <td>40.484740</td>\n",
              "      <td>2.5</td>\n",
              "      <td>10.67</td>\n",
              "      <td>18.670000</td>\n",
              "      <td>29.0</td>\n",
              "      <td>33.0</td>\n",
              "      <td>5.0</td>\n",
              "      <td>71.4286</td>\n",
              "      <td>9.0</td>\n",
              "      <td>22.000000</td>\n",
              "      <td>0.0</td>\n",
              "      <td>29954.100000</td>\n",
              "      <td>8503.900000</td>\n",
              "      <td>1.103170e+06</td>\n",
              "      <td>5527.000000</td>\n",
              "      <td>20781.000000</td>\n",
              "      <td>22019.000000</td>\n",
              "      <td>1.541780e+06</td>\n",
              "      <td>MCItoMCI</td>\n",
              "    </tr>\n",
              "    <tr>\n",
              "      <th>3776</th>\n",
              "      <td>6889</td>\n",
              "      <td>0</td>\n",
              "      <td>1</td>\n",
              "      <td>1.165580</td>\n",
              "      <td>1.184792</td>\n",
              "      <td>1000.090396</td>\n",
              "      <td>424.937334</td>\n",
              "      <td>41.218755</td>\n",
              "      <td>1.0</td>\n",
              "      <td>18.00</td>\n",
              "      <td>25.000000</td>\n",
              "      <td>28.0</td>\n",
              "      <td>21.0</td>\n",
              "      <td>5.0</td>\n",
              "      <td>83.3333</td>\n",
              "      <td>1.0</td>\n",
              "      <td>20.000000</td>\n",
              "      <td>4.0</td>\n",
              "      <td>41269.034792</td>\n",
              "      <td>6798.511694</td>\n",
              "      <td>1.025557e+06</td>\n",
              "      <td>3711.740783</td>\n",
              "      <td>17974.744805</td>\n",
              "      <td>19929.271095</td>\n",
              "      <td>1.586629e+06</td>\n",
              "      <td>MCItoMCI</td>\n",
              "    </tr>\n",
              "  </tbody>\n",
              "</table>\n",
              "<p>3777 rows × 26 columns</p>\n",
              "</div>\n",
              "    <div class=\"colab-df-buttons\">\n",
              "\n",
              "  <div class=\"colab-df-container\">\n",
              "    <button class=\"colab-df-convert\" onclick=\"convertToInteractive('df-186b75e4-a810-4ef0-963b-8b140fa1b361')\"\n",
              "            title=\"Convert this dataframe to an interactive table.\"\n",
              "            style=\"display:none;\">\n",
              "\n",
              "  <svg xmlns=\"http://www.w3.org/2000/svg\" height=\"24px\" viewBox=\"0 -960 960 960\">\n",
              "    <path d=\"M120-120v-720h720v720H120Zm60-500h600v-160H180v160Zm220 220h160v-160H400v160Zm0 220h160v-160H400v160ZM180-400h160v-160H180v160Zm440 0h160v-160H620v160ZM180-180h160v-160H180v160Zm440 0h160v-160H620v160Z\"/>\n",
              "  </svg>\n",
              "    </button>\n",
              "\n",
              "  <style>\n",
              "    .colab-df-container {\n",
              "      display:flex;\n",
              "      gap: 12px;\n",
              "    }\n",
              "\n",
              "    .colab-df-convert {\n",
              "      background-color: #E8F0FE;\n",
              "      border: none;\n",
              "      border-radius: 50%;\n",
              "      cursor: pointer;\n",
              "      display: none;\n",
              "      fill: #1967D2;\n",
              "      height: 32px;\n",
              "      padding: 0 0 0 0;\n",
              "      width: 32px;\n",
              "    }\n",
              "\n",
              "    .colab-df-convert:hover {\n",
              "      background-color: #E2EBFA;\n",
              "      box-shadow: 0px 1px 2px rgba(60, 64, 67, 0.3), 0px 1px 3px 1px rgba(60, 64, 67, 0.15);\n",
              "      fill: #174EA6;\n",
              "    }\n",
              "\n",
              "    .colab-df-buttons div {\n",
              "      margin-bottom: 4px;\n",
              "    }\n",
              "\n",
              "    [theme=dark] .colab-df-convert {\n",
              "      background-color: #3B4455;\n",
              "      fill: #D2E3FC;\n",
              "    }\n",
              "\n",
              "    [theme=dark] .colab-df-convert:hover {\n",
              "      background-color: #434B5C;\n",
              "      box-shadow: 0px 1px 3px 1px rgba(0, 0, 0, 0.15);\n",
              "      filter: drop-shadow(0px 1px 2px rgba(0, 0, 0, 0.3));\n",
              "      fill: #FFFFFF;\n",
              "    }\n",
              "  </style>\n",
              "\n",
              "    <script>\n",
              "      const buttonEl =\n",
              "        document.querySelector('#df-186b75e4-a810-4ef0-963b-8b140fa1b361 button.colab-df-convert');\n",
              "      buttonEl.style.display =\n",
              "        google.colab.kernel.accessAllowed ? 'block' : 'none';\n",
              "\n",
              "      async function convertToInteractive(key) {\n",
              "        const element = document.querySelector('#df-186b75e4-a810-4ef0-963b-8b140fa1b361');\n",
              "        const dataTable =\n",
              "          await google.colab.kernel.invokeFunction('convertToInteractive',\n",
              "                                                    [key], {});\n",
              "        if (!dataTable) return;\n",
              "\n",
              "        const docLinkHtml = 'Like what you see? Visit the ' +\n",
              "          '<a target=\"_blank\" href=https://colab.research.google.com/notebooks/data_table.ipynb>data table notebook</a>'\n",
              "          + ' to learn more about interactive tables.';\n",
              "        element.innerHTML = '';\n",
              "        dataTable['output_type'] = 'display_data';\n",
              "        await google.colab.output.renderOutput(dataTable, element);\n",
              "        const docLink = document.createElement('div');\n",
              "        docLink.innerHTML = docLinkHtml;\n",
              "        element.appendChild(docLink);\n",
              "      }\n",
              "    </script>\n",
              "  </div>\n",
              "\n",
              "\n",
              "<div id=\"df-7eb5ec96-a41c-432b-bffc-1805ef62f0d0\">\n",
              "  <button class=\"colab-df-quickchart\" onclick=\"quickchart('df-7eb5ec96-a41c-432b-bffc-1805ef62f0d0')\"\n",
              "            title=\"Suggest charts.\"\n",
              "            style=\"display:none;\">\n",
              "\n",
              "<svg xmlns=\"http://www.w3.org/2000/svg\" height=\"24px\"viewBox=\"0 0 24 24\"\n",
              "     width=\"24px\">\n",
              "    <g>\n",
              "        <path d=\"M19 3H5c-1.1 0-2 .9-2 2v14c0 1.1.9 2 2 2h14c1.1 0 2-.9 2-2V5c0-1.1-.9-2-2-2zM9 17H7v-7h2v7zm4 0h-2V7h2v10zm4 0h-2v-4h2v4z\"/>\n",
              "    </g>\n",
              "</svg>\n",
              "  </button>\n",
              "\n",
              "<style>\n",
              "  .colab-df-quickchart {\n",
              "      --bg-color: #E8F0FE;\n",
              "      --fill-color: #1967D2;\n",
              "      --hover-bg-color: #E2EBFA;\n",
              "      --hover-fill-color: #174EA6;\n",
              "      --disabled-fill-color: #AAA;\n",
              "      --disabled-bg-color: #DDD;\n",
              "  }\n",
              "\n",
              "  [theme=dark] .colab-df-quickchart {\n",
              "      --bg-color: #3B4455;\n",
              "      --fill-color: #D2E3FC;\n",
              "      --hover-bg-color: #434B5C;\n",
              "      --hover-fill-color: #FFFFFF;\n",
              "      --disabled-bg-color: #3B4455;\n",
              "      --disabled-fill-color: #666;\n",
              "  }\n",
              "\n",
              "  .colab-df-quickchart {\n",
              "    background-color: var(--bg-color);\n",
              "    border: none;\n",
              "    border-radius: 50%;\n",
              "    cursor: pointer;\n",
              "    display: none;\n",
              "    fill: var(--fill-color);\n",
              "    height: 32px;\n",
              "    padding: 0;\n",
              "    width: 32px;\n",
              "  }\n",
              "\n",
              "  .colab-df-quickchart:hover {\n",
              "    background-color: var(--hover-bg-color);\n",
              "    box-shadow: 0 1px 2px rgba(60, 64, 67, 0.3), 0 1px 3px 1px rgba(60, 64, 67, 0.15);\n",
              "    fill: var(--button-hover-fill-color);\n",
              "  }\n",
              "\n",
              "  .colab-df-quickchart-complete:disabled,\n",
              "  .colab-df-quickchart-complete:disabled:hover {\n",
              "    background-color: var(--disabled-bg-color);\n",
              "    fill: var(--disabled-fill-color);\n",
              "    box-shadow: none;\n",
              "  }\n",
              "\n",
              "  .colab-df-spinner {\n",
              "    border: 2px solid var(--fill-color);\n",
              "    border-color: transparent;\n",
              "    border-bottom-color: var(--fill-color);\n",
              "    animation:\n",
              "      spin 1s steps(1) infinite;\n",
              "  }\n",
              "\n",
              "  @keyframes spin {\n",
              "    0% {\n",
              "      border-color: transparent;\n",
              "      border-bottom-color: var(--fill-color);\n",
              "      border-left-color: var(--fill-color);\n",
              "    }\n",
              "    20% {\n",
              "      border-color: transparent;\n",
              "      border-left-color: var(--fill-color);\n",
              "      border-top-color: var(--fill-color);\n",
              "    }\n",
              "    30% {\n",
              "      border-color: transparent;\n",
              "      border-left-color: var(--fill-color);\n",
              "      border-top-color: var(--fill-color);\n",
              "      border-right-color: var(--fill-color);\n",
              "    }\n",
              "    40% {\n",
              "      border-color: transparent;\n",
              "      border-right-color: var(--fill-color);\n",
              "      border-top-color: var(--fill-color);\n",
              "    }\n",
              "    60% {\n",
              "      border-color: transparent;\n",
              "      border-right-color: var(--fill-color);\n",
              "    }\n",
              "    80% {\n",
              "      border-color: transparent;\n",
              "      border-right-color: var(--fill-color);\n",
              "      border-bottom-color: var(--fill-color);\n",
              "    }\n",
              "    90% {\n",
              "      border-color: transparent;\n",
              "      border-bottom-color: var(--fill-color);\n",
              "    }\n",
              "  }\n",
              "</style>\n",
              "\n",
              "  <script>\n",
              "    async function quickchart(key) {\n",
              "      const quickchartButtonEl =\n",
              "        document.querySelector('#' + key + ' button');\n",
              "      quickchartButtonEl.disabled = true;  // To prevent multiple clicks.\n",
              "      quickchartButtonEl.classList.add('colab-df-spinner');\n",
              "      try {\n",
              "        const charts = await google.colab.kernel.invokeFunction(\n",
              "            'suggestCharts', [key], {});\n",
              "      } catch (error) {\n",
              "        console.error('Error during call to suggestCharts:', error);\n",
              "      }\n",
              "      quickchartButtonEl.classList.remove('colab-df-spinner');\n",
              "      quickchartButtonEl.classList.add('colab-df-quickchart-complete');\n",
              "    }\n",
              "    (() => {\n",
              "      let quickchartButtonEl =\n",
              "        document.querySelector('#df-7eb5ec96-a41c-432b-bffc-1805ef62f0d0 button');\n",
              "      quickchartButtonEl.style.display =\n",
              "        google.colab.kernel.accessAllowed ? 'block' : 'none';\n",
              "    })();\n",
              "  </script>\n",
              "</div>\n",
              "    </div>\n",
              "  </div>\n"
            ]
          },
          "metadata": {},
          "execution_count": 5
        }
      ]
    },
    {
      "cell_type": "code",
      "source": [
        "labels = data[['Transition']]\n",
        "train_data = data.drop(['Transition','RID','VISCODE'], axis = 1)\n",
        "print(\"Shape of the training set: {}\".format(train_data.shape))"
      ],
      "metadata": {
        "colab": {
          "base_uri": "https://localhost:8080/"
        },
        "id": "k1njZ0Dr_AGi",
        "outputId": "0838371e-cbd0-4da3-cd35-2adb58218c80"
      },
      "execution_count": 6,
      "outputs": [
        {
          "output_type": "stream",
          "name": "stdout",
          "text": [
            "Shape of the training set: (3777, 23)\n"
          ]
        }
      ]
    },
    {
      "cell_type": "code",
      "source": [
        "labels.value_counts()"
      ],
      "metadata": {
        "colab": {
          "base_uri": "https://localhost:8080/"
        },
        "id": "MFqxOaaLo0Qj",
        "outputId": "aa9d7d70-5927-4ca6-957b-285fbb7170a6"
      },
      "execution_count": 7,
      "outputs": [
        {
          "output_type": "execute_result",
          "data": {
            "text/plain": [
              "Transition\n",
              "MCItoMCI      1457\n",
              "CNtoCN        1449\n",
              "MCItoAD        435\n",
              "ADtoAD         319\n",
              "CNtoMCI        110\n",
              "CNtoAD           7\n",
              "dtype: int64"
            ]
          },
          "metadata": {},
          "execution_count": 7
        }
      ]
    },
    {
      "cell_type": "code",
      "source": [
        "# Splitting the data into train (70%) and test (30%) sets\n",
        "X_train, X_test, y_train, y_test = train_test_split(train_data, labels, test_size=0.3, stratify=labels)\n",
        "print(\"Number of train samples:\" + str(len(X_train)))\n",
        "print(\"Number of test samples:\" + str(len(X_test)))"
      ],
      "metadata": {
        "id": "xCMBPTfWqV9l",
        "colab": {
          "base_uri": "https://localhost:8080/"
        },
        "outputId": "9c35124f-7a30-463a-d091-1ace7e2baa91"
      },
      "execution_count": 8,
      "outputs": [
        {
          "output_type": "stream",
          "name": "stdout",
          "text": [
            "Number of train samples:2643\n",
            "Number of test samples:1134\n"
          ]
        }
      ]
    },
    {
      "cell_type": "code",
      "source": [
        "print(\"Training set distribution:\\n{}\\n\\n\".format(y_train['Transition'].value_counts()))\n",
        "print(\"Test set distribution:\\n{}\".format(y_test['Transition'].value_counts()))"
      ],
      "metadata": {
        "colab": {
          "base_uri": "https://localhost:8080/"
        },
        "id": "AKh4_ttmCjM8",
        "outputId": "8d62194b-d9d8-41f1-89a4-b303ae28b7eb"
      },
      "execution_count": 9,
      "outputs": [
        {
          "output_type": "stream",
          "name": "stdout",
          "text": [
            "Training set distribution:\n",
            "MCItoMCI    1020\n",
            "CNtoCN      1014\n",
            "MCItoAD      304\n",
            "ADtoAD       223\n",
            "CNtoMCI       77\n",
            "CNtoAD         5\n",
            "Name: Transition, dtype: int64\n",
            "\n",
            "\n",
            "Test set distribution:\n",
            "MCItoMCI    437\n",
            "CNtoCN      435\n",
            "MCItoAD     131\n",
            "ADtoAD       96\n",
            "CNtoMCI      33\n",
            "CNtoAD        2\n",
            "Name: Transition, dtype: int64\n"
          ]
        }
      ]
    },
    {
      "cell_type": "code",
      "source": [
        "scaler = StandardScaler()\n",
        "X_train = pd.DataFrame(scaler.fit_transform(X_train))\n",
        "X_test = pd.DataFrame(scaler.fit_transform(X_test))"
      ],
      "metadata": {
        "id": "kHY4WkMjqaNT"
      },
      "execution_count": 10,
      "outputs": []
    },
    {
      "cell_type": "markdown",
      "source": [
        "# **%%%%%%%%%%%%%%%RANDOM FOREST MODEL%%%%%%%%%%%%%%%%%**"
      ],
      "metadata": {
        "id": "cEhtahiZK07Z"
      }
    },
    {
      "cell_type": "code",
      "source": [
        "from sklearn.ensemble import RandomForestClassifier\n",
        "from sklearn.metrics import accuracy_score\n",
        "\n",
        "accuracies = []\n",
        "models = []\n",
        "model_RFC = RandomForestClassifier(random_state=42) #Using Random Forest Classifier model\n",
        "model_RFC.fit(X_train,y_train) #Training\n",
        "y_pred_rfc = model_RFC.predict(X_test) #Predictions\n",
        "print(\"Model accuracy: \" + str(accuracy_score(y_test,y_pred_rfc)))\n",
        "print(classification_report(y_test,y_pred_rfc))\n",
        "print(model_RFC.classes_)\n",
        "accuracies.append(round(100*accuracy_score(y_test,y_pred_rfc),3))\n",
        "models.append('RFC')"
      ],
      "metadata": {
        "colab": {
          "base_uri": "https://localhost:8080/"
        },
        "id": "W-sQW4RWFDYx",
        "outputId": "5464851a-2e01-4a2c-d631-0a5daf553c1d"
      },
      "execution_count": 11,
      "outputs": [
        {
          "output_type": "stream",
          "name": "stderr",
          "text": [
            "<ipython-input-11-fdad10553bd2>:7: DataConversionWarning: A column-vector y was passed when a 1d array was expected. Please change the shape of y to (n_samples,), for example using ravel().\n",
            "  model_RFC.fit(X_train,y_train) #Training\n"
          ]
        },
        {
          "output_type": "stream",
          "name": "stdout",
          "text": [
            "Model accuracy: 0.8959435626102292\n",
            "              precision    recall  f1-score   support\n",
            "\n",
            "      ADtoAD       1.00      1.00      1.00        96\n",
            "      CNtoAD       0.00      0.00      0.00         2\n",
            "      CNtoCN       0.93      1.00      0.96       435\n",
            "     CNtoMCI       0.50      0.03      0.06        33\n",
            "     MCItoAD       0.75      0.55      0.63       131\n",
            "    MCItoMCI       0.88      0.95      0.91       437\n",
            "\n",
            "    accuracy                           0.90      1134\n",
            "   macro avg       0.68      0.59      0.59      1134\n",
            "weighted avg       0.88      0.90      0.88      1134\n",
            "\n",
            "['ADtoAD' 'CNtoAD' 'CNtoCN' 'CNtoMCI' 'MCItoAD' 'MCItoMCI']\n"
          ]
        },
        {
          "output_type": "stream",
          "name": "stderr",
          "text": [
            "/usr/local/lib/python3.10/dist-packages/sklearn/metrics/_classification.py:1344: UndefinedMetricWarning: Precision and F-score are ill-defined and being set to 0.0 in labels with no predicted samples. Use `zero_division` parameter to control this behavior.\n",
            "  _warn_prf(average, modifier, msg_start, len(result))\n",
            "/usr/local/lib/python3.10/dist-packages/sklearn/metrics/_classification.py:1344: UndefinedMetricWarning: Precision and F-score are ill-defined and being set to 0.0 in labels with no predicted samples. Use `zero_division` parameter to control this behavior.\n",
            "  _warn_prf(average, modifier, msg_start, len(result))\n",
            "/usr/local/lib/python3.10/dist-packages/sklearn/metrics/_classification.py:1344: UndefinedMetricWarning: Precision and F-score are ill-defined and being set to 0.0 in labels with no predicted samples. Use `zero_division` parameter to control this behavior.\n",
            "  _warn_prf(average, modifier, msg_start, len(result))\n"
          ]
        }
      ]
    },
    {
      "cell_type": "code",
      "source": [
        "cm = confusion_matrix(y_test, y_pred_rfc, labels = model_RFC.classes_)\n",
        "disp = ConfusionMatrixDisplay(confusion_matrix = cm , display_labels = model_RFC.classes_)\n",
        "disp.plot()"
      ],
      "metadata": {
        "colab": {
          "base_uri": "https://localhost:8080/",
          "height": 467
        },
        "id": "G8XPdbKRFJbG",
        "outputId": "7aa891fa-3a7c-4149-d1b9-f77fac0a9547"
      },
      "execution_count": 12,
      "outputs": [
        {
          "output_type": "execute_result",
          "data": {
            "text/plain": [
              "<sklearn.metrics._plot.confusion_matrix.ConfusionMatrixDisplay at 0x79d704b43310>"
            ]
          },
          "metadata": {},
          "execution_count": 12
        },
        {
          "output_type": "display_data",
          "data": {
            "text/plain": [
              "<Figure size 640x480 with 2 Axes>"
            ],
            "image/png": "[encoded data removed]"
          },
          "metadata": {}
        }
      ]
    },
    {
      "cell_type": "markdown",
      "source": [
        "# **%%%%%%%%%%%%%%%XGBOOST MODEL%%%%%%%%%%%%%%%%%**"
      ],
      "metadata": {
        "id": "KLovZqMOKgsF"
      }
    },
    {
      "cell_type": "code",
      "source": [
        "list_labels = list(labels.Transition)\n",
        "label_converter = {\n",
        "    \"ADtoAD\": 0,\n",
        "    \"CNtoCN\": 1,\n",
        "    \"CNtoMCI\": 2,\n",
        "    \"MCItoAD\": 3,\n",
        "    \"MCItoMCI\": 4,\n",
        "    \"CNtoAD\": 5\n",
        "\n",
        "}\n",
        "\n",
        "\n",
        "def convert_labels(labels):\n",
        "    converted_labels = [label_converter[label] for label in labels]\n",
        "    return converted_labels\n"
      ],
      "metadata": {
        "id": "Wz2CMKmvGymL"
      },
      "execution_count": 13,
      "outputs": []
    },
    {
      "cell_type": "code",
      "source": [
        "import pandas as pd\n",
        "import xgboost as xgb\n",
        "from sklearn.model_selection import train_test_split\n",
        "from sklearn.metrics import accuracy_score\n",
        "\n",
        "np.random.seed(42)\n",
        "y_train_list = list(y_train.Transition)\n",
        "y_test_list = list(y_test.Transition)\n",
        "\n",
        "# Convert the training and testing sets into DMatrix format (specific to XGBoost)\n",
        "y_train1 = convert_labels(y_train_list)\n",
        "y_test1 = convert_labels(y_test_list)\n",
        "train_dmatrix = xgb.DMatrix(data=X_train, label=y_train1)\n",
        "test_dmatrix = xgb.DMatrix(data=X_test, label=y_test1)\n",
        "\n",
        "# Define the parameters for XGBoost\n",
        "params = {\n",
        "    'objective': 'multi:softmax',  # for multi-class classification\n",
        "    'num_class': len(label_converter),  # number of classes\n",
        "    'eval_metric': 'merror',  # evaluation metric\n",
        "    'eta': 0.1,  # learning rate\n",
        "    'max_depth': 3  # maximum depth of each tree\n",
        "}\n",
        "\n",
        "# Train the XGBoost model\n",
        "num_rounds = 100  # number of boosting rounds\n",
        "model_XGB = xgb.train(params, train_dmatrix, num_rounds)\n",
        "\n",
        "# Make predictions on the testing set\n",
        "y_pred_xgb = model_XGB.predict(test_dmatrix)\n",
        "\n",
        "# Evaluate the model\n",
        "print(\"Model accuracy: \" + str(accuracy_score(y_test1,y_pred_xgb)))\n",
        "print(classification_report(y_test1,y_pred_xgb))\n",
        "print(label_converter)\n",
        "accuracies.append(round(100*accuracy_score(y_test1,y_pred_xgb),3))\n",
        "models.append('XGB')"
      ],
      "metadata": {
        "id": "P6RcYL_4Ffnv",
        "colab": {
          "base_uri": "https://localhost:8080/"
        },
        "outputId": "09f063fe-d20e-484d-aa43-0d02df850b6d"
      },
      "execution_count": 15,
      "outputs": [
        {
          "output_type": "stream",
          "name": "stdout",
          "text": [
            "Model accuracy: 0.8880070546737213\n",
            "              precision    recall  f1-score   support\n",
            "\n",
            "           0       1.00      1.00      1.00        96\n",
            "           1       0.93      1.00      0.96       435\n",
            "           2       0.60      0.09      0.16        33\n",
            "           3       0.68      0.54      0.60       131\n",
            "           4       0.87      0.92      0.90       437\n",
            "           5       0.00      0.00      0.00         2\n",
            "\n",
            "    accuracy                           0.89      1134\n",
            "   macro avg       0.68      0.59      0.60      1134\n",
            "weighted avg       0.87      0.89      0.87      1134\n",
            "\n",
            "{'ADtoAD': 0, 'CNtoCN': 1, 'CNtoMCI': 2, 'MCItoAD': 3, 'MCItoMCI': 4, 'CNtoAD': 5}\n"
          ]
        },
        {
          "output_type": "stream",
          "name": "stderr",
          "text": [
            "/usr/local/lib/python3.10/dist-packages/sklearn/metrics/_classification.py:1344: UndefinedMetricWarning: Precision and F-score are ill-defined and being set to 0.0 in labels with no predicted samples. Use `zero_division` parameter to control this behavior.\n",
            "  _warn_prf(average, modifier, msg_start, len(result))\n",
            "/usr/local/lib/python3.10/dist-packages/sklearn/metrics/_classification.py:1344: UndefinedMetricWarning: Precision and F-score are ill-defined and being set to 0.0 in labels with no predicted samples. Use `zero_division` parameter to control this behavior.\n",
            "  _warn_prf(average, modifier, msg_start, len(result))\n",
            "/usr/local/lib/python3.10/dist-packages/sklearn/metrics/_classification.py:1344: UndefinedMetricWarning: Precision and F-score are ill-defined and being set to 0.0 in labels with no predicted samples. Use `zero_division` parameter to control this behavior.\n",
            "  _warn_prf(average, modifier, msg_start, len(result))\n"
          ]
        }
      ]
    },
    {
      "cell_type": "code",
      "source": [
        "print(label_converter)\n",
        "cm = confusion_matrix(y_test1, y_pred_xgb, labels = list(label_converter.values()))\n",
        "disp = ConfusionMatrixDisplay(confusion_matrix = cm , display_labels = list(label_converter.values()))\n",
        "disp.plot()"
      ],
      "metadata": {
        "id": "d6HxyEzgJaXW",
        "colab": {
          "base_uri": "https://localhost:8080/",
          "height": 486
        },
        "outputId": "da2af3d6-44d4-4571-ab26-5241457c4b4f"
      },
      "execution_count": 16,
      "outputs": [
        {
          "output_type": "stream",
          "name": "stdout",
          "text": [
            "{'ADtoAD': 0, 'CNtoCN': 1, 'CNtoMCI': 2, 'MCItoAD': 3, 'MCItoMCI': 4, 'CNtoAD': 5}\n"
          ]
        },
        {
          "output_type": "execute_result",
          "data": {
            "text/plain": [
              "<sklearn.metrics._plot.confusion_matrix.ConfusionMatrixDisplay at 0x79d701773610>"
            ]
          },
          "metadata": {},
          "execution_count": 16
        },
        {
          "output_type": "display_data",
          "data": {
            "text/plain": [
              "<Figure size 640x480 with 2 Axes>"
            ],
            "image/png": "[encoded data removed]"
          },
          "metadata": {}
        }
      ]
    },
    {
      "cell_type": "markdown",
      "source": [
        "# **%%%%%%%%%%%%%SUMMERIZE%%%%%%%%%%%%%%%**"
      ],
      "metadata": {
        "id": "LB4ZFkSAZfwI"
      }
    },
    {
      "cell_type": "code",
      "source": [
        "# Create a bar plot\n",
        "plt.figure(figsize = (12,6))\n",
        "sns.set(style=\"whitegrid\")  # Optional: Set a seaborn style\n",
        "ax = sns.barplot(x=models, y=accuracies, palette = \"Set3\")\n",
        "\n",
        "\n",
        "# Add labels and a title\n",
        "plt.xlabel(\"Model\")\n",
        "plt.ylabel(\"Accuracy [%]\")\n",
        "plt.title(\"Accuracies of Each Model\")\n",
        "\n",
        "# Display the values in the center of each bar\n",
        "for i, v in enumerate(accuracies):\n",
        "    ax.text(i, v + 1, str(v), ha='center', va='bottom', fontsize=10, color='black')\n",
        "\n",
        "# Show the plot\n",
        "plt.show()"
      ],
      "metadata": {
        "colab": {
          "base_uri": "https://localhost:8080/",
          "height": 573
        },
        "id": "_FH8urr_QZuD",
        "outputId": "fb332333-be17-48ab-a9dd-bbe504672e46"
      },
      "execution_count": 18,
      "outputs": [
        {
          "output_type": "display_data",
          "data": {
            "text/plain": [
              "<Figure size 1200x600 with 1 Axes>"
            ],
            "image/png": "[encoded data removed]"
          },
          "metadata": {}
        }
      ]
    }
  ]
}
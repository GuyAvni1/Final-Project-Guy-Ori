{
  "nbformat": 4,
  "nbformat_minor": 0,
  "metadata": {
    "colab": {
      "provenance": [],
      "gpuType": "T4",
      "authorship_tag": "ABX9TyN/gOwCya6iRpiKhGIDe97l",
      "include_colab_link": true
    },
    "kernelspec": {
      "name": "python3",
      "display_name": "Python 3"
    },
    "language_info": {
      "name": "python"
    },
    "accelerator": "GPU"
  },
  "cells": [
    {
      "cell_type": "markdown",
      "metadata": {
        "id": "view-in-github",
        "colab_type": "text"
      },
      "source": [
        "<a href=\"https://colab.research.google.com/github/GuyAvni1/Final-Project-Guy-Ori/blob/main/Code/Prediction_12m.ipynb\" target=\"_parent\"><img src=\"https://colab.research.google.com/assets/colab-badge.svg\" alt=\"Open In Colab\"/></a>"
      ]
    },
    {
      "cell_type": "code",
      "execution_count": 1,
      "metadata": {
        "id": "QhcOqxvVzEcE"
      },
      "outputs": [],
      "source": [
        "import pandas as pd\n",
        "import numpy as np\n",
        "import sklearn\n",
        "import seaborn as sns\n",
        "import matplotlib.pyplot as plt\n",
        "from sklearn.svm import SVC, LinearSVC\n",
        "from sklearn.metrics import classification_report\n",
        "from sklearn.model_selection import train_test_split\n",
        "from sklearn.preprocessing import StandardScaler\n",
        "from sklearn.metrics import confusion_matrix, ConfusionMatrixDisplay"
      ]
    },
    {
      "cell_type": "code",
      "source": [
        "pd.set_option('display.max_rows', 999)\n",
        "pd.set_option('display.max_columns', 999)"
      ],
      "metadata": {
        "id": "VgxrZyQDh6Ak"
      },
      "execution_count": 2,
      "outputs": []
    },
    {
      "cell_type": "code",
      "source": [
        "from google.colab import drive\n",
        "drive.mount('/content/drive')"
      ],
      "metadata": {
        "colab": {
          "base_uri": "https://localhost:8080/"
        },
        "id": "VPzLH75xzF6p",
        "outputId": "d17a08b2-0971-490a-fb25-e75b5f9a8004"
      },
      "execution_count": 3,
      "outputs": [
        {
          "output_type": "stream",
          "name": "stdout",
          "text": [
            "Drive already mounted at /content/drive; to attempt to forcibly remount, call drive.mount(\"/content/drive\", force_remount=True).\n"
          ]
        }
      ]
    },
    {
      "cell_type": "code",
      "source": [
        "#Reading the data set from the drive\n",
        "raw = pd.read_csv(\"/content/drive/MyDrive/Final_Project_Data/future_of_12m.csv\")\n",
        "# print(raw)\n",
        "data = raw\n",
        "\n",
        "# Remove CNtoAd transition, which caused by mistake of missing data in the original dataset (df_prepared)\n",
        "# We remove it only in the 12m timelapse.\n",
        "condition = data['Transition'] == 'CNtoAD'\n",
        "data = data[~condition]\n",
        "\n",
        "# Define a mapping of labels to numerical values to creater baseline lable feature for training\n",
        "label_mapping = {'CN': 0,'MCI': 1,  'Dementia': 2}\n",
        "\n",
        "# Apply label encoding to the 'DX' column\n",
        "data['DX'] = data['DX'].map(label_mapping)\n",
        "data #Showing an example of the first 5 rows.\n"
      ],
      "metadata": {
        "colab": {
          "base_uri": "https://localhost:8080/",
          "height": 553
        },
        "id": "Gieoh2oV7827",
        "outputId": "af45ed7a-171a-410b-a5b7-50cf700bcaee"
      },
      "execution_count": 4,
      "outputs": [
        {
          "output_type": "stream",
          "name": "stderr",
          "text": [
            "<ipython-input-4-5c7e8b751daa>:15: SettingWithCopyWarning: \n",
            "A value is trying to be set on a copy of a slice from a DataFrame.\n",
            "Try using .loc[row_indexer,col_indexer] = value instead\n",
            "\n",
            "See the caveats in the documentation: https://pandas.pydata.org/pandas-docs/stable/user_guide/indexing.html#returning-a-view-versus-a-copy\n",
            "  data['DX'] = data['DX'].map(label_mapping)\n"
          ]
        },
        {
          "output_type": "execute_result",
          "data": {
            "text/plain": [
              "       RID  VISCODE  DX       FDG      AV45        ABETA         TAU  \\\n",
              "0        4        0   1  1.241955  0.961954  1501.000000  153.100000   \n",
              "1        4        6   1  1.204971  1.118809  1156.613341  420.524969   \n",
              "2        5        0   0  1.259560  1.350386   547.300000  337.000000   \n",
              "3        5       12   0  1.280900  1.354343   472.800000  334.100000   \n",
              "4        5       24   0  1.341630  1.045401  1407.828773  420.040324   \n",
              "...    ...      ...  ..       ...       ...          ...         ...   \n",
              "4813  6999        0   0  1.261848  1.323500   793.050507  403.259610   \n",
              "4814  7000        0   1  1.157213  1.036100  1600.915918  440.179577   \n",
              "4815  7015        0   1  1.195468  1.253063   959.180829  413.120350   \n",
              "4816  7016        0   1  1.202203  1.137317  1145.453046  433.016300   \n",
              "4817  7021        0   1  1.201818  1.102691   950.518596  428.353876   \n",
              "\n",
              "           PTAU  CDRSB  ADAS11     ADAS13  MMSE  RAVLT_immediate  \\\n",
              "0     13.290000    1.0   14.33  21.330000  27.0             37.0   \n",
              "1     38.788820    0.5   17.33  25.330000  28.0             33.0   \n",
              "2     33.430000    0.0    8.67  14.670000  29.0             37.0   \n",
              "3     34.040000    1.5    5.67   9.393589  30.0             40.0   \n",
              "4     39.029937    0.0    7.00  11.000000  29.0             36.0   \n",
              "...         ...    ...     ...        ...   ...              ...   \n",
              "4813  40.026957    0.0    2.00   3.000000  30.0             50.0   \n",
              "4814  41.095620    1.5   20.67  32.670000  24.0             20.0   \n",
              "4815  38.954055    0.0    6.67  13.670000  28.0             33.0   \n",
              "4816  40.171164    0.0    6.33  12.330000  28.0             27.0   \n",
              "4817  40.459036    0.5   13.00  23.000000  26.0             34.0   \n",
              "\n",
              "      RAVLT_forgetting  RAVLT_perc_forgetting  FAQ       MOCA  RAVLT_learning  \\\n",
              "0                  4.0                36.3636  0.0  23.921439             7.0   \n",
              "1                  1.0                11.1111  0.0  22.925493             7.0   \n",
              "2                  4.0                44.4444  0.0  22.879384             4.0   \n",
              "3                  6.0                50.0000  0.0  25.098837             6.0   \n",
              "4                  3.0                37.5000  0.0  25.591836             4.0   \n",
              "...                ...                    ...  ...        ...             ...   \n",
              "4813               2.0                15.3846  0.0  27.000000             9.0   \n",
              "4814               4.0               100.0000  4.0  19.000000             1.0   \n",
              "4815               4.0                50.0000  0.0  24.000000             4.0   \n",
              "4816               7.0                87.5000  0.0  21.000000             7.0   \n",
              "4817               8.0               100.0000  0.0  21.000000             4.0   \n",
              "\n",
              "        Ventricles  Hippocampus    WholeBrain   Entorhinal      Fusiform  \\\n",
              "0     39605.000000  6869.000000  1.154980e+06  3983.000000  19036.000000   \n",
              "1     39726.000000  6439.000000  1.116280e+06  3711.000000  17899.000000   \n",
              "2     34062.000000  7075.000000  1.116630e+06  4433.000000  24788.000000   \n",
              "3     35333.000000  6832.000000  1.102410e+06  3609.000000  24193.000000   \n",
              "4     37853.000000  6599.000000  1.098420e+06  4313.000000  23094.000000   \n",
              "...            ...          ...           ...          ...           ...   \n",
              "4813  31239.740928  7826.827931  1.071496e+06  4032.797394  18867.043105   \n",
              "4814  29927.790793  6314.494035  1.026500e+06  3593.309232  18238.071265   \n",
              "4815  74355.100000  6854.400000  1.159970e+06  3601.000000  19023.000000   \n",
              "4816  44915.225535  7041.613762  1.048767e+06  4184.069035  18341.590499   \n",
              "4817  34734.137452  6777.148893  1.035756e+06  3792.542714  17971.011608   \n",
              "\n",
              "           MidTemp           ICV Transition  \n",
              "0     19615.000000  1.679440e+06   MCItoMCI  \n",
              "1     20139.000000  1.661130e+06   MCItoMCI  \n",
              "2     21614.000000  1.640770e+06     CNtoCN  \n",
              "3     20474.000000  1.631430e+06     CNtoCN  \n",
              "4     19867.000000  1.634180e+06     CNtoCN  \n",
              "...            ...           ...        ...  \n",
              "4813  21983.778837  1.564373e+06     CNtoCN  \n",
              "4814  19879.760759  1.482909e+06   MCItoMCI  \n",
              "4815  22913.000000  1.679010e+06   MCItoMCI  \n",
              "4816  21225.605574  1.565263e+06   MCItoMCI  \n",
              "4817  19806.098218  1.532682e+06   MCItoMCI  \n",
              "\n",
              "[4817 rows x 26 columns]"
            ],
            "text/html": [
              "\n",
              "  <div id=\"df-81a283fc-dacc-4d51-8a54-d13761738a8b\" class=\"colab-df-container\">\n",
              "    <div>\n",
              "<style scoped>\n",
              "    .dataframe tbody tr th:only-of-type {\n",
              "        vertical-align: middle;\n",
              "    }\n",
              "\n",
              "    .dataframe tbody tr th {\n",
              "        vertical-align: top;\n",
              "    }\n",
              "\n",
              "    .dataframe thead th {\n",
              "        text-align: right;\n",
              "    }\n",
              "</style>\n",
              "<table border=\"1\" class=\"dataframe\">\n",
              "  <thead>\n",
              "    <tr style=\"text-align: right;\">\n",
              "      <th></th>\n",
              "      <th>RID</th>\n",
              "      <th>VISCODE</th>\n",
              "      <th>DX</th>\n",
              "      <th>FDG</th>\n",
              "      <th>AV45</th>\n",
              "      <th>ABETA</th>\n",
              "      <th>TAU</th>\n",
              "      <th>PTAU</th>\n",
              "      <th>CDRSB</th>\n",
              "      <th>ADAS11</th>\n",
              "      <th>ADAS13</th>\n",
              "      <th>MMSE</th>\n",
              "      <th>RAVLT_immediate</th>\n",
              "      <th>RAVLT_forgetting</th>\n",
              "      <th>RAVLT_perc_forgetting</th>\n",
              "      <th>FAQ</th>\n",
              "      <th>MOCA</th>\n",
              "      <th>RAVLT_learning</th>\n",
              "      <th>Ventricles</th>\n",
              "      <th>Hippocampus</th>\n",
              "      <th>WholeBrain</th>\n",
              "      <th>Entorhinal</th>\n",
              "      <th>Fusiform</th>\n",
              "      <th>MidTemp</th>\n",
              "      <th>ICV</th>\n",
              "      <th>Transition</th>\n",
              "    </tr>\n",
              "  </thead>\n",
              "  <tbody>\n",
              "    <tr>\n",
              "      <th>0</th>\n",
              "      <td>4</td>\n",
              "      <td>0</td>\n",
              "      <td>1</td>\n",
              "      <td>1.241955</td>\n",
              "      <td>0.961954</td>\n",
              "      <td>1501.000000</td>\n",
              "      <td>153.100000</td>\n",
              "      <td>13.290000</td>\n",
              "      <td>1.0</td>\n",
              "      <td>14.33</td>\n",
              "      <td>21.330000</td>\n",
              "      <td>27.0</td>\n",
              "      <td>37.0</td>\n",
              "      <td>4.0</td>\n",
              "      <td>36.3636</td>\n",
              "      <td>0.0</td>\n",
              "      <td>23.921439</td>\n",
              "      <td>7.0</td>\n",
              "      <td>39605.000000</td>\n",
              "      <td>6869.000000</td>\n",
              "      <td>1.154980e+06</td>\n",
              "      <td>3983.000000</td>\n",
              "      <td>19036.000000</td>\n",
              "      <td>19615.000000</td>\n",
              "      <td>1.679440e+06</td>\n",
              "      <td>MCItoMCI</td>\n",
              "    </tr>\n",
              "    <tr>\n",
              "      <th>1</th>\n",
              "      <td>4</td>\n",
              "      <td>6</td>\n",
              "      <td>1</td>\n",
              "      <td>1.204971</td>\n",
              "      <td>1.118809</td>\n",
              "      <td>1156.613341</td>\n",
              "      <td>420.524969</td>\n",
              "      <td>38.788820</td>\n",
              "      <td>0.5</td>\n",
              "      <td>17.33</td>\n",
              "      <td>25.330000</td>\n",
              "      <td>28.0</td>\n",
              "      <td>33.0</td>\n",
              "      <td>1.0</td>\n",
              "      <td>11.1111</td>\n",
              "      <td>0.0</td>\n",
              "      <td>22.925493</td>\n",
              "      <td>7.0</td>\n",
              "      <td>39726.000000</td>\n",
              "      <td>6439.000000</td>\n",
              "      <td>1.116280e+06</td>\n",
              "      <td>3711.000000</td>\n",
              "      <td>17899.000000</td>\n",
              "      <td>20139.000000</td>\n",
              "      <td>1.661130e+06</td>\n",
              "      <td>MCItoMCI</td>\n",
              "    </tr>\n",
              "    <tr>\n",
              "      <th>2</th>\n",
              "      <td>5</td>\n",
              "      <td>0</td>\n",
              "      <td>0</td>\n",
              "      <td>1.259560</td>\n",
              "      <td>1.350386</td>\n",
              "      <td>547.300000</td>\n",
              "      <td>337.000000</td>\n",
              "      <td>33.430000</td>\n",
              "      <td>0.0</td>\n",
              "      <td>8.67</td>\n",
              "      <td>14.670000</td>\n",
              "      <td>29.0</td>\n",
              "      <td>37.0</td>\n",
              "      <td>4.0</td>\n",
              "      <td>44.4444</td>\n",
              "      <td>0.0</td>\n",
              "      <td>22.879384</td>\n",
              "      <td>4.0</td>\n",
              "      <td>34062.000000</td>\n",
              "      <td>7075.000000</td>\n",
              "      <td>1.116630e+06</td>\n",
              "      <td>4433.000000</td>\n",
              "      <td>24788.000000</td>\n",
              "      <td>21614.000000</td>\n",
              "      <td>1.640770e+06</td>\n",
              "      <td>CNtoCN</td>\n",
              "    </tr>\n",
              "    <tr>\n",
              "      <th>3</th>\n",
              "      <td>5</td>\n",
              "      <td>12</td>\n",
              "      <td>0</td>\n",
              "      <td>1.280900</td>\n",
              "      <td>1.354343</td>\n",
              "      <td>472.800000</td>\n",
              "      <td>334.100000</td>\n",
              "      <td>34.040000</td>\n",
              "      <td>1.5</td>\n",
              "      <td>5.67</td>\n",
              "      <td>9.393589</td>\n",
              "      <td>30.0</td>\n",
              "      <td>40.0</td>\n",
              "      <td>6.0</td>\n",
              "      <td>50.0000</td>\n",
              "      <td>0.0</td>\n",
              "      <td>25.098837</td>\n",
              "      <td>6.0</td>\n",
              "      <td>35333.000000</td>\n",
              "      <td>6832.000000</td>\n",
              "      <td>1.102410e+06</td>\n",
              "      <td>3609.000000</td>\n",
              "      <td>24193.000000</td>\n",
              "      <td>20474.000000</td>\n",
              "      <td>1.631430e+06</td>\n",
              "      <td>CNtoCN</td>\n",
              "    </tr>\n",
              "    <tr>\n",
              "      <th>4</th>\n",
              "      <td>5</td>\n",
              "      <td>24</td>\n",
              "      <td>0</td>\n",
              "      <td>1.341630</td>\n",
              "      <td>1.045401</td>\n",
              "      <td>1407.828773</td>\n",
              "      <td>420.040324</td>\n",
              "      <td>39.029937</td>\n",
              "      <td>0.0</td>\n",
              "      <td>7.00</td>\n",
              "      <td>11.000000</td>\n",
              "      <td>29.0</td>\n",
              "      <td>36.0</td>\n",
              "      <td>3.0</td>\n",
              "      <td>37.5000</td>\n",
              "      <td>0.0</td>\n",
              "      <td>25.591836</td>\n",
              "      <td>4.0</td>\n",
              "      <td>37853.000000</td>\n",
              "      <td>6599.000000</td>\n",
              "      <td>1.098420e+06</td>\n",
              "      <td>4313.000000</td>\n",
              "      <td>23094.000000</td>\n",
              "      <td>19867.000000</td>\n",
              "      <td>1.634180e+06</td>\n",
              "      <td>CNtoCN</td>\n",
              "    </tr>\n",
              "    <tr>\n",
              "      <th>...</th>\n",
              "      <td>...</td>\n",
              "      <td>...</td>\n",
              "      <td>...</td>\n",
              "      <td>...</td>\n",
              "      <td>...</td>\n",
              "      <td>...</td>\n",
              "      <td>...</td>\n",
              "      <td>...</td>\n",
              "      <td>...</td>\n",
              "      <td>...</td>\n",
              "      <td>...</td>\n",
              "      <td>...</td>\n",
              "      <td>...</td>\n",
              "      <td>...</td>\n",
              "      <td>...</td>\n",
              "      <td>...</td>\n",
              "      <td>...</td>\n",
              "      <td>...</td>\n",
              "      <td>...</td>\n",
              "      <td>...</td>\n",
              "      <td>...</td>\n",
              "      <td>...</td>\n",
              "      <td>...</td>\n",
              "      <td>...</td>\n",
              "      <td>...</td>\n",
              "      <td>...</td>\n",
              "    </tr>\n",
              "    <tr>\n",
              "      <th>4813</th>\n",
              "      <td>6999</td>\n",
              "      <td>0</td>\n",
              "      <td>0</td>\n",
              "      <td>1.261848</td>\n",
              "      <td>1.323500</td>\n",
              "      <td>793.050507</td>\n",
              "      <td>403.259610</td>\n",
              "      <td>40.026957</td>\n",
              "      <td>0.0</td>\n",
              "      <td>2.00</td>\n",
              "      <td>3.000000</td>\n",
              "      <td>30.0</td>\n",
              "      <td>50.0</td>\n",
              "      <td>2.0</td>\n",
              "      <td>15.3846</td>\n",
              "      <td>0.0</td>\n",
              "      <td>27.000000</td>\n",
              "      <td>9.0</td>\n",
              "      <td>31239.740928</td>\n",
              "      <td>7826.827931</td>\n",
              "      <td>1.071496e+06</td>\n",
              "      <td>4032.797394</td>\n",
              "      <td>18867.043105</td>\n",
              "      <td>21983.778837</td>\n",
              "      <td>1.564373e+06</td>\n",
              "      <td>CNtoCN</td>\n",
              "    </tr>\n",
              "    <tr>\n",
              "      <th>4814</th>\n",
              "      <td>7000</td>\n",
              "      <td>0</td>\n",
              "      <td>1</td>\n",
              "      <td>1.157213</td>\n",
              "      <td>1.036100</td>\n",
              "      <td>1600.915918</td>\n",
              "      <td>440.179577</td>\n",
              "      <td>41.095620</td>\n",
              "      <td>1.5</td>\n",
              "      <td>20.67</td>\n",
              "      <td>32.670000</td>\n",
              "      <td>24.0</td>\n",
              "      <td>20.0</td>\n",
              "      <td>4.0</td>\n",
              "      <td>100.0000</td>\n",
              "      <td>4.0</td>\n",
              "      <td>19.000000</td>\n",
              "      <td>1.0</td>\n",
              "      <td>29927.790793</td>\n",
              "      <td>6314.494035</td>\n",
              "      <td>1.026500e+06</td>\n",
              "      <td>3593.309232</td>\n",
              "      <td>18238.071265</td>\n",
              "      <td>19879.760759</td>\n",
              "      <td>1.482909e+06</td>\n",
              "      <td>MCItoMCI</td>\n",
              "    </tr>\n",
              "    <tr>\n",
              "      <th>4815</th>\n",
              "      <td>7015</td>\n",
              "      <td>0</td>\n",
              "      <td>1</td>\n",
              "      <td>1.195468</td>\n",
              "      <td>1.253063</td>\n",
              "      <td>959.180829</td>\n",
              "      <td>413.120350</td>\n",
              "      <td>38.954055</td>\n",
              "      <td>0.0</td>\n",
              "      <td>6.67</td>\n",
              "      <td>13.670000</td>\n",
              "      <td>28.0</td>\n",
              "      <td>33.0</td>\n",
              "      <td>4.0</td>\n",
              "      <td>50.0000</td>\n",
              "      <td>0.0</td>\n",
              "      <td>24.000000</td>\n",
              "      <td>4.0</td>\n",
              "      <td>74355.100000</td>\n",
              "      <td>6854.400000</td>\n",
              "      <td>1.159970e+06</td>\n",
              "      <td>3601.000000</td>\n",
              "      <td>19023.000000</td>\n",
              "      <td>22913.000000</td>\n",
              "      <td>1.679010e+06</td>\n",
              "      <td>MCItoMCI</td>\n",
              "    </tr>\n",
              "    <tr>\n",
              "      <th>4816</th>\n",
              "      <td>7016</td>\n",
              "      <td>0</td>\n",
              "      <td>1</td>\n",
              "      <td>1.202203</td>\n",
              "      <td>1.137317</td>\n",
              "      <td>1145.453046</td>\n",
              "      <td>433.016300</td>\n",
              "      <td>40.171164</td>\n",
              "      <td>0.0</td>\n",
              "      <td>6.33</td>\n",
              "      <td>12.330000</td>\n",
              "      <td>28.0</td>\n",
              "      <td>27.0</td>\n",
              "      <td>7.0</td>\n",
              "      <td>87.5000</td>\n",
              "      <td>0.0</td>\n",
              "      <td>21.000000</td>\n",
              "      <td>7.0</td>\n",
              "      <td>44915.225535</td>\n",
              "      <td>7041.613762</td>\n",
              "      <td>1.048767e+06</td>\n",
              "      <td>4184.069035</td>\n",
              "      <td>18341.590499</td>\n",
              "      <td>21225.605574</td>\n",
              "      <td>1.565263e+06</td>\n",
              "      <td>MCItoMCI</td>\n",
              "    </tr>\n",
              "    <tr>\n",
              "      <th>4817</th>\n",
              "      <td>7021</td>\n",
              "      <td>0</td>\n",
              "      <td>1</td>\n",
              "      <td>1.201818</td>\n",
              "      <td>1.102691</td>\n",
              "      <td>950.518596</td>\n",
              "      <td>428.353876</td>\n",
              "      <td>40.459036</td>\n",
              "      <td>0.5</td>\n",
              "      <td>13.00</td>\n",
              "      <td>23.000000</td>\n",
              "      <td>26.0</td>\n",
              "      <td>34.0</td>\n",
              "      <td>8.0</td>\n",
              "      <td>100.0000</td>\n",
              "      <td>0.0</td>\n",
              "      <td>21.000000</td>\n",
              "      <td>4.0</td>\n",
              "      <td>34734.137452</td>\n",
              "      <td>6777.148893</td>\n",
              "      <td>1.035756e+06</td>\n",
              "      <td>3792.542714</td>\n",
              "      <td>17971.011608</td>\n",
              "      <td>19806.098218</td>\n",
              "      <td>1.532682e+06</td>\n",
              "      <td>MCItoMCI</td>\n",
              "    </tr>\n",
              "  </tbody>\n",
              "</table>\n",
              "<p>4817 rows × 26 columns</p>\n",
              "</div>\n",
              "    <div class=\"colab-df-buttons\">\n",
              "\n",
              "  <div class=\"colab-df-container\">\n",
              "    <button class=\"colab-df-convert\" onclick=\"convertToInteractive('df-81a283fc-dacc-4d51-8a54-d13761738a8b')\"\n",
              "            title=\"Convert this dataframe to an interactive table.\"\n",
              "            style=\"display:none;\">\n",
              "\n",
              "  <svg xmlns=\"http://www.w3.org/2000/svg\" height=\"24px\" viewBox=\"0 -960 960 960\">\n",
              "    <path d=\"M120-120v-720h720v720H120Zm60-500h600v-160H180v160Zm220 220h160v-160H400v160Zm0 220h160v-160H400v160ZM180-400h160v-160H180v160Zm440 0h160v-160H620v160ZM180-180h160v-160H180v160Zm440 0h160v-160H620v160Z\"/>\n",
              "  </svg>\n",
              "    </button>\n",
              "\n",
              "  <style>\n",
              "    .colab-df-container {\n",
              "      display:flex;\n",
              "      gap: 12px;\n",
              "    }\n",
              "\n",
              "    .colab-df-convert {\n",
              "      background-color: #E8F0FE;\n",
              "      border: none;\n",
              "      border-radius: 50%;\n",
              "      cursor: pointer;\n",
              "      display: none;\n",
              "      fill: #1967D2;\n",
              "      height: 32px;\n",
              "      padding: 0 0 0 0;\n",
              "      width: 32px;\n",
              "    }\n",
              "\n",
              "    .colab-df-convert:hover {\n",
              "      background-color: #E2EBFA;\n",
              "      box-shadow: 0px 1px 2px rgba(60, 64, 67, 0.3), 0px 1px 3px 1px rgba(60, 64, 67, 0.15);\n",
              "      fill: #174EA6;\n",
              "    }\n",
              "\n",
              "    .colab-df-buttons div {\n",
              "      margin-bottom: 4px;\n",
              "    }\n",
              "\n",
              "    [theme=dark] .colab-df-convert {\n",
              "      background-color: #3B4455;\n",
              "      fill: #D2E3FC;\n",
              "    }\n",
              "\n",
              "    [theme=dark] .colab-df-convert:hover {\n",
              "      background-color: #434B5C;\n",
              "      box-shadow: 0px 1px 3px 1px rgba(0, 0, 0, 0.15);\n",
              "      filter: drop-shadow(0px 1px 2px rgba(0, 0, 0, 0.3));\n",
              "      fill: #FFFFFF;\n",
              "    }\n",
              "  </style>\n",
              "\n",
              "    <script>\n",
              "      const buttonEl =\n",
              "        document.querySelector('#df-81a283fc-dacc-4d51-8a54-d13761738a8b button.colab-df-convert');\n",
              "      buttonEl.style.display =\n",
              "        google.colab.kernel.accessAllowed ? 'block' : 'none';\n",
              "\n",
              "      async function convertToInteractive(key) {\n",
              "        const element = document.querySelector('#df-81a283fc-dacc-4d51-8a54-d13761738a8b');\n",
              "        const dataTable =\n",
              "          await google.colab.kernel.invokeFunction('convertToInteractive',\n",
              "                                                    [key], {});\n",
              "        if (!dataTable) return;\n",
              "\n",
              "        const docLinkHtml = 'Like what you see? Visit the ' +\n",
              "          '<a target=\"_blank\" href=https://colab.research.google.com/notebooks/data_table.ipynb>data table notebook</a>'\n",
              "          + ' to learn more about interactive tables.';\n",
              "        element.innerHTML = '';\n",
              "        dataTable['output_type'] = 'display_data';\n",
              "        await google.colab.output.renderOutput(dataTable, element);\n",
              "        const docLink = document.createElement('div');\n",
              "        docLink.innerHTML = docLinkHtml;\n",
              "        element.appendChild(docLink);\n",
              "      }\n",
              "    </script>\n",
              "  </div>\n",
              "\n",
              "\n",
              "<div id=\"df-f05d71e7-ffc0-41df-b2b7-3b0110199e79\">\n",
              "  <button class=\"colab-df-quickchart\" onclick=\"quickchart('df-f05d71e7-ffc0-41df-b2b7-3b0110199e79')\"\n",
              "            title=\"Suggest charts.\"\n",
              "            style=\"display:none;\">\n",
              "\n",
              "<svg xmlns=\"http://www.w3.org/2000/svg\" height=\"24px\"viewBox=\"0 0 24 24\"\n",
              "     width=\"24px\">\n",
              "    <g>\n",
              "        <path d=\"M19 3H5c-1.1 0-2 .9-2 2v14c0 1.1.9 2 2 2h14c1.1 0 2-.9 2-2V5c0-1.1-.9-2-2-2zM9 17H7v-7h2v7zm4 0h-2V7h2v10zm4 0h-2v-4h2v4z\"/>\n",
              "    </g>\n",
              "</svg>\n",
              "  </button>\n",
              "\n",
              "<style>\n",
              "  .colab-df-quickchart {\n",
              "      --bg-color: #E8F0FE;\n",
              "      --fill-color: #1967D2;\n",
              "      --hover-bg-color: #E2EBFA;\n",
              "      --hover-fill-color: #174EA6;\n",
              "      --disabled-fill-color: #AAA;\n",
              "      --disabled-bg-color: #DDD;\n",
              "  }\n",
              "\n",
              "  [theme=dark] .colab-df-quickchart {\n",
              "      --bg-color: #3B4455;\n",
              "      --fill-color: #D2E3FC;\n",
              "      --hover-bg-color: #434B5C;\n",
              "      --hover-fill-color: #FFFFFF;\n",
              "      --disabled-bg-color: #3B4455;\n",
              "      --disabled-fill-color: #666;\n",
              "  }\n",
              "\n",
              "  .colab-df-quickchart {\n",
              "    background-color: var(--bg-color);\n",
              "    border: none;\n",
              "    border-radius: 50%;\n",
              "    cursor: pointer;\n",
              "    display: none;\n",
              "    fill: var(--fill-color);\n",
              "    height: 32px;\n",
              "    padding: 0;\n",
              "    width: 32px;\n",
              "  }\n",
              "\n",
              "  .colab-df-quickchart:hover {\n",
              "    background-color: var(--hover-bg-color);\n",
              "    box-shadow: 0 1px 2px rgba(60, 64, 67, 0.3), 0 1px 3px 1px rgba(60, 64, 67, 0.15);\n",
              "    fill: var(--button-hover-fill-color);\n",
              "  }\n",
              "\n",
              "  .colab-df-quickchart-complete:disabled,\n",
              "  .colab-df-quickchart-complete:disabled:hover {\n",
              "    background-color: var(--disabled-bg-color);\n",
              "    fill: var(--disabled-fill-color);\n",
              "    box-shadow: none;\n",
              "  }\n",
              "\n",
              "  .colab-df-spinner {\n",
              "    border: 2px solid var(--fill-color);\n",
              "    border-color: transparent;\n",
              "    border-bottom-color: var(--fill-color);\n",
              "    animation:\n",
              "      spin 1s steps(1) infinite;\n",
              "  }\n",
              "\n",
              "  @keyframes spin {\n",
              "    0% {\n",
              "      border-color: transparent;\n",
              "      border-bottom-color: var(--fill-color);\n",
              "      border-left-color: var(--fill-color);\n",
              "    }\n",
              "    20% {\n",
              "      border-color: transparent;\n",
              "      border-left-color: var(--fill-color);\n",
              "      border-top-color: var(--fill-color);\n",
              "    }\n",
              "    30% {\n",
              "      border-color: transparent;\n",
              "      border-left-color: var(--fill-color);\n",
              "      border-top-color: var(--fill-color);\n",
              "      border-right-color: var(--fill-color);\n",
              "    }\n",
              "    40% {\n",
              "      border-color: transparent;\n",
              "      border-right-color: var(--fill-color);\n",
              "      border-top-color: var(--fill-color);\n",
              "    }\n",
              "    60% {\n",
              "      border-color: transparent;\n",
              "      border-right-color: var(--fill-color);\n",
              "    }\n",
              "    80% {\n",
              "      border-color: transparent;\n",
              "      border-right-color: var(--fill-color);\n",
              "      border-bottom-color: var(--fill-color);\n",
              "    }\n",
              "    90% {\n",
              "      border-color: transparent;\n",
              "      border-bottom-color: var(--fill-color);\n",
              "    }\n",
              "  }\n",
              "</style>\n",
              "\n",
              "  <script>\n",
              "    async function quickchart(key) {\n",
              "      const quickchartButtonEl =\n",
              "        document.querySelector('#' + key + ' button');\n",
              "      quickchartButtonEl.disabled = true;  // To prevent multiple clicks.\n",
              "      quickchartButtonEl.classList.add('colab-df-spinner');\n",
              "      try {\n",
              "        const charts = await google.colab.kernel.invokeFunction(\n",
              "            'suggestCharts', [key], {});\n",
              "      } catch (error) {\n",
              "        console.error('Error during call to suggestCharts:', error);\n",
              "      }\n",
              "      quickchartButtonEl.classList.remove('colab-df-spinner');\n",
              "      quickchartButtonEl.classList.add('colab-df-quickchart-complete');\n",
              "    }\n",
              "    (() => {\n",
              "      let quickchartButtonEl =\n",
              "        document.querySelector('#df-f05d71e7-ffc0-41df-b2b7-3b0110199e79 button');\n",
              "      quickchartButtonEl.style.display =\n",
              "        google.colab.kernel.accessAllowed ? 'block' : 'none';\n",
              "    })();\n",
              "  </script>\n",
              "</div>\n",
              "    </div>\n",
              "  </div>\n"
            ]
          },
          "metadata": {},
          "execution_count": 4
        }
      ]
    },
    {
      "cell_type": "code",
      "source": [
        "labels = data[['Transition']]\n",
        "train_data = data.drop(['Transition','RID','VISCODE'], axis = 1)\n",
        "print(\"Shape of the training set: {}\".format(train_data.shape))"
      ],
      "metadata": {
        "colab": {
          "base_uri": "https://localhost:8080/"
        },
        "id": "k1njZ0Dr_AGi",
        "outputId": "f7e2af86-76fe-4223-f64b-20dca301c80e"
      },
      "execution_count": 5,
      "outputs": [
        {
          "output_type": "stream",
          "name": "stdout",
          "text": [
            "Shape of the training set: (4817, 23)\n"
          ]
        }
      ]
    },
    {
      "cell_type": "code",
      "source": [
        "labels.value_counts()"
      ],
      "metadata": {
        "colab": {
          "base_uri": "https://localhost:8080/"
        },
        "id": "MFqxOaaLo0Qj",
        "outputId": "289f4050-bae3-4342-994d-0257a6b50e76"
      },
      "execution_count": 6,
      "outputs": [
        {
          "output_type": "execute_result",
          "data": {
            "text/plain": [
              "Transition\n",
              "MCItoMCI      2383\n",
              "CNtoCN        1419\n",
              "ADtoAD         561\n",
              "MCItoAD        395\n",
              "CNtoMCI         59\n",
              "dtype: int64"
            ]
          },
          "metadata": {},
          "execution_count": 6
        }
      ]
    },
    {
      "cell_type": "code",
      "source": [
        "# Splitting the data into train (70%) and test (30%) sets\n",
        "X_train, X_test, y_train, y_test = train_test_split(train_data, labels, test_size=0.3, stratify=labels)\n",
        "print(\"Number of train samples:\" + str(len(X_train)))\n",
        "print(\"Number of test samples:\" + str(len(X_test)))"
      ],
      "metadata": {
        "id": "xCMBPTfWqV9l",
        "colab": {
          "base_uri": "https://localhost:8080/"
        },
        "outputId": "678e084d-39ea-4ce7-acaf-e01f29471349"
      },
      "execution_count": 7,
      "outputs": [
        {
          "output_type": "stream",
          "name": "stdout",
          "text": [
            "Number of train samples:3371\n",
            "Number of test samples:1446\n"
          ]
        }
      ]
    },
    {
      "cell_type": "code",
      "source": [
        "print(\"Training set distribution:\\n{}\\n\\n\".format(y_train['Transition'].value_counts()))\n",
        "print(\"Test set distribution:\\n{}\".format(y_test['Transition'].value_counts()))"
      ],
      "metadata": {
        "colab": {
          "base_uri": "https://localhost:8080/"
        },
        "id": "AKh4_ttmCjM8",
        "outputId": "f1eb09e4-b4e3-4236-d116-ec71cada825d"
      },
      "execution_count": 8,
      "outputs": [
        {
          "output_type": "stream",
          "name": "stdout",
          "text": [
            "Training set distribution:\n",
            "MCItoMCI    1668\n",
            "CNtoCN       993\n",
            "ADtoAD       393\n",
            "MCItoAD      276\n",
            "CNtoMCI       41\n",
            "Name: Transition, dtype: int64\n",
            "\n",
            "\n",
            "Test set distribution:\n",
            "MCItoMCI    715\n",
            "CNtoCN      426\n",
            "ADtoAD      168\n",
            "MCItoAD     119\n",
            "CNtoMCI      18\n",
            "Name: Transition, dtype: int64\n"
          ]
        }
      ]
    },
    {
      "cell_type": "code",
      "source": [
        "scaler = StandardScaler()\n",
        "X_train = pd.DataFrame(scaler.fit_transform(X_train))\n",
        "X_test = pd.DataFrame(scaler.fit_transform(X_test))"
      ],
      "metadata": {
        "id": "kHY4WkMjqaNT"
      },
      "execution_count": 9,
      "outputs": []
    },
    {
      "cell_type": "markdown",
      "source": [
        "# **%%%%%%%%%%%%%%%RANDOM FOREST MODEL%%%%%%%%%%%%%%%%%**"
      ],
      "metadata": {
        "id": "cEhtahiZK07Z"
      }
    },
    {
      "cell_type": "code",
      "source": [
        "from sklearn.ensemble import RandomForestClassifier\n",
        "from sklearn.metrics import accuracy_score\n",
        "\n",
        "accuracies = []\n",
        "models = []\n",
        "model_RFC = RandomForestClassifier(random_state=42) #Using Random Forest Classifier model\n",
        "model_RFC.fit(X_train,y_train) #Training\n",
        "y_pred_rfc = model_RFC.predict(X_test) #Predictions\n",
        "print(\"Model accuracy: \" + str(accuracy_score(y_test,y_pred_rfc)))\n",
        "print(classification_report(y_test,y_pred_rfc))\n",
        "print(model_RFC.classes_)\n",
        "accuracies.append(round(100*accuracy_score(y_test,y_pred_rfc),3))\n",
        "models.append('RFC')"
      ],
      "metadata": {
        "colab": {
          "base_uri": "https://localhost:8080/"
        },
        "id": "W-sQW4RWFDYx",
        "outputId": "b82b5419-852e-4f1b-cde6-7e75e24d943e"
      },
      "execution_count": 10,
      "outputs": [
        {
          "output_type": "stream",
          "name": "stderr",
          "text": [
            "<ipython-input-10-fdad10553bd2>:7: DataConversionWarning: A column-vector y was passed when a 1d array was expected. Please change the shape of y to (n_samples,), for example using ravel().\n",
            "  model_RFC.fit(X_train,y_train) #Training\n"
          ]
        },
        {
          "output_type": "stream",
          "name": "stdout",
          "text": [
            "Model accuracy: 0.9121715076071922\n",
            "              precision    recall  f1-score   support\n",
            "\n",
            "      ADtoAD       1.00      1.00      1.00       168\n",
            "      CNtoCN       0.96      1.00      0.98       426\n",
            "     CNtoMCI       0.00      0.00      0.00        18\n",
            "     MCItoAD       0.62      0.22      0.32       119\n",
            "    MCItoMCI       0.88      0.98      0.93       715\n",
            "\n",
            "    accuracy                           0.91      1446\n",
            "   macro avg       0.69      0.64      0.65      1446\n",
            "weighted avg       0.89      0.91      0.89      1446\n",
            "\n",
            "['ADtoAD' 'CNtoCN' 'CNtoMCI' 'MCItoAD' 'MCItoMCI']\n"
          ]
        },
        {
          "output_type": "stream",
          "name": "stderr",
          "text": [
            "/usr/local/lib/python3.10/dist-packages/sklearn/metrics/_classification.py:1344: UndefinedMetricWarning: Precision and F-score are ill-defined and being set to 0.0 in labels with no predicted samples. Use `zero_division` parameter to control this behavior.\n",
            "  _warn_prf(average, modifier, msg_start, len(result))\n",
            "/usr/local/lib/python3.10/dist-packages/sklearn/metrics/_classification.py:1344: UndefinedMetricWarning: Precision and F-score are ill-defined and being set to 0.0 in labels with no predicted samples. Use `zero_division` parameter to control this behavior.\n",
            "  _warn_prf(average, modifier, msg_start, len(result))\n",
            "/usr/local/lib/python3.10/dist-packages/sklearn/metrics/_classification.py:1344: UndefinedMetricWarning: Precision and F-score are ill-defined and being set to 0.0 in labels with no predicted samples. Use `zero_division` parameter to control this behavior.\n",
            "  _warn_prf(average, modifier, msg_start, len(result))\n"
          ]
        }
      ]
    },
    {
      "cell_type": "code",
      "source": [
        "cm = confusion_matrix(y_test, y_pred_rfc, labels = model_RFC.classes_)\n",
        "disp = ConfusionMatrixDisplay(confusion_matrix = cm , display_labels = model_RFC.classes_)\n",
        "disp.plot()"
      ],
      "metadata": {
        "colab": {
          "base_uri": "https://localhost:8080/",
          "height": 467
        },
        "id": "G8XPdbKRFJbG",
        "outputId": "f7f8cdfc-ae47-4dc7-d591-72dd858915c4"
      },
      "execution_count": 11,
      "outputs": [
        {
          "output_type": "execute_result",
          "data": {
            "text/plain": [
              "<sklearn.metrics._plot.confusion_matrix.ConfusionMatrixDisplay at 0x7c47e1e36b60>"
            ]
          },
          "metadata": {},
          "execution_count": 11
        },
        {
          "output_type": "display_data",
          "data": {
            "text/plain": [
              "<Figure size 640x480 with 2 Axes>"
            ],
            "image/png": "[encoded data removed]"
          },
          "metadata": {}
        }
      ]
    },
    {
      "cell_type": "markdown",
      "source": [
        "# **%%%%%%%%%%%%%%%XGBOOST MODEL%%%%%%%%%%%%%%%%%**"
      ],
      "metadata": {
        "id": "KLovZqMOKgsF"
      }
    },
    {
      "cell_type": "code",
      "source": [
        "list_labels = list(labels.Transition)\n",
        "label_converter = {\n",
        "    \"ADtoAD\": 0,\n",
        "    \"CNtoCN\": 1,\n",
        "    \"CNtoMCI\": 2,\n",
        "    \"MCItoAD\": 3,\n",
        "    \"MCItoMCI\": 4\n",
        "}\n",
        "\n",
        "def convert_labels(labels):\n",
        "    converted_labels = [label_converter[label] for label in labels]\n",
        "    return converted_labels\n"
      ],
      "metadata": {
        "id": "Wz2CMKmvGymL"
      },
      "execution_count": 12,
      "outputs": []
    },
    {
      "cell_type": "code",
      "source": [
        "import pandas as pd\n",
        "import xgboost as xgb\n",
        "from sklearn.model_selection import train_test_split\n",
        "from sklearn.metrics import accuracy_score\n",
        "\n",
        "np.random.seed(42)\n",
        "y_train_list = list(y_train.Transition)\n",
        "y_test_list = list(y_test.Transition)\n",
        "\n",
        "# Convert the training and testing sets into DMatrix format (specific to XGBoost)\n",
        "y_train1 = convert_labels(y_train_list)\n",
        "y_test1 = convert_labels(y_test_list)\n",
        "train_dmatrix = xgb.DMatrix(data=X_train, label=y_train1)\n",
        "test_dmatrix = xgb.DMatrix(data=X_test, label=y_test1)\n",
        "\n",
        "# Define the parameters for XGBoost\n",
        "params = {\n",
        "    'objective': 'multi:softmax',  # for multi-class classification\n",
        "    'num_class': len(label_converter),  # number of classes\n",
        "    'eval_metric': 'merror',  # evaluation metric\n",
        "    'eta': 0.1,  # learning rate\n",
        "    'max_depth': 3  # maximum depth of each tree\n",
        "}\n",
        "\n",
        "# Train the XGBoost model\n",
        "num_rounds = 100  # number of boosting rounds\n",
        "model_XGB = xgb.train(params, train_dmatrix, num_rounds)\n",
        "\n",
        "# Make predictions on the testing set\n",
        "y_pred_xgb = model_XGB.predict(test_dmatrix)\n",
        "\n",
        "# Evaluate the model\n",
        "print(\"Model accuracy: \" + str(accuracy_score(y_test1,y_pred_xgb)))\n",
        "print(classification_report(y_test1,y_pred_xgb))\n",
        "print(label_converter)\n",
        "accuracies.append(round(100*accuracy_score(y_test1,y_pred_xgb),3))\n",
        "models.append('XGB')"
      ],
      "metadata": {
        "id": "P6RcYL_4Ffnv",
        "colab": {
          "base_uri": "https://localhost:8080/"
        },
        "outputId": "131b7dd8-ca10-4b59-c568-71b8ee3ec862"
      },
      "execution_count": 13,
      "outputs": [
        {
          "output_type": "stream",
          "name": "stdout",
          "text": [
            "Model accuracy: 0.9080221300138313\n",
            "              precision    recall  f1-score   support\n",
            "\n",
            "           0       1.00      1.00      1.00       168\n",
            "           1       0.96      1.00      0.98       426\n",
            "           2       0.00      0.00      0.00        18\n",
            "           3       0.56      0.21      0.30       119\n",
            "           4       0.88      0.97      0.92       715\n",
            "\n",
            "    accuracy                           0.91      1446\n",
            "   macro avg       0.68      0.64      0.64      1446\n",
            "weighted avg       0.88      0.91      0.89      1446\n",
            "\n",
            "{'ADtoAD': 0, 'CNtoCN': 1, 'CNtoMCI': 2, 'MCItoAD': 3, 'MCItoMCI': 4}\n"
          ]
        }
      ]
    },
    {
      "cell_type": "code",
      "source": [
        "print(label_converter)\n",
        "cm = confusion_matrix(y_test1, y_pred_xgb, labels = list(label_converter.values()))\n",
        "disp = ConfusionMatrixDisplay(confusion_matrix = cm , display_labels = list(label_converter.values()))\n",
        "disp.plot()"
      ],
      "metadata": {
        "id": "d6HxyEzgJaXW",
        "colab": {
          "base_uri": "https://localhost:8080/",
          "height": 486
        },
        "outputId": "5aeb961c-4b6a-449b-a41c-e4d10949aa16"
      },
      "execution_count": 14,
      "outputs": [
        {
          "output_type": "stream",
          "name": "stdout",
          "text": [
            "{'ADtoAD': 0, 'CNtoCN': 1, 'CNtoMCI': 2, 'MCItoAD': 3, 'MCItoMCI': 4}\n"
          ]
        },
        {
          "output_type": "execute_result",
          "data": {
            "text/plain": [
              "<sklearn.metrics._plot.confusion_matrix.ConfusionMatrixDisplay at 0x7c47a9b5f310>"
            ]
          },
          "metadata": {},
          "execution_count": 14
        },
        {
          "output_type": "display_data",
          "data": {
            "text/plain": [
              "<Figure size 640x480 with 2 Axes>"
            ],
            "image/png": "[encoded data removed]"
          },
          "metadata": {}
        }
      ]
    },
    {
      "cell_type": "markdown",
      "source": [
        "# **%%%%%%%%%%%%%%%OVER SAMPLING PERFORMANCE%%%%%%%%%%%%%%%%%**"
      ],
      "metadata": {
        "id": "V2ZRANErN-vY"
      }
    },
    {
      "cell_type": "code",
      "source": [
        "#Reading the data set from the drive\n",
        "raw = pd.read_csv(\"/content/drive/MyDrive/Final_Project_Data/future_of_12m.csv\")\n",
        "# print(raw)\n",
        "data = raw\n",
        "\n",
        "# Remove CNtoAd transition, which caused by mistake of missing data in the original dataset (df_prepared)\n",
        "# We remove it only in the 12m timelapse.\n",
        "condition = data['Transition'] == 'CNtoAD'\n",
        "data = data[~condition]\n",
        "\n",
        "# Define a mapping of labels to numerical values to creater baseline lable feature for training\n",
        "label_mapping = {'CN': 0,'MCI': 1,  'Dementia': 2}\n",
        "\n",
        "# Apply label encoding to the 'DX' column\n",
        "data['DX'] = data['DX'].map(label_mapping)"
      ],
      "metadata": {
        "id": "EpiNHgOIt1cP",
        "colab": {
          "base_uri": "https://localhost:8080/"
        },
        "outputId": "b9494f31-b70e-4293-aac1-5131dd0d3b4d"
      },
      "execution_count": 15,
      "outputs": [
        {
          "output_type": "stream",
          "name": "stderr",
          "text": [
            "<ipython-input-15-b9170c61caf3>:15: SettingWithCopyWarning: \n",
            "A value is trying to be set on a copy of a slice from a DataFrame.\n",
            "Try using .loc[row_indexer,col_indexer] = value instead\n",
            "\n",
            "See the caveats in the documentation: https://pandas.pydata.org/pandas-docs/stable/user_guide/indexing.html#returning-a-view-versus-a-copy\n",
            "  data['DX'] = data['DX'].map(label_mapping)\n"
          ]
        }
      ]
    },
    {
      "cell_type": "code",
      "source": [
        "labels = data[['Transition']]\n",
        "train_data = data.drop(['Transition','RID','VISCODE'], axis = 1)\n",
        "print(\"Shape of the training set: {}\".format(train_data.shape))"
      ],
      "metadata": {
        "colab": {
          "base_uri": "https://localhost:8080/"
        },
        "outputId": "9f9106d6-7760-434f-b89a-d43a487aaba0",
        "id": "XNHHM1DKt1cW"
      },
      "execution_count": 16,
      "outputs": [
        {
          "output_type": "stream",
          "name": "stdout",
          "text": [
            "Shape of the training set: (4817, 23)\n"
          ]
        }
      ]
    },
    {
      "cell_type": "code",
      "source": [
        "# Splitting the data into train (70%) and test (30%) sets\n",
        "X_train, X_test, y_train, y_test = train_test_split(train_data, labels, test_size=0.3, stratify=labels)\n",
        "print(\"Number of train samples:\" + str(len(X_train)))\n",
        "print(\"Number of test samples:\" + str(len(X_test)))"
      ],
      "metadata": {
        "colab": {
          "base_uri": "https://localhost:8080/"
        },
        "outputId": "2338a3cc-b7d0-4ded-9928-08007d1ffc3c",
        "id": "YQZHkPdBt1cX"
      },
      "execution_count": 17,
      "outputs": [
        {
          "output_type": "stream",
          "name": "stdout",
          "text": [
            "Number of train samples:3371\n",
            "Number of test samples:1446\n"
          ]
        }
      ]
    },
    {
      "cell_type": "code",
      "source": [
        "scaler = StandardScaler()\n",
        "X_train = pd.DataFrame(scaler.fit_transform(X_train))\n",
        "X_test = pd.DataFrame(scaler.fit_transform(X_test))"
      ],
      "metadata": {
        "id": "z60KpkMrKZ6p"
      },
      "execution_count": 18,
      "outputs": []
    },
    {
      "cell_type": "code",
      "source": [
        "import pandas as pd\n",
        "from sklearn.model_selection import train_test_split\n",
        "from imblearn.over_sampling import RandomOverSampler\n",
        "from collections import Counter\n",
        "\n",
        "\n",
        "# Display class distribution before resampling\n",
        "print(\"Class distribution before resampling:\", Counter(y_train.Transition))\n",
        "print(\"Samples before resampling:\", len(y_train.Transition))\n",
        "# Apply RandomOverSampler to balance the classes\n",
        "strategy = {\n",
        "    \"ADtoAD\": 650,\n",
        "    \"CNtoCN\": 1500,\n",
        "    \"CNtoMCI\": 80,\n",
        "    \"MCItoAD\": 500,\n",
        "    \"MCItoMCI\": 2000\n",
        "}\n",
        "\n",
        "ros = RandomOverSampler(sampling_strategy = strategy, random_state = 42)\n",
        "X_train_resampled, y_train_resampled = ros.fit_resample(X_train, y_train)\n",
        "\n",
        "# Display class distribution after resampling\n",
        "print(\"Class distribution after resampling:\", Counter(y_train_resampled.Transition))\n",
        "print(\"Samples after resampling:\", len(y_train_resampled.Transition))\n"
      ],
      "metadata": {
        "colab": {
          "base_uri": "https://localhost:8080/"
        },
        "id": "xR7bsC9KLKiD",
        "outputId": "c41a7fee-0d30-40c3-ac7b-e31fa8d4748b"
      },
      "execution_count": 19,
      "outputs": [
        {
          "output_type": "stream",
          "name": "stdout",
          "text": [
            "Class distribution before resampling: Counter({'MCItoMCI': 1668, 'CNtoCN': 993, 'ADtoAD': 393, 'MCItoAD': 276, 'CNtoMCI': 41})\n",
            "Samples before resampling: 3371\n",
            "Class distribution after resampling: Counter({'MCItoMCI': 2000, 'CNtoCN': 1500, 'ADtoAD': 650, 'MCItoAD': 500, 'CNtoMCI': 80})\n",
            "Samples after resampling: 4730\n"
          ]
        },
        {
          "output_type": "stream",
          "name": "stderr",
          "text": [
            "/usr/local/lib/python3.10/dist-packages/imblearn/utils/_validation.py:313: UserWarning: After over-sampling, the number of samples (2000) in class MCItoMCI will be larger than the number of samples in the majority class (class #MCItoMCI -> 1668)\n",
            "  warnings.warn(\n"
          ]
        }
      ]
    },
    {
      "cell_type": "markdown",
      "source": [
        "# **%%%%%%%%%%%RFC - RandomOverSampler PERFORMANCE%%%%%%%%%%%%%**"
      ],
      "metadata": {
        "id": "aKvUvrAkBM62"
      }
    },
    {
      "cell_type": "code",
      "source": [
        "model_RFC_balanced = RandomForestClassifier(random_state=42) #Using Random Forest Classifier model\n",
        "model_RFC_balanced.fit(X_train_resampled,y_train_resampled) #Training\n",
        "y_pred_rfc_balenced = model_RFC_balanced.predict(X_test) #Predictions\n",
        "print(\"Model accuracy: \" + str(accuracy_score(y_test,y_pred_rfc_balenced)))\n",
        "print(classification_report(y_test,y_pred_rfc_balenced))\n",
        "print(model_RFC_balanced.classes_)\n",
        "accuracies.append(round(100*accuracy_score(y_test,y_pred_rfc_balenced),3))\n",
        "models.append('RFC_ROS')"
      ],
      "metadata": {
        "colab": {
          "base_uri": "https://localhost:8080/"
        },
        "id": "HYE4B590Nj9V",
        "outputId": "0d077a95-4e71-43fd-c2dd-ec45049f78d2"
      },
      "execution_count": 20,
      "outputs": [
        {
          "output_type": "stream",
          "name": "stderr",
          "text": [
            "<ipython-input-20-5ac9572dd392>:2: DataConversionWarning: A column-vector y was passed when a 1d array was expected. Please change the shape of y to (n_samples,), for example using ravel().\n",
            "  model_RFC_balanced.fit(X_train_resampled,y_train_resampled) #Training\n"
          ]
        },
        {
          "output_type": "stream",
          "name": "stdout",
          "text": [
            "Model accuracy: 0.9094052558782849\n",
            "              precision    recall  f1-score   support\n",
            "\n",
            "      ADtoAD       1.00      1.00      1.00       168\n",
            "      CNtoCN       0.96      1.00      0.98       426\n",
            "     CNtoMCI       0.00      0.00      0.00        18\n",
            "     MCItoAD       0.55      0.32      0.40       119\n",
            "    MCItoMCI       0.89      0.96      0.92       715\n",
            "\n",
            "    accuracy                           0.91      1446\n",
            "   macro avg       0.68      0.65      0.66      1446\n",
            "weighted avg       0.89      0.91      0.89      1446\n",
            "\n",
            "['ADtoAD' 'CNtoCN' 'CNtoMCI' 'MCItoAD' 'MCItoMCI']\n"
          ]
        },
        {
          "output_type": "stream",
          "name": "stderr",
          "text": [
            "/usr/local/lib/python3.10/dist-packages/sklearn/metrics/_classification.py:1344: UndefinedMetricWarning: Precision and F-score are ill-defined and being set to 0.0 in labels with no predicted samples. Use `zero_division` parameter to control this behavior.\n",
            "  _warn_prf(average, modifier, msg_start, len(result))\n",
            "/usr/local/lib/python3.10/dist-packages/sklearn/metrics/_classification.py:1344: UndefinedMetricWarning: Precision and F-score are ill-defined and being set to 0.0 in labels with no predicted samples. Use `zero_division` parameter to control this behavior.\n",
            "  _warn_prf(average, modifier, msg_start, len(result))\n",
            "/usr/local/lib/python3.10/dist-packages/sklearn/metrics/_classification.py:1344: UndefinedMetricWarning: Precision and F-score are ill-defined and being set to 0.0 in labels with no predicted samples. Use `zero_division` parameter to control this behavior.\n",
            "  _warn_prf(average, modifier, msg_start, len(result))\n"
          ]
        }
      ]
    },
    {
      "cell_type": "code",
      "source": [
        "cm = confusion_matrix(y_test, y_pred_rfc_balenced, labels = model_RFC_balanced.classes_)\n",
        "disp = ConfusionMatrixDisplay(confusion_matrix = cm , display_labels = model_RFC_balanced.classes_)\n",
        "disp.plot()"
      ],
      "metadata": {
        "colab": {
          "base_uri": "https://localhost:8080/",
          "height": 467
        },
        "id": "4TGtkGoCOP9_",
        "outputId": "2136519f-ddb4-4d25-d6a8-3158debe106b"
      },
      "execution_count": 21,
      "outputs": [
        {
          "output_type": "execute_result",
          "data": {
            "text/plain": [
              "<sklearn.metrics._plot.confusion_matrix.ConfusionMatrixDisplay at 0x7c478df2bfa0>"
            ]
          },
          "metadata": {},
          "execution_count": 21
        },
        {
          "output_type": "display_data",
          "data": {
            "text/plain": [
              "<Figure size 640x480 with 2 Axes>"
            ],
            "image/png": "[encoded data removed]"
          },
          "metadata": {}
        }
      ]
    },
    {
      "cell_type": "markdown",
      "source": [
        "# **%%%%%%%%%%%XGB - RandomOverSampler PERFORMANCE%%%%%%%%%%%%%**"
      ],
      "metadata": {
        "id": "gHL0-e3NiQ1J"
      }
    },
    {
      "cell_type": "code",
      "source": [
        "import pandas as pd\n",
        "import xgboost as xgb\n",
        "from sklearn.model_selection import train_test_split\n",
        "from sklearn.metrics import accuracy_score\n",
        "\n",
        "np.random.seed(42)\n",
        "y_train_list_resampled = list(y_train_resampled.Transition)\n",
        "y_test_list_resampled = list(y_test.Transition)\n",
        "\n",
        "# Convert the training and testing sets into DMatrix format (specific to XGBoost)\n",
        "y_train_resampled1 = convert_labels(y_train_list_resampled)\n",
        "y_test1 = convert_labels(y_test_list_resampled)\n",
        "train_dmatrix_resampled = xgb.DMatrix(data=X_train_resampled, label=y_train_resampled1)\n",
        "test_dmatrix = xgb.DMatrix(data=X_test, label=y_test1)\n",
        "\n",
        "# Define the parameters for XGBoost\n",
        "params = {\n",
        "    'objective': 'multi:softmax',  # for multi-class classification\n",
        "    'num_class': len(label_converter),  # number of classes\n",
        "    'eval_metric': 'merror',  # evaluation metric\n",
        "    'eta': 0.1,  # learning rate\n",
        "    'max_depth': 3  # maximum depth of each tree\n",
        "}\n",
        "\n",
        "# Train the XGBoost model\n",
        "num_rounds = 100  # number of boosting rounds\n",
        "model_XGB_balanced = xgb.train(params, train_dmatrix_resampled, num_rounds)\n",
        "\n",
        "# Make predictions on the testing set\n",
        "y_pred_xgb_balanced = model_XGB_balanced.predict(test_dmatrix)\n",
        "\n",
        "# Evaluate the model\n",
        "print(\"Model accuracy: \" + str(accuracy_score(y_test1,y_pred_xgb_balanced)))\n",
        "print(classification_report(y_test1,y_pred_xgb_balanced))\n",
        "print(label_converter)\n",
        "accuracies.append(round(100*accuracy_score(y_test1,y_pred_xgb_balanced),3))\n",
        "models.append('XGB_ROS')"
      ],
      "metadata": {
        "colab": {
          "base_uri": "https://localhost:8080/"
        },
        "outputId": "7488c025-7234-474c-d99a-bd2185c25880",
        "id": "9H-96VYViNHy"
      },
      "execution_count": 22,
      "outputs": [
        {
          "output_type": "stream",
          "name": "stdout",
          "text": [
            "Model accuracy: 0.9135546334716459\n",
            "              precision    recall  f1-score   support\n",
            "\n",
            "           0       1.00      1.00      1.00       168\n",
            "           1       0.96      1.00      0.98       426\n",
            "           2       0.50      0.06      0.10        18\n",
            "           3       0.57      0.41      0.48       119\n",
            "           4       0.91      0.95      0.93       715\n",
            "\n",
            "    accuracy                           0.91      1446\n",
            "   macro avg       0.79      0.68      0.70      1446\n",
            "weighted avg       0.90      0.91      0.90      1446\n",
            "\n",
            "{'ADtoAD': 0, 'CNtoCN': 1, 'CNtoMCI': 2, 'MCItoAD': 3, 'MCItoMCI': 4}\n"
          ]
        }
      ]
    },
    {
      "cell_type": "code",
      "source": [
        "cm = confusion_matrix(y_test1, y_pred_xgb_balanced, labels = list(label_converter.values()))\n",
        "disp = ConfusionMatrixDisplay(confusion_matrix = cm , display_labels = list(label_converter.values()))\n",
        "disp.plot()"
      ],
      "metadata": {
        "colab": {
          "base_uri": "https://localhost:8080/",
          "height": 467
        },
        "id": "q_xOd1dgVDee",
        "outputId": "df1633ed-6a3a-49c1-c69a-07387566110f"
      },
      "execution_count": 23,
      "outputs": [
        {
          "output_type": "execute_result",
          "data": {
            "text/plain": [
              "<sklearn.metrics._plot.confusion_matrix.ConfusionMatrixDisplay at 0x7c47e0f05fc0>"
            ]
          },
          "metadata": {},
          "execution_count": 23
        },
        {
          "output_type": "display_data",
          "data": {
            "text/plain": [
              "<Figure size 640x480 with 2 Axes>"
            ],
            "image/png": "[encoded data removed]"
          },
          "metadata": {}
        }
      ]
    },
    {
      "cell_type": "markdown",
      "source": [
        "# **%%%%%%%%%%%%%SUMMERIZE%%%%%%%%%%%%%%%**"
      ],
      "metadata": {
        "id": "LB4ZFkSAZfwI"
      }
    },
    {
      "cell_type": "code",
      "source": [
        "# Create a bar plot\n",
        "plt.figure(figsize = (12,6))\n",
        "sns.set(style=\"whitegrid\")  # Optional: Set a seaborn style\n",
        "ax = sns.barplot(x=models, y=accuracies, palette = \"Set3\")\n",
        "\n",
        "\n",
        "# Add labels and a title\n",
        "\n",
        "plt.xlabel(\"Model\")\n",
        "plt.ylabel(\"Accuracy [%]\")\n",
        "plt.title(\"Accuracies of Each Model\")\n",
        "\n",
        "# Display the values in the center of each bar\n",
        "for i, v in enumerate(accuracies):\n",
        "    ax.text(i, v + 1, str(v), ha='center', va='bottom', fontsize=10, color='black')\n",
        "\n",
        "# Show the plot\n",
        "plt.show()"
      ],
      "metadata": {
        "colab": {
          "base_uri": "https://localhost:8080/",
          "height": 574
        },
        "id": "_FH8urr_QZuD",
        "outputId": "39a601a7-66d1-4464-c246-44dcedffbc5a"
      },
      "execution_count": 24,
      "outputs": [
        {
          "output_type": "display_data",
          "data": {
            "text/plain": [
              "<Figure size 1200x600 with 1 Axes>"
            ],
            "image/png": "[encoded data removed]"
          },
          "metadata": {}
        }
      ]
    }
  ]
}
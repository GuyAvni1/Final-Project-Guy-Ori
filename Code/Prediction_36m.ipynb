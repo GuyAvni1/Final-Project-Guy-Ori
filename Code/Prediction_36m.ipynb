{
  "nbformat": 4,
  "nbformat_minor": 0,
  "metadata": {
    "colab": {
      "provenance": [],
      "authorship_tag": "ABX9TyNP8SfG40RRb+1KrzT+j2ON",
      "include_colab_link": true
    },
    "kernelspec": {
      "name": "python3",
      "display_name": "Python 3"
    },
    "language_info": {
      "name": "python"
    }
  },
  "cells": [
    {
      "cell_type": "markdown",
      "metadata": {
        "id": "view-in-github",
        "colab_type": "text"
      },
      "source": [
        "<a href=\"https://colab.research.google.com/github/GuyAvni1/Final-Project-Guy-Ori/blob/main/Code/Prediction_36m.ipynb\" target=\"_parent\"><img src=\"https://colab.research.google.com/assets/colab-badge.svg\" alt=\"Open In Colab\"/></a>"
      ]
    },
    {
      "cell_type": "code",
      "execution_count": 1,
      "metadata": {
        "id": "QhcOqxvVzEcE"
      },
      "outputs": [],
      "source": [
        "import pandas as pd\n",
        "import numpy as np\n",
        "import sklearn\n",
        "import seaborn as sns\n",
        "import matplotlib.pyplot as plt\n",
        "from sklearn.svm import SVC, LinearSVC\n",
        "from sklearn.metrics import classification_report\n",
        "from sklearn.model_selection import train_test_split\n",
        "from sklearn.preprocessing import StandardScaler\n",
        "from sklearn.metrics import confusion_matrix, ConfusionMatrixDisplay"
      ]
    },
    {
      "cell_type": "code",
      "source": [
        "pd.set_option('display.max_rows', 999)\n",
        "pd.set_option('display.max_columns', 999)"
      ],
      "metadata": {
        "id": "VgxrZyQDh6Ak"
      },
      "execution_count": 2,
      "outputs": []
    },
    {
      "cell_type": "code",
      "source": [
        "from google.colab import drive\n",
        "drive.mount('/content/drive')"
      ],
      "metadata": {
        "colab": {
          "base_uri": "https://localhost:8080/"
        },
        "id": "VPzLH75xzF6p",
        "outputId": "37ac51a7-714e-411e-fc5e-3c33557f6a83"
      },
      "execution_count": 3,
      "outputs": [
        {
          "output_type": "stream",
          "name": "stdout",
          "text": [
            "Mounted at /content/drive\n"
          ]
        }
      ]
    },
    {
      "cell_type": "code",
      "source": [
        "#Reading the data set from the drive\n",
        "raw = pd.read_csv(\"/content/drive/MyDrive/Final_Project_Data/future_of_36m.csv\")\n",
        "# print(raw)\n",
        "data = raw\n",
        "# Define a mapping of labels to numerical values to creater baseline lable feature for training\n",
        "label_mapping = {'CN': 0,'MCI': 1,  'Dementia': 2}\n",
        "\n",
        "# Apply label encoding to the 'DX' column\n",
        "data['DX'] = data['DX'].map(label_mapping)\n",
        "data #Showing an example of the first 5 rows.\n"
      ],
      "metadata": {
        "colab": {
          "base_uri": "https://localhost:8080/",
          "height": 443
        },
        "id": "Gieoh2oV7827",
        "outputId": "5ddf97a5-a273-4079-d6ee-6713fb603624"
      },
      "execution_count": 4,
      "outputs": [
        {
          "output_type": "execute_result",
          "data": {
            "text/plain": [
              "       RID  VISCODE  DX       FDG      AV45        ABETA         TAU  \\\n",
              "0        4        0   1  1.241955  0.961954  1501.000000  153.100000   \n",
              "1        5        0   0  1.259560  1.350386   547.300000  337.000000   \n",
              "2        6        0   1  1.123786  1.270353   728.137328  418.505157   \n",
              "3        8        0   0  1.209650  1.021804  1700.000000  440.200000   \n",
              "4        8       12   0  1.175050  1.049014  1700.000000  397.700000   \n",
              "...    ...      ...  ..       ...       ...          ...         ...   \n",
              "2453  6731        0   1  1.459690  1.364200   856.805253  430.905116   \n",
              "2454  6755        0   1  1.020700  0.930900  1487.445440  431.392682   \n",
              "2455  6757        0   1  1.484340  1.179653  1100.168944  425.509505   \n",
              "2456  6770        0   1  1.286410  1.206779   783.225001  405.464227   \n",
              "2457  6805        0   1  0.975876  1.097075  1067.211674  421.244874   \n",
              "\n",
              "           PTAU  CDRSB  ADAS11  ADAS13  MMSE  RAVLT_immediate  \\\n",
              "0     13.290000    1.0   14.33   21.33  27.0             37.0   \n",
              "1     33.430000    0.0    8.67   14.67  29.0             37.0   \n",
              "2     39.071683    0.5   18.67   25.67  25.0             30.0   \n",
              "3     37.510000    0.0    5.00    7.00  28.0             51.0   \n",
              "4     34.280000    0.0    3.00    5.00  28.0             42.0   \n",
              "...         ...    ...     ...     ...   ...              ...   \n",
              "2453  42.745549    1.5    4.33   11.33  27.0             47.0   \n",
              "2454  38.305930    4.0    6.67   10.67  29.0             36.0   \n",
              "2455  41.943643    1.0    7.00   10.00  30.0             42.0   \n",
              "2456  38.709806    2.0   14.00   25.00  29.0             30.0   \n",
              "2457  39.399639    2.0    5.67   10.67  29.0             58.0   \n",
              "\n",
              "      RAVLT_forgetting  RAVLT_perc_forgetting   FAQ       MOCA  \\\n",
              "0             4.000000              36.363600   0.0  23.921439   \n",
              "1             4.000000              44.444400   0.0  22.879384   \n",
              "2             5.000000              83.333300   0.0  20.237177   \n",
              "3             3.000000              25.000000   0.0  25.037229   \n",
              "4             5.000000              50.000000   0.0  24.596106   \n",
              "...                ...                    ...   ...        ...   \n",
              "2453          7.000000              58.333300   1.0  25.000000   \n",
              "2454         -0.463689               1.734694  14.0  25.000000   \n",
              "2455          5.000000              55.555600   1.0  26.000000   \n",
              "2456          4.000000              66.666700   1.0  15.000000   \n",
              "2457          2.000000              18.181800  11.0  25.000000   \n",
              "\n",
              "      RAVLT_learning    Ventricles  Hippocampus    WholeBrain   Entorhinal  \\\n",
              "0                7.0  39605.000000  6869.000000  1.154980e+06  3983.000000   \n",
              "1                4.0  34062.000000  7075.000000  1.116630e+06  4433.000000   \n",
              "2                1.0  39826.000000  5348.000000  9.275100e+05  2277.000000   \n",
              "3                7.0  18757.000000  6080.000000  9.486840e+05  4190.000000   \n",
              "4                5.0  37297.615921  6777.052702  9.866253e+05  3603.074759   \n",
              "...              ...           ...          ...           ...          ...   \n",
              "2453             6.0  17907.500000  6801.000000  9.966410e+05  4022.000000   \n",
              "2454             5.0  27087.900000  7637.700000  1.098670e+06  4331.000000   \n",
              "2455             2.0  22023.161120  8205.936577  1.101694e+06  3961.788294   \n",
              "2456             0.0  37728.700000  6849.500000  9.683040e+05  3483.000000   \n",
              "2457             4.0  66106.000000  7519.400000  1.007200e+06  3794.000000   \n",
              "\n",
              "          Fusiform       MidTemp           ICV Transition  \n",
              "0     19036.000000  19615.000000  1.679440e+06   MCItoMCI  \n",
              "1     24788.000000  21614.000000  1.640770e+06     CNtoCN  \n",
              "2     17963.000000  17802.000000  1.485830e+06   MCItoMCI  \n",
              "3     14043.000000  20076.000000  1.396070e+06     CNtoCN  \n",
              "4     17443.920391  19002.838608  1.526902e+06     CNtoCN  \n",
              "...            ...           ...           ...        ...  \n",
              "2453  17754.000000  19845.000000  1.318990e+06   MCItoMCI  \n",
              "2454  20823.000000  24859.000000  1.533260e+06    MCItoAD  \n",
              "2455  19710.350209  22175.777213  1.616970e+06   MCItoMCI  \n",
              "2456  16430.000000  18492.000000  1.476980e+06    MCItoAD  \n",
              "2457  10561.000000  17626.000000  1.496450e+06    MCItoAD  \n",
              "\n",
              "[2458 rows x 26 columns]"
            ],
            "text/html": [
              "\n",
              "  <div id=\"df-5bd45d06-286e-40e9-9c81-8030246022b3\" class=\"colab-df-container\">\n",
              "    <div>\n",
              "<style scoped>\n",
              "    .dataframe tbody tr th:only-of-type {\n",
              "        vertical-align: middle;\n",
              "    }\n",
              "\n",
              "    .dataframe tbody tr th {\n",
              "        vertical-align: top;\n",
              "    }\n",
              "\n",
              "    .dataframe thead th {\n",
              "        text-align: right;\n",
              "    }\n",
              "</style>\n",
              "<table border=\"1\" class=\"dataframe\">\n",
              "  <thead>\n",
              "    <tr style=\"text-align: right;\">\n",
              "      <th></th>\n",
              "      <th>RID</th>\n",
              "      <th>VISCODE</th>\n",
              "      <th>DX</th>\n",
              "      <th>FDG</th>\n",
              "      <th>AV45</th>\n",
              "      <th>ABETA</th>\n",
              "      <th>TAU</th>\n",
              "      <th>PTAU</th>\n",
              "      <th>CDRSB</th>\n",
              "      <th>ADAS11</th>\n",
              "      <th>ADAS13</th>\n",
              "      <th>MMSE</th>\n",
              "      <th>RAVLT_immediate</th>\n",
              "      <th>RAVLT_forgetting</th>\n",
              "      <th>RAVLT_perc_forgetting</th>\n",
              "      <th>FAQ</th>\n",
              "      <th>MOCA</th>\n",
              "      <th>RAVLT_learning</th>\n",
              "      <th>Ventricles</th>\n",
              "      <th>Hippocampus</th>\n",
              "      <th>WholeBrain</th>\n",
              "      <th>Entorhinal</th>\n",
              "      <th>Fusiform</th>\n",
              "      <th>MidTemp</th>\n",
              "      <th>ICV</th>\n",
              "      <th>Transition</th>\n",
              "    </tr>\n",
              "  </thead>\n",
              "  <tbody>\n",
              "    <tr>\n",
              "      <th>0</th>\n",
              "      <td>4</td>\n",
              "      <td>0</td>\n",
              "      <td>1</td>\n",
              "      <td>1.241955</td>\n",
              "      <td>0.961954</td>\n",
              "      <td>1501.000000</td>\n",
              "      <td>153.100000</td>\n",
              "      <td>13.290000</td>\n",
              "      <td>1.0</td>\n",
              "      <td>14.33</td>\n",
              "      <td>21.33</td>\n",
              "      <td>27.0</td>\n",
              "      <td>37.0</td>\n",
              "      <td>4.000000</td>\n",
              "      <td>36.363600</td>\n",
              "      <td>0.0</td>\n",
              "      <td>23.921439</td>\n",
              "      <td>7.0</td>\n",
              "      <td>39605.000000</td>\n",
              "      <td>6869.000000</td>\n",
              "      <td>1.154980e+06</td>\n",
              "      <td>3983.000000</td>\n",
              "      <td>19036.000000</td>\n",
              "      <td>19615.000000</td>\n",
              "      <td>1.679440e+06</td>\n",
              "      <td>MCItoMCI</td>\n",
              "    </tr>\n",
              "    <tr>\n",
              "      <th>1</th>\n",
              "      <td>5</td>\n",
              "      <td>0</td>\n",
              "      <td>0</td>\n",
              "      <td>1.259560</td>\n",
              "      <td>1.350386</td>\n",
              "      <td>547.300000</td>\n",
              "      <td>337.000000</td>\n",
              "      <td>33.430000</td>\n",
              "      <td>0.0</td>\n",
              "      <td>8.67</td>\n",
              "      <td>14.67</td>\n",
              "      <td>29.0</td>\n",
              "      <td>37.0</td>\n",
              "      <td>4.000000</td>\n",
              "      <td>44.444400</td>\n",
              "      <td>0.0</td>\n",
              "      <td>22.879384</td>\n",
              "      <td>4.0</td>\n",
              "      <td>34062.000000</td>\n",
              "      <td>7075.000000</td>\n",
              "      <td>1.116630e+06</td>\n",
              "      <td>4433.000000</td>\n",
              "      <td>24788.000000</td>\n",
              "      <td>21614.000000</td>\n",
              "      <td>1.640770e+06</td>\n",
              "      <td>CNtoCN</td>\n",
              "    </tr>\n",
              "    <tr>\n",
              "      <th>2</th>\n",
              "      <td>6</td>\n",
              "      <td>0</td>\n",
              "      <td>1</td>\n",
              "      <td>1.123786</td>\n",
              "      <td>1.270353</td>\n",
              "      <td>728.137328</td>\n",
              "      <td>418.505157</td>\n",
              "      <td>39.071683</td>\n",
              "      <td>0.5</td>\n",
              "      <td>18.67</td>\n",
              "      <td>25.67</td>\n",
              "      <td>25.0</td>\n",
              "      <td>30.0</td>\n",
              "      <td>5.000000</td>\n",
              "      <td>83.333300</td>\n",
              "      <td>0.0</td>\n",
              "      <td>20.237177</td>\n",
              "      <td>1.0</td>\n",
              "      <td>39826.000000</td>\n",
              "      <td>5348.000000</td>\n",
              "      <td>9.275100e+05</td>\n",
              "      <td>2277.000000</td>\n",
              "      <td>17963.000000</td>\n",
              "      <td>17802.000000</td>\n",
              "      <td>1.485830e+06</td>\n",
              "      <td>MCItoMCI</td>\n",
              "    </tr>\n",
              "    <tr>\n",
              "      <th>3</th>\n",
              "      <td>8</td>\n",
              "      <td>0</td>\n",
              "      <td>0</td>\n",
              "      <td>1.209650</td>\n",
              "      <td>1.021804</td>\n",
              "      <td>1700.000000</td>\n",
              "      <td>440.200000</td>\n",
              "      <td>37.510000</td>\n",
              "      <td>0.0</td>\n",
              "      <td>5.00</td>\n",
              "      <td>7.00</td>\n",
              "      <td>28.0</td>\n",
              "      <td>51.0</td>\n",
              "      <td>3.000000</td>\n",
              "      <td>25.000000</td>\n",
              "      <td>0.0</td>\n",
              "      <td>25.037229</td>\n",
              "      <td>7.0</td>\n",
              "      <td>18757.000000</td>\n",
              "      <td>6080.000000</td>\n",
              "      <td>9.486840e+05</td>\n",
              "      <td>4190.000000</td>\n",
              "      <td>14043.000000</td>\n",
              "      <td>20076.000000</td>\n",
              "      <td>1.396070e+06</td>\n",
              "      <td>CNtoCN</td>\n",
              "    </tr>\n",
              "    <tr>\n",
              "      <th>4</th>\n",
              "      <td>8</td>\n",
              "      <td>12</td>\n",
              "      <td>0</td>\n",
              "      <td>1.175050</td>\n",
              "      <td>1.049014</td>\n",
              "      <td>1700.000000</td>\n",
              "      <td>397.700000</td>\n",
              "      <td>34.280000</td>\n",
              "      <td>0.0</td>\n",
              "      <td>3.00</td>\n",
              "      <td>5.00</td>\n",
              "      <td>28.0</td>\n",
              "      <td>42.0</td>\n",
              "      <td>5.000000</td>\n",
              "      <td>50.000000</td>\n",
              "      <td>0.0</td>\n",
              "      <td>24.596106</td>\n",
              "      <td>5.0</td>\n",
              "      <td>37297.615921</td>\n",
              "      <td>6777.052702</td>\n",
              "      <td>9.866253e+05</td>\n",
              "      <td>3603.074759</td>\n",
              "      <td>17443.920391</td>\n",
              "      <td>19002.838608</td>\n",
              "      <td>1.526902e+06</td>\n",
              "      <td>CNtoCN</td>\n",
              "    </tr>\n",
              "    <tr>\n",
              "      <th>...</th>\n",
              "      <td>...</td>\n",
              "      <td>...</td>\n",
              "      <td>...</td>\n",
              "      <td>...</td>\n",
              "      <td>...</td>\n",
              "      <td>...</td>\n",
              "      <td>...</td>\n",
              "      <td>...</td>\n",
              "      <td>...</td>\n",
              "      <td>...</td>\n",
              "      <td>...</td>\n",
              "      <td>...</td>\n",
              "      <td>...</td>\n",
              "      <td>...</td>\n",
              "      <td>...</td>\n",
              "      <td>...</td>\n",
              "      <td>...</td>\n",
              "      <td>...</td>\n",
              "      <td>...</td>\n",
              "      <td>...</td>\n",
              "      <td>...</td>\n",
              "      <td>...</td>\n",
              "      <td>...</td>\n",
              "      <td>...</td>\n",
              "      <td>...</td>\n",
              "      <td>...</td>\n",
              "    </tr>\n",
              "    <tr>\n",
              "      <th>2453</th>\n",
              "      <td>6731</td>\n",
              "      <td>0</td>\n",
              "      <td>1</td>\n",
              "      <td>1.459690</td>\n",
              "      <td>1.364200</td>\n",
              "      <td>856.805253</td>\n",
              "      <td>430.905116</td>\n",
              "      <td>42.745549</td>\n",
              "      <td>1.5</td>\n",
              "      <td>4.33</td>\n",
              "      <td>11.33</td>\n",
              "      <td>27.0</td>\n",
              "      <td>47.0</td>\n",
              "      <td>7.000000</td>\n",
              "      <td>58.333300</td>\n",
              "      <td>1.0</td>\n",
              "      <td>25.000000</td>\n",
              "      <td>6.0</td>\n",
              "      <td>17907.500000</td>\n",
              "      <td>6801.000000</td>\n",
              "      <td>9.966410e+05</td>\n",
              "      <td>4022.000000</td>\n",
              "      <td>17754.000000</td>\n",
              "      <td>19845.000000</td>\n",
              "      <td>1.318990e+06</td>\n",
              "      <td>MCItoMCI</td>\n",
              "    </tr>\n",
              "    <tr>\n",
              "      <th>2454</th>\n",
              "      <td>6755</td>\n",
              "      <td>0</td>\n",
              "      <td>1</td>\n",
              "      <td>1.020700</td>\n",
              "      <td>0.930900</td>\n",
              "      <td>1487.445440</td>\n",
              "      <td>431.392682</td>\n",
              "      <td>38.305930</td>\n",
              "      <td>4.0</td>\n",
              "      <td>6.67</td>\n",
              "      <td>10.67</td>\n",
              "      <td>29.0</td>\n",
              "      <td>36.0</td>\n",
              "      <td>-0.463689</td>\n",
              "      <td>1.734694</td>\n",
              "      <td>14.0</td>\n",
              "      <td>25.000000</td>\n",
              "      <td>5.0</td>\n",
              "      <td>27087.900000</td>\n",
              "      <td>7637.700000</td>\n",
              "      <td>1.098670e+06</td>\n",
              "      <td>4331.000000</td>\n",
              "      <td>20823.000000</td>\n",
              "      <td>24859.000000</td>\n",
              "      <td>1.533260e+06</td>\n",
              "      <td>MCItoAD</td>\n",
              "    </tr>\n",
              "    <tr>\n",
              "      <th>2455</th>\n",
              "      <td>6757</td>\n",
              "      <td>0</td>\n",
              "      <td>1</td>\n",
              "      <td>1.484340</td>\n",
              "      <td>1.179653</td>\n",
              "      <td>1100.168944</td>\n",
              "      <td>425.509505</td>\n",
              "      <td>41.943643</td>\n",
              "      <td>1.0</td>\n",
              "      <td>7.00</td>\n",
              "      <td>10.00</td>\n",
              "      <td>30.0</td>\n",
              "      <td>42.0</td>\n",
              "      <td>5.000000</td>\n",
              "      <td>55.555600</td>\n",
              "      <td>1.0</td>\n",
              "      <td>26.000000</td>\n",
              "      <td>2.0</td>\n",
              "      <td>22023.161120</td>\n",
              "      <td>8205.936577</td>\n",
              "      <td>1.101694e+06</td>\n",
              "      <td>3961.788294</td>\n",
              "      <td>19710.350209</td>\n",
              "      <td>22175.777213</td>\n",
              "      <td>1.616970e+06</td>\n",
              "      <td>MCItoMCI</td>\n",
              "    </tr>\n",
              "    <tr>\n",
              "      <th>2456</th>\n",
              "      <td>6770</td>\n",
              "      <td>0</td>\n",
              "      <td>1</td>\n",
              "      <td>1.286410</td>\n",
              "      <td>1.206779</td>\n",
              "      <td>783.225001</td>\n",
              "      <td>405.464227</td>\n",
              "      <td>38.709806</td>\n",
              "      <td>2.0</td>\n",
              "      <td>14.00</td>\n",
              "      <td>25.00</td>\n",
              "      <td>29.0</td>\n",
              "      <td>30.0</td>\n",
              "      <td>4.000000</td>\n",
              "      <td>66.666700</td>\n",
              "      <td>1.0</td>\n",
              "      <td>15.000000</td>\n",
              "      <td>0.0</td>\n",
              "      <td>37728.700000</td>\n",
              "      <td>6849.500000</td>\n",
              "      <td>9.683040e+05</td>\n",
              "      <td>3483.000000</td>\n",
              "      <td>16430.000000</td>\n",
              "      <td>18492.000000</td>\n",
              "      <td>1.476980e+06</td>\n",
              "      <td>MCItoAD</td>\n",
              "    </tr>\n",
              "    <tr>\n",
              "      <th>2457</th>\n",
              "      <td>6805</td>\n",
              "      <td>0</td>\n",
              "      <td>1</td>\n",
              "      <td>0.975876</td>\n",
              "      <td>1.097075</td>\n",
              "      <td>1067.211674</td>\n",
              "      <td>421.244874</td>\n",
              "      <td>39.399639</td>\n",
              "      <td>2.0</td>\n",
              "      <td>5.67</td>\n",
              "      <td>10.67</td>\n",
              "      <td>29.0</td>\n",
              "      <td>58.0</td>\n",
              "      <td>2.000000</td>\n",
              "      <td>18.181800</td>\n",
              "      <td>11.0</td>\n",
              "      <td>25.000000</td>\n",
              "      <td>4.0</td>\n",
              "      <td>66106.000000</td>\n",
              "      <td>7519.400000</td>\n",
              "      <td>1.007200e+06</td>\n",
              "      <td>3794.000000</td>\n",
              "      <td>10561.000000</td>\n",
              "      <td>17626.000000</td>\n",
              "      <td>1.496450e+06</td>\n",
              "      <td>MCItoAD</td>\n",
              "    </tr>\n",
              "  </tbody>\n",
              "</table>\n",
              "<p>2458 rows × 26 columns</p>\n",
              "</div>\n",
              "    <div class=\"colab-df-buttons\">\n",
              "\n",
              "  <div class=\"colab-df-container\">\n",
              "    <button class=\"colab-df-convert\" onclick=\"convertToInteractive('df-5bd45d06-286e-40e9-9c81-8030246022b3')\"\n",
              "            title=\"Convert this dataframe to an interactive table.\"\n",
              "            style=\"display:none;\">\n",
              "\n",
              "  <svg xmlns=\"http://www.w3.org/2000/svg\" height=\"24px\" viewBox=\"0 -960 960 960\">\n",
              "    <path d=\"M120-120v-720h720v720H120Zm60-500h600v-160H180v160Zm220 220h160v-160H400v160Zm0 220h160v-160H400v160ZM180-400h160v-160H180v160Zm440 0h160v-160H620v160ZM180-180h160v-160H180v160Zm440 0h160v-160H620v160Z\"/>\n",
              "  </svg>\n",
              "    </button>\n",
              "\n",
              "  <style>\n",
              "    .colab-df-container {\n",
              "      display:flex;\n",
              "      gap: 12px;\n",
              "    }\n",
              "\n",
              "    .colab-df-convert {\n",
              "      background-color: #E8F0FE;\n",
              "      border: none;\n",
              "      border-radius: 50%;\n",
              "      cursor: pointer;\n",
              "      display: none;\n",
              "      fill: #1967D2;\n",
              "      height: 32px;\n",
              "      padding: 0 0 0 0;\n",
              "      width: 32px;\n",
              "    }\n",
              "\n",
              "    .colab-df-convert:hover {\n",
              "      background-color: #E2EBFA;\n",
              "      box-shadow: 0px 1px 2px rgba(60, 64, 67, 0.3), 0px 1px 3px 1px rgba(60, 64, 67, 0.15);\n",
              "      fill: #174EA6;\n",
              "    }\n",
              "\n",
              "    .colab-df-buttons div {\n",
              "      margin-bottom: 4px;\n",
              "    }\n",
              "\n",
              "    [theme=dark] .colab-df-convert {\n",
              "      background-color: #3B4455;\n",
              "      fill: #D2E3FC;\n",
              "    }\n",
              "\n",
              "    [theme=dark] .colab-df-convert:hover {\n",
              "      background-color: #434B5C;\n",
              "      box-shadow: 0px 1px 3px 1px rgba(0, 0, 0, 0.15);\n",
              "      filter: drop-shadow(0px 1px 2px rgba(0, 0, 0, 0.3));\n",
              "      fill: #FFFFFF;\n",
              "    }\n",
              "  </style>\n",
              "\n",
              "    <script>\n",
              "      const buttonEl =\n",
              "        document.querySelector('#df-5bd45d06-286e-40e9-9c81-8030246022b3 button.colab-df-convert');\n",
              "      buttonEl.style.display =\n",
              "        google.colab.kernel.accessAllowed ? 'block' : 'none';\n",
              "\n",
              "      async function convertToInteractive(key) {\n",
              "        const element = document.querySelector('#df-5bd45d06-286e-40e9-9c81-8030246022b3');\n",
              "        const dataTable =\n",
              "          await google.colab.kernel.invokeFunction('convertToInteractive',\n",
              "                                                    [key], {});\n",
              "        if (!dataTable) return;\n",
              "\n",
              "        const docLinkHtml = 'Like what you see? Visit the ' +\n",
              "          '<a target=\"_blank\" href=https://colab.research.google.com/notebooks/data_table.ipynb>data table notebook</a>'\n",
              "          + ' to learn more about interactive tables.';\n",
              "        element.innerHTML = '';\n",
              "        dataTable['output_type'] = 'display_data';\n",
              "        await google.colab.output.renderOutput(dataTable, element);\n",
              "        const docLink = document.createElement('div');\n",
              "        docLink.innerHTML = docLinkHtml;\n",
              "        element.appendChild(docLink);\n",
              "      }\n",
              "    </script>\n",
              "  </div>\n",
              "\n",
              "\n",
              "<div id=\"df-b02d8e76-28c0-42ff-8d96-984bbac57ee4\">\n",
              "  <button class=\"colab-df-quickchart\" onclick=\"quickchart('df-b02d8e76-28c0-42ff-8d96-984bbac57ee4')\"\n",
              "            title=\"Suggest charts.\"\n",
              "            style=\"display:none;\">\n",
              "\n",
              "<svg xmlns=\"http://www.w3.org/2000/svg\" height=\"24px\"viewBox=\"0 0 24 24\"\n",
              "     width=\"24px\">\n",
              "    <g>\n",
              "        <path d=\"M19 3H5c-1.1 0-2 .9-2 2v14c0 1.1.9 2 2 2h14c1.1 0 2-.9 2-2V5c0-1.1-.9-2-2-2zM9 17H7v-7h2v7zm4 0h-2V7h2v10zm4 0h-2v-4h2v4z\"/>\n",
              "    </g>\n",
              "</svg>\n",
              "  </button>\n",
              "\n",
              "<style>\n",
              "  .colab-df-quickchart {\n",
              "      --bg-color: #E8F0FE;\n",
              "      --fill-color: #1967D2;\n",
              "      --hover-bg-color: #E2EBFA;\n",
              "      --hover-fill-color: #174EA6;\n",
              "      --disabled-fill-color: #AAA;\n",
              "      --disabled-bg-color: #DDD;\n",
              "  }\n",
              "\n",
              "  [theme=dark] .colab-df-quickchart {\n",
              "      --bg-color: #3B4455;\n",
              "      --fill-color: #D2E3FC;\n",
              "      --hover-bg-color: #434B5C;\n",
              "      --hover-fill-color: #FFFFFF;\n",
              "      --disabled-bg-color: #3B4455;\n",
              "      --disabled-fill-color: #666;\n",
              "  }\n",
              "\n",
              "  .colab-df-quickchart {\n",
              "    background-color: var(--bg-color);\n",
              "    border: none;\n",
              "    border-radius: 50%;\n",
              "    cursor: pointer;\n",
              "    display: none;\n",
              "    fill: var(--fill-color);\n",
              "    height: 32px;\n",
              "    padding: 0;\n",
              "    width: 32px;\n",
              "  }\n",
              "\n",
              "  .colab-df-quickchart:hover {\n",
              "    background-color: var(--hover-bg-color);\n",
              "    box-shadow: 0 1px 2px rgba(60, 64, 67, 0.3), 0 1px 3px 1px rgba(60, 64, 67, 0.15);\n",
              "    fill: var(--button-hover-fill-color);\n",
              "  }\n",
              "\n",
              "  .colab-df-quickchart-complete:disabled,\n",
              "  .colab-df-quickchart-complete:disabled:hover {\n",
              "    background-color: var(--disabled-bg-color);\n",
              "    fill: var(--disabled-fill-color);\n",
              "    box-shadow: none;\n",
              "  }\n",
              "\n",
              "  .colab-df-spinner {\n",
              "    border: 2px solid var(--fill-color);\n",
              "    border-color: transparent;\n",
              "    border-bottom-color: var(--fill-color);\n",
              "    animation:\n",
              "      spin 1s steps(1) infinite;\n",
              "  }\n",
              "\n",
              "  @keyframes spin {\n",
              "    0% {\n",
              "      border-color: transparent;\n",
              "      border-bottom-color: var(--fill-color);\n",
              "      border-left-color: var(--fill-color);\n",
              "    }\n",
              "    20% {\n",
              "      border-color: transparent;\n",
              "      border-left-color: var(--fill-color);\n",
              "      border-top-color: var(--fill-color);\n",
              "    }\n",
              "    30% {\n",
              "      border-color: transparent;\n",
              "      border-left-color: var(--fill-color);\n",
              "      border-top-color: var(--fill-color);\n",
              "      border-right-color: var(--fill-color);\n",
              "    }\n",
              "    40% {\n",
              "      border-color: transparent;\n",
              "      border-right-color: var(--fill-color);\n",
              "      border-top-color: var(--fill-color);\n",
              "    }\n",
              "    60% {\n",
              "      border-color: transparent;\n",
              "      border-right-color: var(--fill-color);\n",
              "    }\n",
              "    80% {\n",
              "      border-color: transparent;\n",
              "      border-right-color: var(--fill-color);\n",
              "      border-bottom-color: var(--fill-color);\n",
              "    }\n",
              "    90% {\n",
              "      border-color: transparent;\n",
              "      border-bottom-color: var(--fill-color);\n",
              "    }\n",
              "  }\n",
              "</style>\n",
              "\n",
              "  <script>\n",
              "    async function quickchart(key) {\n",
              "      const quickchartButtonEl =\n",
              "        document.querySelector('#' + key + ' button');\n",
              "      quickchartButtonEl.disabled = true;  // To prevent multiple clicks.\n",
              "      quickchartButtonEl.classList.add('colab-df-spinner');\n",
              "      try {\n",
              "        const charts = await google.colab.kernel.invokeFunction(\n",
              "            'suggestCharts', [key], {});\n",
              "      } catch (error) {\n",
              "        console.error('Error during call to suggestCharts:', error);\n",
              "      }\n",
              "      quickchartButtonEl.classList.remove('colab-df-spinner');\n",
              "      quickchartButtonEl.classList.add('colab-df-quickchart-complete');\n",
              "    }\n",
              "    (() => {\n",
              "      let quickchartButtonEl =\n",
              "        document.querySelector('#df-b02d8e76-28c0-42ff-8d96-984bbac57ee4 button');\n",
              "      quickchartButtonEl.style.display =\n",
              "        google.colab.kernel.accessAllowed ? 'block' : 'none';\n",
              "    })();\n",
              "  </script>\n",
              "</div>\n",
              "    </div>\n",
              "  </div>\n"
            ]
          },
          "metadata": {},
          "execution_count": 4
        }
      ]
    },
    {
      "cell_type": "code",
      "source": [
        "labels = data[['Transition']]\n",
        "train_data = data.drop(['Transition','RID','VISCODE'], axis = 1)\n",
        "print(\"Shape of the training set: {}\".format(train_data.shape))"
      ],
      "metadata": {
        "colab": {
          "base_uri": "https://localhost:8080/"
        },
        "id": "k1njZ0Dr_AGi",
        "outputId": "26d478d0-ae66-4b17-fd43-69bf519a6359"
      },
      "execution_count": 5,
      "outputs": [
        {
          "output_type": "stream",
          "name": "stdout",
          "text": [
            "Shape of the training set: (2458, 23)\n"
          ]
        }
      ]
    },
    {
      "cell_type": "code",
      "source": [
        "labels.value_counts()"
      ],
      "metadata": {
        "colab": {
          "base_uri": "https://localhost:8080/"
        },
        "id": "MFqxOaaLo0Qj",
        "outputId": "f7a16643-9eb7-4609-dcfd-2d74d20c4ecb"
      },
      "execution_count": 6,
      "outputs": [
        {
          "output_type": "execute_result",
          "data": {
            "text/plain": [
              "Transition\n",
              "MCItoMCI      970\n",
              "CNtoCN        792\n",
              "MCItoAD       386\n",
              "ADtoAD        180\n",
              "CNtoMCI       110\n",
              "CNtoAD         20\n",
              "dtype: int64"
            ]
          },
          "metadata": {},
          "execution_count": 6
        }
      ]
    },
    {
      "cell_type": "code",
      "source": [
        "# Splitting the data into train (70%) and test (30%) sets\n",
        "X_train, X_test, y_train, y_test = train_test_split(train_data, labels, test_size=0.3, stratify=labels)\n",
        "print(\"Number of train samples:\" + str(len(X_train)))\n",
        "print(\"Number of test samples:\" + str(len(X_test)))"
      ],
      "metadata": {
        "id": "xCMBPTfWqV9l",
        "colab": {
          "base_uri": "https://localhost:8080/"
        },
        "outputId": "a89689ed-5f3a-48ec-d6b4-c5efc02aa235"
      },
      "execution_count": 7,
      "outputs": [
        {
          "output_type": "stream",
          "name": "stdout",
          "text": [
            "Number of train samples:1720\n",
            "Number of test samples:738\n"
          ]
        }
      ]
    },
    {
      "cell_type": "code",
      "source": [
        "print(\"Training set distribution:\\n{}\\n\\n\".format(y_train['Transition'].value_counts()))\n",
        "print(\"Test set distribution:\\n{}\".format(y_test['Transition'].value_counts()))"
      ],
      "metadata": {
        "colab": {
          "base_uri": "https://localhost:8080/"
        },
        "id": "AKh4_ttmCjM8",
        "outputId": "59388fea-c935-4317-ecfb-05f0d86c2f22"
      },
      "execution_count": 8,
      "outputs": [
        {
          "output_type": "stream",
          "name": "stdout",
          "text": [
            "Training set distribution:\n",
            "MCItoMCI    679\n",
            "CNtoCN      554\n",
            "MCItoAD     270\n",
            "ADtoAD      126\n",
            "CNtoMCI      77\n",
            "CNtoAD       14\n",
            "Name: Transition, dtype: int64\n",
            "\n",
            "\n",
            "Test set distribution:\n",
            "MCItoMCI    291\n",
            "CNtoCN      238\n",
            "MCItoAD     116\n",
            "ADtoAD       54\n",
            "CNtoMCI      33\n",
            "CNtoAD        6\n",
            "Name: Transition, dtype: int64\n"
          ]
        }
      ]
    },
    {
      "cell_type": "code",
      "source": [
        "scaler = StandardScaler()\n",
        "X_train = pd.DataFrame(scaler.fit_transform(X_train))\n",
        "X_test = pd.DataFrame(scaler.fit_transform(X_test))"
      ],
      "metadata": {
        "id": "kHY4WkMjqaNT"
      },
      "execution_count": 9,
      "outputs": []
    },
    {
      "cell_type": "markdown",
      "source": [
        "# **%%%%%%%%%%%%%%%RANDOM FOREST MODEL%%%%%%%%%%%%%%%%%**"
      ],
      "metadata": {
        "id": "cEhtahiZK07Z"
      }
    },
    {
      "cell_type": "code",
      "source": [
        "from sklearn.ensemble import RandomForestClassifier\n",
        "from sklearn.metrics import accuracy_score\n",
        "\n",
        "accuracies = []\n",
        "models = []\n",
        "model_RFC = RandomForestClassifier(random_state=42) #Using Random Forest Classifier model\n",
        "model_RFC.fit(X_train,y_train) #Training\n",
        "y_pred_rfc = model_RFC.predict(X_test) #Predictions\n",
        "print(\"Model accuracy: \" + str(accuracy_score(y_test,y_pred_rfc)))\n",
        "print(classification_report(y_test,y_pred_rfc))\n",
        "print(model_RFC.classes_)\n",
        "accuracies.append(round(100*accuracy_score(y_test,y_pred_rfc),3))\n",
        "models.append('RFC')"
      ],
      "metadata": {
        "colab": {
          "base_uri": "https://localhost:8080/"
        },
        "id": "W-sQW4RWFDYx",
        "outputId": "aa895f65-ed77-422d-fb8d-55582cb93e3a"
      },
      "execution_count": 10,
      "outputs": [
        {
          "output_type": "stream",
          "name": "stderr",
          "text": [
            "<ipython-input-10-fdad10553bd2>:7: DataConversionWarning: A column-vector y was passed when a 1d array was expected. Please change the shape of y to (n_samples,), for example using ravel().\n",
            "  model_RFC.fit(X_train,y_train) #Training\n"
          ]
        },
        {
          "output_type": "stream",
          "name": "stdout",
          "text": [
            "Model accuracy: 0.8563685636856369\n",
            "              precision    recall  f1-score   support\n",
            "\n",
            "      ADtoAD       1.00      0.98      0.99        54\n",
            "      CNtoAD       0.00      0.00      0.00         6\n",
            "      CNtoCN       0.87      0.99      0.93       238\n",
            "     CNtoMCI       0.00      0.00      0.00        33\n",
            "     MCItoAD       0.78      0.61      0.69       116\n",
            "    MCItoMCI       0.85      0.93      0.89       291\n",
            "\n",
            "    accuracy                           0.86       738\n",
            "   macro avg       0.58      0.59      0.58       738\n",
            "weighted avg       0.81      0.86      0.83       738\n",
            "\n",
            "['ADtoAD' 'CNtoAD' 'CNtoCN' 'CNtoMCI' 'MCItoAD' 'MCItoMCI']\n"
          ]
        },
        {
          "output_type": "stream",
          "name": "stderr",
          "text": [
            "/usr/local/lib/python3.10/dist-packages/sklearn/metrics/_classification.py:1344: UndefinedMetricWarning: Precision and F-score are ill-defined and being set to 0.0 in labels with no predicted samples. Use `zero_division` parameter to control this behavior.\n",
            "  _warn_prf(average, modifier, msg_start, len(result))\n",
            "/usr/local/lib/python3.10/dist-packages/sklearn/metrics/_classification.py:1344: UndefinedMetricWarning: Precision and F-score are ill-defined and being set to 0.0 in labels with no predicted samples. Use `zero_division` parameter to control this behavior.\n",
            "  _warn_prf(average, modifier, msg_start, len(result))\n",
            "/usr/local/lib/python3.10/dist-packages/sklearn/metrics/_classification.py:1344: UndefinedMetricWarning: Precision and F-score are ill-defined and being set to 0.0 in labels with no predicted samples. Use `zero_division` parameter to control this behavior.\n",
            "  _warn_prf(average, modifier, msg_start, len(result))\n"
          ]
        }
      ]
    },
    {
      "cell_type": "code",
      "source": [
        "cm = confusion_matrix(y_test, y_pred_rfc, labels = model_RFC.classes_)\n",
        "disp = ConfusionMatrixDisplay(confusion_matrix = cm , display_labels = model_RFC.classes_)\n",
        "disp.plot()"
      ],
      "metadata": {
        "colab": {
          "base_uri": "https://localhost:8080/",
          "height": 467
        },
        "id": "G8XPdbKRFJbG",
        "outputId": "f5afa862-5eb7-4e7d-c0da-b002d3ffbc21"
      },
      "execution_count": 11,
      "outputs": [
        {
          "output_type": "execute_result",
          "data": {
            "text/plain": [
              "<sklearn.metrics._plot.confusion_matrix.ConfusionMatrixDisplay at 0x7efaad5b0f40>"
            ]
          },
          "metadata": {},
          "execution_count": 11
        },
        {
          "output_type": "display_data",
          "data": {
            "text/plain": [
              "<Figure size 640x480 with 2 Axes>"
            ],
            "image/png": "[encoded data removed]"
          },
          "metadata": {}
        }
      ]
    },
    {
      "cell_type": "markdown",
      "source": [
        "# **%%%%%%%%%%%%%%%XGBOOST MODEL%%%%%%%%%%%%%%%%%**"
      ],
      "metadata": {
        "id": "KLovZqMOKgsF"
      }
    },
    {
      "cell_type": "code",
      "source": [
        "list_labels = list(labels.Transition)\n",
        "label_converter = {\n",
        "    \"ADtoAD\": 0,\n",
        "    \"CNtoCN\": 1,\n",
        "    \"CNtoMCI\": 2,\n",
        "    \"MCItoAD\": 3,\n",
        "    \"MCItoMCI\": 4,\n",
        "    \"CNtoAD\": 5\n",
        "\n",
        "}\n",
        "\n",
        "\n",
        "def convert_labels(labels):\n",
        "    converted_labels = [label_converter[label] for label in labels]\n",
        "    return converted_labels\n"
      ],
      "metadata": {
        "id": "Wz2CMKmvGymL"
      },
      "execution_count": 12,
      "outputs": []
    },
    {
      "cell_type": "code",
      "source": [
        "import pandas as pd\n",
        "import xgboost as xgb\n",
        "from sklearn.model_selection import train_test_split\n",
        "from sklearn.metrics import accuracy_score\n",
        "\n",
        "np.random.seed(42)\n",
        "y_train_list = list(y_train.Transition)\n",
        "y_test_list = list(y_test.Transition)\n",
        "\n",
        "# Convert the training and testing sets into DMatrix format (specific to XGBoost)\n",
        "y_train1 = convert_labels(y_train_list)\n",
        "y_test1 = convert_labels(y_test_list)\n",
        "train_dmatrix = xgb.DMatrix(data=X_train, label=y_train1)\n",
        "test_dmatrix = xgb.DMatrix(data=X_test, label=y_test1)\n",
        "\n",
        "# Define the parameters for XGBoost\n",
        "params = {\n",
        "    'objective': 'multi:softmax',  # for multi-class classification\n",
        "    'num_class': len(label_converter),  # number of classes\n",
        "    'eval_metric': 'merror',  # evaluation metric\n",
        "    'eta': 0.1,  # learning rate\n",
        "    'max_depth': 3  # maximum depth of each tree\n",
        "}\n",
        "\n",
        "# Train the XGBoost model\n",
        "num_rounds = 100  # number of boosting rounds\n",
        "model_XGB = xgb.train(params, train_dmatrix, num_rounds)\n",
        "\n",
        "# Make predictions on the testing set\n",
        "y_pred_xgb = model_XGB.predict(test_dmatrix)\n",
        "\n",
        "# Evaluate the model\n",
        "print(\"Model accuracy: \" + str(accuracy_score(y_test1,y_pred_xgb)))\n",
        "print(classification_report(y_test1,y_pred_xgb))\n",
        "print(label_converter)\n",
        "accuracies.append(round(100*accuracy_score(y_test1,y_pred_xgb),3))\n",
        "models.append('XGB')"
      ],
      "metadata": {
        "id": "P6RcYL_4Ffnv",
        "colab": {
          "base_uri": "https://localhost:8080/"
        },
        "outputId": "8a5a285d-90cd-44c4-94fa-149c08ea5157"
      },
      "execution_count": 13,
      "outputs": [
        {
          "output_type": "stream",
          "name": "stdout",
          "text": [
            "Model accuracy: 0.8577235772357723\n",
            "              precision    recall  f1-score   support\n",
            "\n",
            "           0       1.00      1.00      1.00        54\n",
            "           1       0.87      0.96      0.92       238\n",
            "           2       0.33      0.15      0.21        33\n",
            "           3       0.77      0.66      0.71       116\n",
            "           4       0.87      0.92      0.90       291\n",
            "           5       0.00      0.00      0.00         6\n",
            "\n",
            "    accuracy                           0.86       738\n",
            "   macro avg       0.64      0.62      0.62       738\n",
            "weighted avg       0.84      0.86      0.84       738\n",
            "\n",
            "{'ADtoAD': 0, 'CNtoCN': 1, 'CNtoMCI': 2, 'MCItoAD': 3, 'MCItoMCI': 4, 'CNtoAD': 5}\n"
          ]
        },
        {
          "output_type": "stream",
          "name": "stderr",
          "text": [
            "/usr/local/lib/python3.10/dist-packages/sklearn/metrics/_classification.py:1344: UndefinedMetricWarning: Precision and F-score are ill-defined and being set to 0.0 in labels with no predicted samples. Use `zero_division` parameter to control this behavior.\n",
            "  _warn_prf(average, modifier, msg_start, len(result))\n",
            "/usr/local/lib/python3.10/dist-packages/sklearn/metrics/_classification.py:1344: UndefinedMetricWarning: Precision and F-score are ill-defined and being set to 0.0 in labels with no predicted samples. Use `zero_division` parameter to control this behavior.\n",
            "  _warn_prf(average, modifier, msg_start, len(result))\n",
            "/usr/local/lib/python3.10/dist-packages/sklearn/metrics/_classification.py:1344: UndefinedMetricWarning: Precision and F-score are ill-defined and being set to 0.0 in labels with no predicted samples. Use `zero_division` parameter to control this behavior.\n",
            "  _warn_prf(average, modifier, msg_start, len(result))\n"
          ]
        }
      ]
    },
    {
      "cell_type": "code",
      "source": [
        "print(label_converter)\n",
        "cm = confusion_matrix(y_test1, y_pred_xgb, labels = list(label_converter.values()))\n",
        "disp = ConfusionMatrixDisplay(confusion_matrix = cm , display_labels = list(label_converter.values()))\n",
        "disp.plot()"
      ],
      "metadata": {
        "id": "d6HxyEzgJaXW",
        "colab": {
          "base_uri": "https://localhost:8080/",
          "height": 486
        },
        "outputId": "a2b62546-7b6a-4526-81e5-6e47bab425d1"
      },
      "execution_count": 14,
      "outputs": [
        {
          "output_type": "stream",
          "name": "stdout",
          "text": [
            "{'ADtoAD': 0, 'CNtoCN': 1, 'CNtoMCI': 2, 'MCItoAD': 3, 'MCItoMCI': 4, 'CNtoAD': 5}\n"
          ]
        },
        {
          "output_type": "execute_result",
          "data": {
            "text/plain": [
              "<sklearn.metrics._plot.confusion_matrix.ConfusionMatrixDisplay at 0x7efaac22a140>"
            ]
          },
          "metadata": {},
          "execution_count": 14
        },
        {
          "output_type": "display_data",
          "data": {
            "text/plain": [
              "<Figure size 640x480 with 2 Axes>"
            ],
            "image/png": "[encoded data removed]"
          },
          "metadata": {}
        }
      ]
    },
    {
      "cell_type": "markdown",
      "source": [
        "# **%%%%%%%%%%%%%SUMMERIZE%%%%%%%%%%%%%%%**"
      ],
      "metadata": {
        "id": "LB4ZFkSAZfwI"
      }
    },
    {
      "cell_type": "code",
      "source": [
        "# Create a bar plot\n",
        "plt.figure(figsize = (12,6))\n",
        "sns.set(style=\"whitegrid\")  # Optional: Set a seaborn style\n",
        "ax = sns.barplot(x=models, y=accuracies, palette = \"Set3\")\n",
        "\n",
        "\n",
        "# Add labels and a title\n",
        "plt.xlabel(\"Model\")\n",
        "plt.ylabel(\"Accuracy [%]\")\n",
        "plt.title(\"Accuracies of Each Model\")\n",
        "\n",
        "# Display the values in the center of each bar\n",
        "for i, v in enumerate(accuracies):\n",
        "    ax.text(i, v + 1, str(v), ha='center', va='bottom', fontsize=10, color='black')\n",
        "\n",
        "# Show the plot\n",
        "plt.show()"
      ],
      "metadata": {
        "colab": {
          "base_uri": "https://localhost:8080/",
          "height": 573
        },
        "id": "_FH8urr_QZuD",
        "outputId": "67825746-27ce-46e7-c24f-0e3609d5d15b"
      },
      "execution_count": 15,
      "outputs": [
        {
          "output_type": "display_data",
          "data": {
            "text/plain": [
              "<Figure size 1200x600 with 1 Axes>"
            ],
            "image/png": "[encoded data removed]"
          },
          "metadata": {}
        }
      ]
    }
  ]
}
{
  "nbformat": 4,
  "nbformat_minor": 0,
  "metadata": {
    "colab": {
      "provenance": [],
      "include_colab_link": true
    },
    "kernelspec": {
      "name": "python3",
      "display_name": "Python 3"
    },
    "language_info": {
      "name": "python"
    }
  },
  "cells": [
    {
      "cell_type": "markdown",
      "metadata": {
        "id": "view-in-github",
        "colab_type": "text"
      },
      "source": [
        "<a href=\"https://colab.research.google.com/github/GuyAvni1/Final-Project-Guy-Ori/blob/main/Preproccesing/Preparation_for_Prediction.ipynb\" target=\"_parent\"><img src=\"https://colab.research.google.com/assets/colab-badge.svg\" alt=\"Open In Colab\"/></a>"
      ]
    },
    {
      "cell_type": "markdown",
      "source": [
        "# **Preparation for Prediction**\n",
        "In this part we prepare the data for prediction.\n",
        "Each patient get it's label from the present to the future with a timelapse of 'month' months (changeable parameter)."
      ],
      "metadata": {
        "id": "BCH35jLmk0hv"
      }
    },
    {
      "cell_type": "code",
      "source": [
        "import pandas as pd\n",
        "import numpy as np"
      ],
      "metadata": {
        "id": "KBFvf1bO6Vue"
      },
      "execution_count": 13,
      "outputs": []
    },
    {
      "cell_type": "code",
      "source": [
        "from google.colab import drive\n",
        "drive.mount('/content/drive')"
      ],
      "metadata": {
        "colab": {
          "base_uri": "https://localhost:8080/"
        },
        "id": "wD22Xd4nhx3E",
        "outputId": "34e4dfcd-a583-4bde-b4c3-6e94a4830577"
      },
      "execution_count": 14,
      "outputs": [
        {
          "output_type": "stream",
          "name": "stdout",
          "text": [
            "Drive already mounted at /content/drive; to attempt to forcibly remount, call drive.mount(\"/content/drive\", force_remount=True).\n"
          ]
        }
      ]
    },
    {
      "cell_type": "code",
      "source": [
        "#Reading the data set from the drive\n",
        "df = pd.read_csv(\"/content/drive/MyDrive/Final_Project_Data/df_imputed.csv\")"
      ],
      "metadata": {
        "id": "dBfv0MIU6hf-"
      },
      "execution_count": 16,
      "outputs": []
    },
    {
      "cell_type": "code",
      "source": [
        "import pandas as pd\n",
        "from google.colab import files\n",
        "\n",
        "# Function to convert VISCODE to months\n",
        "def viscode_to_month(viscode):\n",
        "    return int(viscode[1:]) if viscode.startswith('m') else 0\n",
        "\n",
        "# Replace VISCODE with integer values\n",
        "df['VISCODE'] = df['VISCODE'].apply(viscode_to_month)\n",
        "\n",
        "# Create a dictionary to store the next appointment month and DX for each patient\n",
        "next_appointment_info = {}\n",
        "\n",
        "# Add a new column 'Transition' to store the transition label\n",
        "df['Transition'] = ''\n",
        "\n",
        "# Loop through the DataFrame to find next appointments and set the transition label\n",
        "month = 12 # Number of month for prediction. Change as you wish.\n",
        "\n",
        "for index, row in df.iterrows():\n",
        "    patient_id = row['RID']\n",
        "    current_month = row['VISCODE']\n",
        "    next_month = current_month + month\n",
        "\n",
        "    # Check if the next appointment exists for the patient\n",
        "    next_appointment_row = df[(df['RID'] == patient_id) & (df['VISCODE'] == next_month)]\n",
        "    if not next_appointment_row.empty:\n",
        "        next_appointment_info[index] = {\n",
        "            'next_month': next_month,\n",
        "            'next_DX': next_appointment_row['DX'].values[0]\n",
        "        }\n",
        "\n",
        "        current_DX = row['DX']\n",
        "        next_DX = next_appointment_row['DX'].values[0]\n",
        "\n",
        "        # Define transition labels\n",
        "        if current_DX == 'CN' and next_DX == 'CN':\n",
        "            transition_label = 'CNtoCN'\n",
        "        elif current_DX == 'CN' and next_DX == 'MCI':\n",
        "            transition_label = 'CNtoMCI'\n",
        "        elif current_DX == 'MCI' and next_DX == 'MCI':\n",
        "            transition_label = 'MCItoMCI'\n",
        "        elif current_DX == 'MCI' and next_DX == 'Dementia':\n",
        "            transition_label = 'MCItoDementia'\n",
        "        elif current_DX == 'Dementia' and next_DX == 'Dementia':\n",
        "            transition_label = 'DementiatoDementia'\n",
        "        else:\n",
        "            transition_label = 'OtherTransition'\n",
        "\n",
        "        # Set the transition label in the DataFrame\n",
        "        df.at[index, 'Transition'] = transition_label\n",
        "\n",
        "# Filter rows that have a future meeting\n",
        "filtered_df = df[df.index.isin(next_appointment_info.keys())]\n",
        "\n",
        "# Save the filtered DataFrame to a new Excel file\n",
        "filtered_excel_file = 'future_of_' + str(month) + 'm.csv'\n",
        "filtered_df.to_csv(filtered_excel_file, index=False)\n",
        "files.download(filtered_excel_file)\n"
      ],
      "metadata": {
        "id": "-91tyf6fE2av",
        "colab": {
          "base_uri": "https://localhost:8080/",
          "height": 17
        },
        "outputId": "8311c3c4-d6de-4d9a-92ff-c8c9435e7363"
      },
      "execution_count": 17,
      "outputs": [
        {
          "output_type": "display_data",
          "data": {
            "text/plain": [
              "<IPython.core.display.Javascript object>"
            ],
            "application/javascript": [
              "\n",
              "    async function download(id, filename, size) {\n",
              "      if (!google.colab.kernel.accessAllowed) {\n",
              "        return;\n",
              "      }\n",
              "      const div = document.createElement('div');\n",
              "      const label = document.createElement('label');\n",
              "      label.textContent = `Downloading \"${filename}\": `;\n",
              "      div.appendChild(label);\n",
              "      const progress = document.createElement('progress');\n",
              "      progress.max = size;\n",
              "      div.appendChild(progress);\n",
              "      document.body.appendChild(div);\n",
              "\n",
              "      const buffers = [];\n",
              "      let downloaded = 0;\n",
              "\n",
              "      const channel = await google.colab.kernel.comms.open(id);\n",
              "      // Send a message to notify the kernel that we're ready.\n",
              "      channel.send({})\n",
              "\n",
              "      for await (const message of channel.messages) {\n",
              "        // Send a message to notify the kernel that we're ready.\n",
              "        channel.send({})\n",
              "        if (message.buffers) {\n",
              "          for (const buffer of message.buffers) {\n",
              "            buffers.push(buffer);\n",
              "            downloaded += buffer.byteLength;\n",
              "            progress.value = downloaded;\n",
              "          }\n",
              "        }\n",
              "      }\n",
              "      const blob = new Blob(buffers, {type: 'application/binary'});\n",
              "      const a = document.createElement('a');\n",
              "      a.href = window.URL.createObjectURL(blob);\n",
              "      a.download = filename;\n",
              "      div.appendChild(a);\n",
              "      a.click();\n",
              "      div.remove();\n",
              "    }\n",
              "  "
            ]
          },
          "metadata": {}
        },
        {
          "output_type": "display_data",
          "data": {
            "text/plain": [
              "<IPython.core.display.Javascript object>"
            ],
            "application/javascript": [
              "download(\"download_5f6368c0-01ec-4329-822f-443e13057b43\", \"future_of_12m.csv\", 1079776)"
            ]
          },
          "metadata": {}
        }
      ]
    }
  ]
}